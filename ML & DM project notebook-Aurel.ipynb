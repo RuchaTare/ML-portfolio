{
 "cells": [
  {
   "cell_type": "code",
   "execution_count": 1,
   "id": "b1c00557",
   "metadata": {},
   "outputs": [],
   "source": [
    "import os\n",
    "import numpy as np\n",
    "import cv2\n",
    "import pandas as pd\n",
    "%matplotlib inline\n",
    "import matplotlib as mpl\n",
    "import matplotlib.pyplot as plt\n",
    "mpl.rc('axes', labelsize=14)\n",
    "mpl.rc('xtick', labelsize=12)\n",
    "mpl.rc('ytick', labelsize=12)\n",
    "import sys\n",
    "assert sys.version_info >= (3, 5)\n",
    "import sklearn\n",
    "assert sklearn.__version__ >= \"0.20\"\n",
    "np.random.seed(42)\n",
    "import warnings\n",
    "warnings.filterwarnings(action=\"ignore\", message=\"^internal gelsd\")"
   ]
  },
  {
   "cell_type": "code",
   "execution_count": 2,
   "id": "73f8c40f",
   "metadata": {},
   "outputs": [],
   "source": [
    "import tensorflow as tf\n",
    "from tensorflow import keras\n",
    "\n",
    "# sklearn imports\n",
    "from sklearn import preprocessing\n",
    "from sklearn.model_selection import (train_test_split, cross_val_score, \n",
    "                                     cross_val_predict, cross_validate, \n",
    "                                     RandomizedSearchCV)\n",
    "\n",
    "from sklearn.naive_bayes import GaussianNB, MultinomialNB, ComplementNB, BernoulliNB, CategoricalNB\n",
    "from sklearn.linear_model import SGDClassifier, LogisticRegression\n",
    "from sklearn.neighbors import KNeighborsClassifier\n",
    "from sklearn.cluster import MiniBatchKMeans, KMeans\n",
    "from sklearn.mixture import GaussianMixture\n",
    "from sklearn.tree import DecisionTreeClassifier\n",
    "\n",
    "from sklearn.metrics import (accuracy_score, f1_score, recall_score, precision_score, confusion_matrix)"
   ]
  },
  {
   "cell_type": "code",
   "execution_count": 3,
   "id": "b5caa9d3",
   "metadata": {},
   "outputs": [],
   "source": [
    "development_toolkit_dir = 'C:/Users/Utilisateur/Documents/ECAM/ANNEE HERIOT WATT/Machine Learning & Data mining/ML & DM Project/DataSet/development_kit/data'\n",
    "image_train_dir = 'C:/Users/Utilisateur/Documents/ECAM/ANNEE HERIOT WATT/Machine Learning & Data mining/ML & DM Project/DataSet/images/'"
   ]
  },
  {
   "cell_type": "code",
   "execution_count": 4,
   "id": "f3435ab6",
   "metadata": {},
   "outputs": [],
   "source": [
    "images=[] #This list will contain every images read through opencv\n",
    "train_txt= '/train.txt' #This is the file giving the location of every images for the training set\n",
    "categories_txt = '/categories.txt'"
   ]
  },
  {
   "cell_type": "code",
   "execution_count": 5,
   "id": "d80fbd67",
   "metadata": {},
   "outputs": [],
   "source": [
    "#We load the development kit tool to prepare the dataset\n",
    "path = development_toolkit_dir + train_txt \n",
    "file = open(path,'r') \n",
    "#We open the txt folder, read through each lines and store them in the 'lines' list\n",
    "lines = file.readlines()\n",
    "file.close()\n",
    "#Create a 100,000 long list that will store the location of every train set images\n",
    "filename= [None]*len(lines)\n",
    "i=0\n",
    "index= []\n",
    "\n",
    "for line in lines:\n",
    "    #tmp[line]=line.split(\" \")\n",
    "    #print(line[:-3])\n",
    "    filename[i]=line[:-3] #Keep the entire string up to the last 3 characters corresponding to the categories\n",
    "    tmp=line[-3:-1]\n",
    "    index.append(int(tmp))\n",
    "    i=i+1 #increment\n",
    "    \n"
   ]
  },
  {
   "cell_type": "code",
   "execution_count": 6,
   "id": "9863e421",
   "metadata": {},
   "outputs": [],
   "source": [
    "categories_file = open(f'{development_toolkit_dir}{categories_txt}', 'r') \n",
    "category_records = categories_file.readlines()\n",
    "categories_file.close()"
   ]
  },
  {
   "cell_type": "code",
   "execution_count": 7,
   "id": "649fe351",
   "metadata": {},
   "outputs": [],
   "source": [
    "categories_dataset = []\n",
    "for category_record in category_records:\n",
    "    category_name, category_id = category_record.split(\" \")\n",
    "    category_name = category_name[3:].replace('/','-')\n",
    "    \n",
    "    categories_dataset.append(category_name)"
   ]
  },
  {
   "cell_type": "code",
   "execution_count": 8,
   "id": "2560cf89",
   "metadata": {},
   "outputs": [],
   "source": [
    "#Create Image dataset\n",
    "for image_path in filename:\n",
    "    image_w= cv2.imread(f'{image_train_dir}/{image_path}', cv2.IMREAD_COLOR)\n",
    "    image_bw = cv2.cvtColor(image_w, cv2.COLOR_BGR2GRAY)\n",
    "    image_bw = cv2.resize(image_bw, (28,28), interpolation=cv2.INTER_AREA)\n",
    "    images.append(image_bw)\n",
    "    \n",
    "                "
   ]
  },
  {
   "cell_type": "code",
   "execution_count": 9,
   "id": "291c4220",
   "metadata": {},
   "outputs": [
    {
     "name": "stdout",
     "output_type": "stream",
     "text": [
      "(28, 28) <class 'numpy.ndarray'>\n"
     ]
    }
   ],
   "source": [
    "#Verify the type of data we are working with, we want 128*128 images in greyscale\n",
    "print(image_bw.shape, type(image_bw))"
   ]
  },
  {
   "cell_type": "code",
   "execution_count": 10,
   "id": "78c57a36",
   "metadata": {},
   "outputs": [
    {
     "name": "stdout",
     "output_type": "stream",
     "text": [
      "(28, 28)\n"
     ]
    },
    {
     "data": {
      "image/png": "[encoded data removed]",
      "text/plain": [
       "<Figure size 432x288 with 1 Axes>"
      ]
     },
     "metadata": {
      "needs_background": "light"
     },
     "output_type": "display_data"
    }
   ],
   "source": [
    "#Verify again by plotting the last processed image\n",
    "plt.figure()\n",
    "plt.imshow(image_bw, cmap='Greys')\n",
    "print(image_bw.shape)"
   ]
  },
  {
   "cell_type": "code",
   "execution_count": 11,
   "id": "665ac62f",
   "metadata": {},
   "outputs": [],
   "source": [
    "images_arr = np.stack(images)\n",
    "images_arr_rsz = images_arr.reshape((len(images),-1))"
   ]
  },
  {
   "cell_type": "code",
   "execution_count": 12,
   "id": "9c0d36cf",
   "metadata": {},
   "outputs": [
    {
     "name": "stdout",
     "output_type": "stream",
     "text": [
      "(100000, 28, 28)\n"
     ]
    }
   ],
   "source": [
    "#The data is shaped to represent each pictures through a list of 128*128 elements in grayscale\n",
    "print(images_arr.shape)"
   ]
  },
  {
   "cell_type": "code",
   "execution_count": 13,
   "id": "e30d33b8",
   "metadata": {},
   "outputs": [],
   "source": [
    "#let us now convert the dataframe into a panda structure to be able to use it with non convolutional network\n",
    "df = pd.DataFrame(data=images_arr_rsz,\n",
    "                  columns=['pixels_'+str(i+1) for i in range(images_arr_rsz.shape[1])])"
   ]
  },
  {
   "cell_type": "code",
   "execution_count": 14,
   "id": "4af55e79",
   "metadata": {
    "scrolled": true
   },
   "outputs": [
    {
     "data": {
      "text/html": [
       "<div>\n",
       "<style scoped>\n",
       "    .dataframe tbody tr th:only-of-type {\n",
       "        vertical-align: middle;\n",
       "    }\n",
       "\n",
       "    .dataframe tbody tr th {\n",
       "        vertical-align: top;\n",
       "    }\n",
       "\n",
       "    .dataframe thead th {\n",
       "        text-align: right;\n",
       "    }\n",
       "</style>\n",
       "<table border=\"1\" class=\"dataframe\">\n",
       "  <thead>\n",
       "    <tr style=\"text-align: right;\">\n",
       "      <th></th>\n",
       "      <th>pixels_1</th>\n",
       "      <th>pixels_2</th>\n",
       "      <th>pixels_3</th>\n",
       "      <th>pixels_4</th>\n",
       "      <th>pixels_5</th>\n",
       "      <th>pixels_6</th>\n",
       "      <th>pixels_7</th>\n",
       "      <th>pixels_8</th>\n",
       "      <th>pixels_9</th>\n",
       "      <th>pixels_10</th>\n",
       "      <th>...</th>\n",
       "      <th>pixels_775</th>\n",
       "      <th>pixels_776</th>\n",
       "      <th>pixels_777</th>\n",
       "      <th>pixels_778</th>\n",
       "      <th>pixels_779</th>\n",
       "      <th>pixels_780</th>\n",
       "      <th>pixels_781</th>\n",
       "      <th>pixels_782</th>\n",
       "      <th>pixels_783</th>\n",
       "      <th>pixels_784</th>\n",
       "    </tr>\n",
       "  </thead>\n",
       "  <tbody>\n",
       "    <tr>\n",
       "      <th>0</th>\n",
       "      <td>62</td>\n",
       "      <td>61</td>\n",
       "      <td>67</td>\n",
       "      <td>55</td>\n",
       "      <td>80</td>\n",
       "      <td>97</td>\n",
       "      <td>99</td>\n",
       "      <td>101</td>\n",
       "      <td>103</td>\n",
       "      <td>103</td>\n",
       "      <td>...</td>\n",
       "      <td>131</td>\n",
       "      <td>122</td>\n",
       "      <td>112</td>\n",
       "      <td>91</td>\n",
       "      <td>73</td>\n",
       "      <td>61</td>\n",
       "      <td>140</td>\n",
       "      <td>77</td>\n",
       "      <td>78</td>\n",
       "      <td>76</td>\n",
       "    </tr>\n",
       "    <tr>\n",
       "      <th>1</th>\n",
       "      <td>118</td>\n",
       "      <td>141</td>\n",
       "      <td>216</td>\n",
       "      <td>250</td>\n",
       "      <td>252</td>\n",
       "      <td>254</td>\n",
       "      <td>254</td>\n",
       "      <td>252</td>\n",
       "      <td>229</td>\n",
       "      <td>251</td>\n",
       "      <td>...</td>\n",
       "      <td>107</td>\n",
       "      <td>107</td>\n",
       "      <td>108</td>\n",
       "      <td>105</td>\n",
       "      <td>104</td>\n",
       "      <td>96</td>\n",
       "      <td>89</td>\n",
       "      <td>117</td>\n",
       "      <td>111</td>\n",
       "      <td>86</td>\n",
       "    </tr>\n",
       "    <tr>\n",
       "      <th>2</th>\n",
       "      <td>214</td>\n",
       "      <td>221</td>\n",
       "      <td>230</td>\n",
       "      <td>238</td>\n",
       "      <td>244</td>\n",
       "      <td>244</td>\n",
       "      <td>243</td>\n",
       "      <td>245</td>\n",
       "      <td>248</td>\n",
       "      <td>250</td>\n",
       "      <td>...</td>\n",
       "      <td>115</td>\n",
       "      <td>110</td>\n",
       "      <td>114</td>\n",
       "      <td>110</td>\n",
       "      <td>80</td>\n",
       "      <td>74</td>\n",
       "      <td>86</td>\n",
       "      <td>68</td>\n",
       "      <td>46</td>\n",
       "      <td>27</td>\n",
       "    </tr>\n",
       "    <tr>\n",
       "      <th>3</th>\n",
       "      <td>24</td>\n",
       "      <td>57</td>\n",
       "      <td>100</td>\n",
       "      <td>149</td>\n",
       "      <td>106</td>\n",
       "      <td>88</td>\n",
       "      <td>123</td>\n",
       "      <td>59</td>\n",
       "      <td>33</td>\n",
       "      <td>36</td>\n",
       "      <td>...</td>\n",
       "      <td>20</td>\n",
       "      <td>21</td>\n",
       "      <td>21</td>\n",
       "      <td>21</td>\n",
       "      <td>22</td>\n",
       "      <td>21</td>\n",
       "      <td>21</td>\n",
       "      <td>21</td>\n",
       "      <td>22</td>\n",
       "      <td>24</td>\n",
       "    </tr>\n",
       "    <tr>\n",
       "      <th>4</th>\n",
       "      <td>128</td>\n",
       "      <td>129</td>\n",
       "      <td>129</td>\n",
       "      <td>128</td>\n",
       "      <td>128</td>\n",
       "      <td>128</td>\n",
       "      <td>128</td>\n",
       "      <td>128</td>\n",
       "      <td>128</td>\n",
       "      <td>127</td>\n",
       "      <td>...</td>\n",
       "      <td>105</td>\n",
       "      <td>106</td>\n",
       "      <td>110</td>\n",
       "      <td>108</td>\n",
       "      <td>107</td>\n",
       "      <td>109</td>\n",
       "      <td>112</td>\n",
       "      <td>115</td>\n",
       "      <td>115</td>\n",
       "      <td>114</td>\n",
       "    </tr>\n",
       "    <tr>\n",
       "      <th>...</th>\n",
       "      <td>...</td>\n",
       "      <td>...</td>\n",
       "      <td>...</td>\n",
       "      <td>...</td>\n",
       "      <td>...</td>\n",
       "      <td>...</td>\n",
       "      <td>...</td>\n",
       "      <td>...</td>\n",
       "      <td>...</td>\n",
       "      <td>...</td>\n",
       "      <td>...</td>\n",
       "      <td>...</td>\n",
       "      <td>...</td>\n",
       "      <td>...</td>\n",
       "      <td>...</td>\n",
       "      <td>...</td>\n",
       "      <td>...</td>\n",
       "      <td>...</td>\n",
       "      <td>...</td>\n",
       "      <td>...</td>\n",
       "      <td>...</td>\n",
       "    </tr>\n",
       "    <tr>\n",
       "      <th>99995</th>\n",
       "      <td>216</td>\n",
       "      <td>213</td>\n",
       "      <td>224</td>\n",
       "      <td>247</td>\n",
       "      <td>250</td>\n",
       "      <td>252</td>\n",
       "      <td>254</td>\n",
       "      <td>251</td>\n",
       "      <td>253</td>\n",
       "      <td>254</td>\n",
       "      <td>...</td>\n",
       "      <td>93</td>\n",
       "      <td>100</td>\n",
       "      <td>102</td>\n",
       "      <td>94</td>\n",
       "      <td>87</td>\n",
       "      <td>95</td>\n",
       "      <td>96</td>\n",
       "      <td>96</td>\n",
       "      <td>89</td>\n",
       "      <td>86</td>\n",
       "    </tr>\n",
       "    <tr>\n",
       "      <th>99996</th>\n",
       "      <td>10</td>\n",
       "      <td>9</td>\n",
       "      <td>8</td>\n",
       "      <td>9</td>\n",
       "      <td>9</td>\n",
       "      <td>8</td>\n",
       "      <td>8</td>\n",
       "      <td>8</td>\n",
       "      <td>10</td>\n",
       "      <td>11</td>\n",
       "      <td>...</td>\n",
       "      <td>97</td>\n",
       "      <td>91</td>\n",
       "      <td>82</td>\n",
       "      <td>81</td>\n",
       "      <td>76</td>\n",
       "      <td>68</td>\n",
       "      <td>64</td>\n",
       "      <td>59</td>\n",
       "      <td>42</td>\n",
       "      <td>33</td>\n",
       "    </tr>\n",
       "    <tr>\n",
       "      <th>99997</th>\n",
       "      <td>246</td>\n",
       "      <td>241</td>\n",
       "      <td>174</td>\n",
       "      <td>140</td>\n",
       "      <td>93</td>\n",
       "      <td>67</td>\n",
       "      <td>45</td>\n",
       "      <td>33</td>\n",
       "      <td>31</td>\n",
       "      <td>22</td>\n",
       "      <td>...</td>\n",
       "      <td>46</td>\n",
       "      <td>56</td>\n",
       "      <td>74</td>\n",
       "      <td>61</td>\n",
       "      <td>58</td>\n",
       "      <td>49</td>\n",
       "      <td>62</td>\n",
       "      <td>83</td>\n",
       "      <td>96</td>\n",
       "      <td>78</td>\n",
       "    </tr>\n",
       "    <tr>\n",
       "      <th>99998</th>\n",
       "      <td>70</td>\n",
       "      <td>53</td>\n",
       "      <td>93</td>\n",
       "      <td>109</td>\n",
       "      <td>85</td>\n",
       "      <td>56</td>\n",
       "      <td>110</td>\n",
       "      <td>89</td>\n",
       "      <td>70</td>\n",
       "      <td>88</td>\n",
       "      <td>...</td>\n",
       "      <td>53</td>\n",
       "      <td>20</td>\n",
       "      <td>13</td>\n",
       "      <td>39</td>\n",
       "      <td>31</td>\n",
       "      <td>41</td>\n",
       "      <td>59</td>\n",
       "      <td>97</td>\n",
       "      <td>188</td>\n",
       "      <td>187</td>\n",
       "    </tr>\n",
       "    <tr>\n",
       "      <th>99999</th>\n",
       "      <td>106</td>\n",
       "      <td>105</td>\n",
       "      <td>96</td>\n",
       "      <td>100</td>\n",
       "      <td>103</td>\n",
       "      <td>97</td>\n",
       "      <td>94</td>\n",
       "      <td>76</td>\n",
       "      <td>51</td>\n",
       "      <td>26</td>\n",
       "      <td>...</td>\n",
       "      <td>149</td>\n",
       "      <td>148</td>\n",
       "      <td>152</td>\n",
       "      <td>155</td>\n",
       "      <td>157</td>\n",
       "      <td>158</td>\n",
       "      <td>158</td>\n",
       "      <td>154</td>\n",
       "      <td>156</td>\n",
       "      <td>158</td>\n",
       "    </tr>\n",
       "  </tbody>\n",
       "</table>\n",
       "<p>100000 rows × 784 columns</p>\n",
       "</div>"
      ],
      "text/plain": [
       "       pixels_1  pixels_2  pixels_3  pixels_4  pixels_5  pixels_6  pixels_7  \\\n",
       "0            62        61        67        55        80        97        99   \n",
       "1           118       141       216       250       252       254       254   \n",
       "2           214       221       230       238       244       244       243   \n",
       "3            24        57       100       149       106        88       123   \n",
       "4           128       129       129       128       128       128       128   \n",
       "...         ...       ...       ...       ...       ...       ...       ...   \n",
       "99995       216       213       224       247       250       252       254   \n",
       "99996        10         9         8         9         9         8         8   \n",
       "99997       246       241       174       140        93        67        45   \n",
       "99998        70        53        93       109        85        56       110   \n",
       "99999       106       105        96       100       103        97        94   \n",
       "\n",
       "       pixels_8  pixels_9  pixels_10  ...  pixels_775  pixels_776  pixels_777  \\\n",
       "0           101       103        103  ...         131         122         112   \n",
       "1           252       229        251  ...         107         107         108   \n",
       "2           245       248        250  ...         115         110         114   \n",
       "3            59        33         36  ...          20          21          21   \n",
       "4           128       128        127  ...         105         106         110   \n",
       "...         ...       ...        ...  ...         ...         ...         ...   \n",
       "99995       251       253        254  ...          93         100         102   \n",
       "99996         8        10         11  ...          97          91          82   \n",
       "99997        33        31         22  ...          46          56          74   \n",
       "99998        89        70         88  ...          53          20          13   \n",
       "99999        76        51         26  ...         149         148         152   \n",
       "\n",
       "       pixels_778  pixels_779  pixels_780  pixels_781  pixels_782  pixels_783  \\\n",
       "0              91          73          61         140          77          78   \n",
       "1             105         104          96          89         117         111   \n",
       "2             110          80          74          86          68          46   \n",
       "3              21          22          21          21          21          22   \n",
       "4             108         107         109         112         115         115   \n",
       "...           ...         ...         ...         ...         ...         ...   \n",
       "99995          94          87          95          96          96          89   \n",
       "99996          81          76          68          64          59          42   \n",
       "99997          61          58          49          62          83          96   \n",
       "99998          39          31          41          59          97         188   \n",
       "99999         155         157         158         158         154         156   \n",
       "\n",
       "       pixels_784  \n",
       "0              76  \n",
       "1              86  \n",
       "2              27  \n",
       "3              24  \n",
       "4             114  \n",
       "...           ...  \n",
       "99995          86  \n",
       "99996          33  \n",
       "99997          78  \n",
       "99998         187  \n",
       "99999         158  \n",
       "\n",
       "[100000 rows x 784 columns]"
      ]
     },
     "execution_count": 14,
     "metadata": {},
     "output_type": "execute_result"
    }
   ],
   "source": [
    "# df['index'] = index\n",
    "df"
   ]
  },
  {
   "cell_type": "markdown",
   "id": "cbe77d30",
   "metadata": {},
   "source": [
    "### Splitting the dataset as 0.8/0.2"
   ]
  },
  {
   "cell_type": "code",
   "execution_count": 15,
   "id": "cff29b64",
   "metadata": {},
   "outputs": [],
   "source": [
    "index_arr = np.array(index)"
   ]
  },
  {
   "cell_type": "code",
   "execution_count": 16,
   "id": "d8bc6092",
   "metadata": {},
   "outputs": [],
   "source": [
    "index_arr = index_arr[:12000]"
   ]
  },
  {
   "cell_type": "code",
   "execution_count": 17,
   "id": "95624aef",
   "metadata": {},
   "outputs": [],
   "source": [
    "images_arr = images_arr[:12000]"
   ]
  },
  {
   "cell_type": "code",
   "execution_count": 18,
   "id": "0a8eb5e3",
   "metadata": {},
   "outputs": [
    {
     "data": {
      "text/plain": [
       "(12000, 28, 28)"
      ]
     },
     "execution_count": 18,
     "metadata": {},
     "output_type": "execute_result"
    }
   ],
   "source": [
    "images_arr.shape"
   ]
  },
  {
   "cell_type": "code",
   "execution_count": 19,
   "id": "26839efd",
   "metadata": {},
   "outputs": [],
   "source": [
    "X_test, X_train_inventory, y_test, y_train_inventory = train_test_split(images_arr, index_arr, test_size=0.98, random_state=42, stratify=index_arr)"
   ]
  },
  {
   "cell_type": "code",
   "execution_count": 63,
   "id": "fcc2ebd5",
   "metadata": {},
   "outputs": [
    {
     "data": {
      "text/plain": [
       "(11760, 28, 28)"
      ]
     },
     "execution_count": 63,
     "metadata": {},
     "output_type": "execute_result"
    }
   ],
   "source": [
    "X_train_inventory.shape"
   ]
  },
  {
   "cell_type": "code",
   "execution_count": 64,
   "id": "603885da",
   "metadata": {},
   "outputs": [],
   "source": [
    "X_train, X_valid = X_train_inventory[:9000], X_train_inventory[9000:]\n",
    "y_train, y_valid = y_train_inventory[:9000], y_train_inventory[9000:]"
   ]
  },
  {
   "cell_type": "code",
   "execution_count": 66,
   "id": "72399088",
   "metadata": {},
   "outputs": [
    {
     "name": "stdout",
     "output_type": "stream",
     "text": [
      "amphitheater\n"
     ]
    }
   ],
   "source": [
    "print(categories_dataset[y_train[205]])"
   ]
  },
  {
   "cell_type": "code",
   "execution_count": 65,
   "id": "fcd125bf",
   "metadata": {},
   "outputs": [
    {
     "data": {
      "image/png": "[encoded data removed]",
      "text/plain": [
       "<Figure size 432x288 with 1 Axes>"
      ]
     },
     "metadata": {
      "needs_background": "light"
     },
     "output_type": "display_data"
    }
   ],
   "source": [
    "plt.imshow(X_train[205], cmap=\"binary\")\n",
    "plt.axis('off')\n",
    "plt.show()"
   ]
  },
  {
   "cell_type": "markdown",
   "id": "36cdb561",
   "metadata": {},
   "source": [
    "# Using the Multi Layer Perception"
   ]
  },
  {
   "cell_type": "markdown",
   "id": "f0ec8415",
   "metadata": {},
   "source": [
    "## Building the network"
   ]
  },
  {
   "cell_type": "code",
   "execution_count": 30,
   "id": "b169315e",
   "metadata": {},
   "outputs": [],
   "source": [
    "model = keras.models.Sequential()\n",
    "model.add(keras.layers.Flatten(input_shape=[28, 28])) # first layer convert each input image into a 1D array\n",
    "model.add(keras.layers.Dense(512, activation=\"relu\")) #hidden layer with 300 neurons useing the ReLU activation function.\n",
    "model.add(keras.layers.Dense(512, activation=\"relu\")) #hidden layer with 300 neurons useing the ReLU activation function.\n",
    "#hidden layer with 100 neurons using the ReLU\n",
    "\n",
    "model.add(keras.layers.Dense(100, activation=\"softmax\")) #output layer with 100 neurons (one per class), using the softmax "
   ]
  },
  {
   "cell_type": "code",
   "execution_count": 31,
   "id": "cd5bfa3a",
   "metadata": {},
   "outputs": [],
   "source": [
    "keras.backend.clear_session()\n",
    "np.random.seed(42)\n",
    "tf.random.set_seed(42)"
   ]
  },
  {
   "cell_type": "code",
   "execution_count": 32,
   "id": "ff2915f3",
   "metadata": {},
   "outputs": [
    {
     "name": "stdout",
     "output_type": "stream",
     "text": [
      "Model: \"sequential\"\n",
      "_________________________________________________________________\n",
      " Layer (type)                Output Shape              Param #   \n",
      "=================================================================\n",
      " flatten (Flatten)           (None, 784)               0         \n",
      "                                                                 \n",
      " dense (Dense)               (None, 512)               401920    \n",
      "                                                                 \n",
      " dense_1 (Dense)             (None, 512)               262656    \n",
      "                                                                 \n",
      " dense_2 (Dense)             (None, 100)               51300     \n",
      "                                                                 \n",
      "=================================================================\n",
      "Total params: 715,876\n",
      "Trainable params: 715,876\n",
      "Non-trainable params: 0\n",
      "_________________________________________________________________\n"
     ]
    }
   ],
   "source": [
    "model.summary()"
   ]
  },
  {
   "cell_type": "markdown",
   "id": "e7c69135",
   "metadata": {},
   "source": [
    "## Training the network"
   ]
  },
  {
   "cell_type": "code",
   "execution_count": 33,
   "id": "5690c1b4",
   "metadata": {},
   "outputs": [],
   "source": [
    "model.compile(loss=\"sparse_categorical_crossentropy\",\n",
    "              optimizer=\"adam\", #\"sgd\" simply means that we will train the model using simple Stochastic Gradient Descent\n",
    "              metrics=[\"accuracy\"])"
   ]
  },
  {
   "cell_type": "code",
   "execution_count": 34,
   "id": "e84c98af",
   "metadata": {},
   "outputs": [
    {
     "name": "stdout",
     "output_type": "stream",
     "text": [
      "Epoch 1/30\n",
      "43/43 [==============================] - 3s 36ms/step - loss: 97.9393 - accuracy: 0.0982 - val_loss: 13.6031 - val_accuracy: 0.1211\n",
      "Epoch 2/30\n",
      "43/43 [==============================] - 1s 23ms/step - loss: 8.9958 - accuracy: 0.1235 - val_loss: 6.6410 - val_accuracy: 0.1395\n",
      "Epoch 3/30\n",
      "43/43 [==============================] - 1s 23ms/step - loss: 5.4997 - accuracy: 0.1281 - val_loss: 4.6528 - val_accuracy: 0.1105\n",
      "Epoch 4/30\n",
      "43/43 [==============================] - 1s 23ms/step - loss: 3.9117 - accuracy: 0.1395 - val_loss: 3.6709 - val_accuracy: 0.1513\n",
      "Epoch 5/30\n",
      "43/43 [==============================] - 1s 21ms/step - loss: 3.2045 - accuracy: 0.1487 - val_loss: 3.2662 - val_accuracy: 0.1329\n",
      "Epoch 6/30\n",
      "43/43 [==============================] - 1s 23ms/step - loss: 2.8614 - accuracy: 0.1674 - val_loss: 2.9370 - val_accuracy: 0.1382\n",
      "Epoch 7/30\n",
      "43/43 [==============================] - 1s 28ms/step - loss: 2.6396 - accuracy: 0.1747 - val_loss: 2.7667 - val_accuracy: 0.1539\n",
      "Epoch 8/30\n",
      "43/43 [==============================] - 1s 23ms/step - loss: 2.5281 - accuracy: 0.1857 - val_loss: 2.6837 - val_accuracy: 0.1592\n",
      "Epoch 9/30\n",
      "43/43 [==============================] - 1s 22ms/step - loss: 2.4866 - accuracy: 0.1903 - val_loss: 2.7533 - val_accuracy: 0.1553\n",
      "Epoch 10/30\n",
      "43/43 [==============================] - 1s 21ms/step - loss: 2.3939 - accuracy: 0.2035 - val_loss: 2.6022 - val_accuracy: 0.1632\n",
      "Epoch 11/30\n",
      "43/43 [==============================] - 1s 21ms/step - loss: 2.3804 - accuracy: 0.2055 - val_loss: 2.6637 - val_accuracy: 0.1724\n",
      "Epoch 12/30\n",
      "43/43 [==============================] - 1s 23ms/step - loss: 2.3344 - accuracy: 0.2155 - val_loss: 2.6713 - val_accuracy: 0.1487\n",
      "Epoch 13/30\n",
      "43/43 [==============================] - 1s 21ms/step - loss: 2.3183 - accuracy: 0.2210 - val_loss: 2.6660 - val_accuracy: 0.1737\n",
      "Epoch 14/30\n",
      "43/43 [==============================] - 1s 21ms/step - loss: 2.2752 - accuracy: 0.2346 - val_loss: 2.6231 - val_accuracy: 0.1750\n",
      "Epoch 15/30\n",
      "43/43 [==============================] - 1s 20ms/step - loss: 2.2380 - accuracy: 0.2471 - val_loss: 2.5695 - val_accuracy: 0.1645\n",
      "Epoch 16/30\n",
      "43/43 [==============================] - 1s 22ms/step - loss: 2.2199 - accuracy: 0.2504 - val_loss: 2.5447 - val_accuracy: 0.2026\n",
      "Epoch 17/30\n",
      "43/43 [==============================] - 1s 23ms/step - loss: 2.1821 - accuracy: 0.2615 - val_loss: 2.5960 - val_accuracy: 0.1803\n",
      "Epoch 18/30\n",
      "43/43 [==============================] - 1s 22ms/step - loss: 2.1860 - accuracy: 0.2621 - val_loss: 2.6383 - val_accuracy: 0.1684\n",
      "Epoch 19/30\n",
      "43/43 [==============================] - 1s 23ms/step - loss: 2.1503 - accuracy: 0.2657 - val_loss: 2.6144 - val_accuracy: 0.1618\n",
      "Epoch 20/30\n",
      "43/43 [==============================] - 1s 21ms/step - loss: 2.1458 - accuracy: 0.2737 - val_loss: 2.6117 - val_accuracy: 0.1895\n",
      "Epoch 21/30\n",
      "43/43 [==============================] - 1s 22ms/step - loss: 2.1219 - accuracy: 0.2774 - val_loss: 2.5759 - val_accuracy: 0.1908\n",
      "Epoch 22/30\n",
      "43/43 [==============================] - 1s 22ms/step - loss: 2.0855 - accuracy: 0.2866 - val_loss: 2.6122 - val_accuracy: 0.1908\n",
      "Epoch 23/30\n",
      "43/43 [==============================] - 1s 24ms/step - loss: 2.0758 - accuracy: 0.2935 - val_loss: 2.5485 - val_accuracy: 0.1934\n",
      "Epoch 24/30\n",
      "43/43 [==============================] - 1s 23ms/step - loss: 2.0501 - accuracy: 0.2971 - val_loss: 2.5996 - val_accuracy: 0.1895\n",
      "Epoch 25/30\n",
      "43/43 [==============================] - 1s 26ms/step - loss: 2.0254 - accuracy: 0.3095 - val_loss: 2.6013 - val_accuracy: 0.2026\n",
      "Epoch 26/30\n",
      "43/43 [==============================] - 1s 21ms/step - loss: 1.9977 - accuracy: 0.3178 - val_loss: 2.6620 - val_accuracy: 0.1724\n",
      "Epoch 27/30\n",
      "43/43 [==============================] - 1s 21ms/step - loss: 2.0135 - accuracy: 0.3156 - val_loss: 2.7156 - val_accuracy: 0.1711\n",
      "Epoch 28/30\n",
      "43/43 [==============================] - 1s 21ms/step - loss: 1.9957 - accuracy: 0.3162 - val_loss: 2.7193 - val_accuracy: 0.1868\n",
      "Epoch 29/30\n",
      "43/43 [==============================] - 1s 23ms/step - loss: 2.0025 - accuracy: 0.3143 - val_loss: 2.7055 - val_accuracy: 0.1776\n",
      "Epoch 30/30\n",
      "43/43 [==============================] - 1s 23ms/step - loss: 1.9608 - accuracy: 0.3285 - val_loss: 2.6507 - val_accuracy: 0.1908\n"
     ]
    }
   ],
   "source": [
    "history = model.fit(X_train, y_train, batch_size=256, epochs=30,\n",
    "                    validation_data=(X_valid, y_valid))"
   ]
  },
  {
   "cell_type": "markdown",
   "id": "25e5ff4c",
   "metadata": {},
   "source": [
    "### Network training curve & evaluation"
   ]
  },
  {
   "cell_type": "code",
   "execution_count": 35,
   "id": "a024c5ff",
   "metadata": {},
   "outputs": [
    {
     "data": {
      "image/png": "[encoded data removed]",
      "text/plain": [
       "<Figure size 576x360 with 1 Axes>"
      ]
     },
     "metadata": {
      "needs_background": "light"
     },
     "output_type": "display_data"
    }
   ],
   "source": [
    "pd.DataFrame(history.history).plot(figsize=(8, 5))\n",
    "plt.grid(True)\n",
    "plt.gca().set_ylim(0, 1)\n",
    "plt.show()"
   ]
  },
  {
   "cell_type": "code",
   "execution_count": 36,
   "id": "0c69ae3d",
   "metadata": {},
   "outputs": [
    {
     "name": "stdout",
     "output_type": "stream",
     "text": [
      "8/8 [==============================] - 0s 5ms/step - loss: 2.6084 - accuracy: 0.1708\n"
     ]
    },
    {
     "data": {
      "text/plain": [
       "[2.608372688293457, 0.17083333432674408]"
      ]
     },
     "execution_count": 36,
     "metadata": {},
     "output_type": "execute_result"
    }
   ],
   "source": [
    "model.evaluate(X_test, y_test)"
   ]
  },
  {
   "cell_type": "markdown",
   "id": "436c75f6",
   "metadata": {},
   "source": [
    "# Using ANN and CNN"
   ]
  },
  {
   "cell_type": "code",
   "execution_count": 67,
   "id": "fe846b20",
   "metadata": {},
   "outputs": [
    {
     "name": "stdout",
     "output_type": "stream",
     "text": [
      "Model: \"sequential_4\"\n",
      "_________________________________________________________________\n",
      " Layer (type)                Output Shape              Param #   \n",
      "=================================================================\n",
      " conv2d_8 (Conv2D)           (None, 26, 26, 64)        640       \n",
      "                                                                 \n",
      " max_pooling2d_8 (MaxPooling  (None, 13, 13, 64)       0         \n",
      " 2D)                                                             \n",
      "                                                                 \n",
      " conv2d_9 (Conv2D)           (None, 11, 11, 64)        36928     \n",
      "                                                                 \n",
      " max_pooling2d_9 (MaxPooling  (None, 5, 5, 64)         0         \n",
      " 2D)                                                             \n",
      "                                                                 \n",
      " flatten_4 (Flatten)         (None, 1600)              0         \n",
      "                                                                 \n",
      " dense_8 (Dense)             (None, 128)               204928    \n",
      "                                                                 \n",
      " dense_9 (Dense)             (None, 100)               12900     \n",
      "                                                                 \n",
      "=================================================================\n",
      "Total params: 255,396\n",
      "Trainable params: 255,396\n",
      "Non-trainable params: 0\n",
      "_________________________________________________________________\n"
     ]
    }
   ],
   "source": [
    "model2 = tf.keras.models.Sequential([\n",
    "  tf.keras.layers.Conv2D(64, (3,3), activation='relu', input_shape=(28, 28, 1)),\n",
    "  tf.keras.layers.MaxPooling2D(2, 2),\n",
    "  tf.keras.layers.Conv2D(64, (3,3), activation='relu'),\n",
    "  tf.keras.layers.MaxPooling2D(2,2),\n",
    "  tf.keras.layers.Flatten(),\n",
    "  tf.keras.layers.Dense(128, activation='relu'),\n",
    "  tf.keras.layers.Dense(100, activation='softmax')\n",
    "])\n",
    "model2.compile(optimizer='adam', loss='sparse_categorical_crossentropy', metrics=['accuracy'])\n",
    "model2.summary()"
   ]
  },
  {
   "cell_type": "code",
   "execution_count": 68,
   "id": "d08c6670",
   "metadata": {},
   "outputs": [
    {
     "name": "stdout",
     "output_type": "stream",
     "text": [
      "Epoch 1/20\n",
      "282/282 [==============================] - 13s 41ms/step - loss: 3.1616 - accuracy: 0.1399 - val_loss: 2.3094 - val_accuracy: 0.2043\n",
      "Epoch 2/20\n",
      "282/282 [==============================] - 11s 38ms/step - loss: 2.2671 - accuracy: 0.2191 - val_loss: 2.2297 - val_accuracy: 0.2449\n",
      "Epoch 3/20\n",
      "282/282 [==============================] - 11s 39ms/step - loss: 2.1825 - accuracy: 0.2546 - val_loss: 2.2398 - val_accuracy: 0.2395\n",
      "Epoch 4/20\n",
      "282/282 [==============================] - 11s 38ms/step - loss: 2.0935 - accuracy: 0.2838 - val_loss: 2.3093 - val_accuracy: 0.2496\n",
      "Epoch 5/20\n",
      "282/282 [==============================] - 11s 38ms/step - loss: 1.9950 - accuracy: 0.3266 - val_loss: 2.2017 - val_accuracy: 0.2533\n",
      "Epoch 6/20\n",
      "282/282 [==============================] - 11s 38ms/step - loss: 1.8829 - accuracy: 0.3680 - val_loss: 2.2223 - val_accuracy: 0.2783\n",
      "Epoch 7/20\n",
      "282/282 [==============================] - 11s 39ms/step - loss: 1.7825 - accuracy: 0.4032 - val_loss: 2.2917 - val_accuracy: 0.2757\n",
      "Epoch 8/20\n",
      "282/282 [==============================] - 11s 39ms/step - loss: 1.6481 - accuracy: 0.4457 - val_loss: 2.4017 - val_accuracy: 0.2880\n",
      "Epoch 9/20\n",
      "282/282 [==============================] - 11s 38ms/step - loss: 1.5028 - accuracy: 0.4954 - val_loss: 2.4570 - val_accuracy: 0.2736\n",
      "Epoch 10/20\n",
      "282/282 [==============================] - 11s 39ms/step - loss: 1.3518 - accuracy: 0.5491 - val_loss: 2.7319 - val_accuracy: 0.2522\n",
      "Epoch 11/20\n",
      "282/282 [==============================] - 11s 39ms/step - loss: 1.1795 - accuracy: 0.6102 - val_loss: 3.0851 - val_accuracy: 0.2819\n",
      "Epoch 12/20\n",
      "282/282 [==============================] - 11s 38ms/step - loss: 1.0440 - accuracy: 0.6462 - val_loss: 3.0930 - val_accuracy: 0.2681\n",
      "Epoch 13/20\n",
      "282/282 [==============================] - 11s 39ms/step - loss: 0.8914 - accuracy: 0.7058 - val_loss: 3.4875 - val_accuracy: 0.2598\n",
      "Epoch 14/20\n",
      "282/282 [==============================] - 11s 40ms/step - loss: 0.7437 - accuracy: 0.7498 - val_loss: 3.8252 - val_accuracy: 0.2703\n",
      "Epoch 15/20\n",
      "282/282 [==============================] - 11s 38ms/step - loss: 0.6715 - accuracy: 0.7814 - val_loss: 4.1189 - val_accuracy: 0.2489\n",
      "Epoch 16/20\n",
      "282/282 [==============================] - 11s 39ms/step - loss: 0.5584 - accuracy: 0.8200 - val_loss: 4.8425 - val_accuracy: 0.2547\n",
      "Epoch 17/20\n",
      "282/282 [==============================] - 11s 39ms/step - loss: 0.4586 - accuracy: 0.8517 - val_loss: 5.0419 - val_accuracy: 0.2428\n",
      "Epoch 18/20\n",
      "282/282 [==============================] - 11s 38ms/step - loss: 0.3993 - accuracy: 0.8721 - val_loss: 5.3131 - val_accuracy: 0.2409\n",
      "Epoch 19/20\n",
      "282/282 [==============================] - 11s 38ms/step - loss: 0.3399 - accuracy: 0.8899 - val_loss: 6.0523 - val_accuracy: 0.2362\n",
      "Epoch 20/20\n",
      "282/282 [==============================] - 11s 38ms/step - loss: 0.3087 - accuracy: 0.9004 - val_loss: 6.2134 - val_accuracy: 0.2399\n"
     ]
    }
   ],
   "source": [
    "cnn = model2.fit(X_train, y_train, epochs=20, validation_data=(X_valid, y_valid))"
   ]
  },
  {
   "cell_type": "code",
   "execution_count": 69,
   "id": "acb262cf",
   "metadata": {},
   "outputs": [
    {
     "data": {
      "image/png": "[encoded data removed]",
      "text/plain": [
       "<Figure size 576x360 with 1 Axes>"
      ]
     },
     "metadata": {
      "needs_background": "light"
     },
     "output_type": "display_data"
    }
   ],
   "source": [
    "pd.DataFrame(cnn.history).plot(figsize=(8, 5))\n",
    "plt.grid(True)\n",
    "plt.gca().set_ylim(0, 1)\n",
    "plt.show()"
   ]
  },
  {
   "cell_type": "code",
   "execution_count": 70,
   "id": "37afca20",
   "metadata": {},
   "outputs": [
    {
     "name": "stdout",
     "output_type": "stream",
     "text": [
      "8/8 [==============================] - 0s 11ms/step - loss: 6.7100 - accuracy: 0.2042\n"
     ]
    },
    {
     "data": {
      "text/plain": [
       "[6.710019111633301, 0.20416666567325592]"
      ]
     },
     "execution_count": 70,
     "metadata": {},
     "output_type": "execute_result"
    }
   ],
   "source": [
    "model2.evaluate(X_test, y_test)"
   ]
  }
 ],
 "metadata": {
  "kernelspec": {
   "display_name": "Python 3 (ipykernel)",
   "language": "python",
   "name": "python3"
  },
  "language_info": {
   "codemirror_mode": {
    "name": "ipython",
    "version": 3
   },
   "file_extension": ".py",
   "mimetype": "text/x-python",
   "name": "python",
   "nbconvert_exporter": "python",
   "pygments_lexer": "ipython3",
   "version": "3.9.12"
  }
 },
 "nbformat": 4,
 "nbformat_minor": 5
}
