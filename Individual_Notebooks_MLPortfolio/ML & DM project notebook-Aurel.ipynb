{
 "cells": [
  {
   "cell_type": "markdown",
   "id": "b256ef4a",
   "metadata": {},
   "source": [
    "# This notebook takles only the neural network part of the project"
   ]
  },
  {
   "cell_type": "code",
   "execution_count": 1,
   "id": "b1c00557",
   "metadata": {},
   "outputs": [],
   "source": [
    "import os\n",
    "import numpy as np\n",
    "import cv2\n",
    "import pandas as pd\n",
    "%matplotlib inline\n",
    "import matplotlib as mpl\n",
    "import matplotlib.pyplot as plt\n",
    "mpl.rc('axes', labelsize=14)\n",
    "mpl.rc('xtick', labelsize=12)\n",
    "mpl.rc('ytick', labelsize=12)\n",
    "import sys\n",
    "assert sys.version_info >= (3, 5)\n",
    "import sklearn\n",
    "assert sklearn.__version__ >= \"0.20\"\n",
    "np.random.seed(42)\n",
    "import warnings\n",
    "warnings.filterwarnings(action=\"ignore\", message=\"^internal gelsd\")"
   ]
  },
  {
   "cell_type": "code",
   "execution_count": 2,
   "id": "73f8c40f",
   "metadata": {},
   "outputs": [],
   "source": [
    "import tensorflow as tf\n",
    "from tensorflow import keras\n",
    "\n",
    "# sklearn imports\n",
    "from sklearn import preprocessing\n",
    "from sklearn.model_selection import (train_test_split, cross_val_score, \n",
    "                                     cross_val_predict, cross_validate, \n",
    "                                     RandomizedSearchCV)\n",
    "\n",
    "from sklearn.naive_bayes import GaussianNB, MultinomialNB, ComplementNB, BernoulliNB, CategoricalNB\n",
    "from sklearn.linear_model import SGDClassifier, LogisticRegression\n",
    "from sklearn.neighbors import KNeighborsClassifier\n",
    "from sklearn.cluster import MiniBatchKMeans, KMeans\n",
    "from sklearn.mixture import GaussianMixture\n",
    "from sklearn.tree import DecisionTreeClassifier\n",
    "\n",
    "from sklearn.metrics import (accuracy_score, f1_score, recall_score, precision_score, confusion_matrix)"
   ]
  },
  {
   "cell_type": "code",
   "execution_count": 3,
   "id": "b5caa9d3",
   "metadata": {},
   "outputs": [],
   "source": [
    "development_toolkit_dir = 'C:/Users/Utilisateur/Documents/ECAM/ANNEE HERIOT WATT/Machine Learning & Data mining/ML & DM Project/DataSet/development_kit/data'\n",
    "image_train_dir = 'C:/Users/Utilisateur/Documents/ECAM/ANNEE HERIOT WATT/Machine Learning & Data mining/ML & DM Project/DataSet/images/'"
   ]
  },
  {
   "cell_type": "code",
   "execution_count": 4,
   "id": "f3435ab6",
   "metadata": {},
   "outputs": [],
   "source": [
    "images=[] #This list will contain every images read through opencv\n",
    "train_txt= '/train.txt' #This is the file giving the location of every images for the training set\n",
    "categories_txt = '/categories.txt'"
   ]
  },
  {
   "cell_type": "code",
   "execution_count": 5,
   "id": "d80fbd67",
   "metadata": {},
   "outputs": [],
   "source": [
    "#We load the development kit tool to prepare the dataset\n",
    "path = development_toolkit_dir + train_txt \n",
    "file = open(path,'r') \n",
    "#We open the txt folder, read through each lines and store them in the 'lines' list\n",
    "lines = file.readlines()\n",
    "file.close()\n",
    "#Create a 100,000 long list that will store the location of every train set images\n",
    "filename= [None]*len(lines)\n",
    "i=0\n",
    "index= []\n",
    "\n",
    "for line in lines:\n",
    "    #tmp[line]=line.split(\" \")\n",
    "    #print(line[:-3])\n",
    "    filename[i]=line[:-3] #Keep the entire string up to the last 3 characters corresponding to the categories\n",
    "    tmp=line[-3:-1]\n",
    "    index.append(int(tmp))\n",
    "    i=i+1 #increment\n",
    "    \n"
   ]
  },
  {
   "cell_type": "code",
   "execution_count": 6,
   "id": "9863e421",
   "metadata": {},
   "outputs": [],
   "source": [
    "categories_file = open(f'{development_toolkit_dir}{categories_txt}', 'r') \n",
    "category_records = categories_file.readlines()\n",
    "categories_file.close()"
   ]
  },
  {
   "cell_type": "code",
   "execution_count": 7,
   "id": "649fe351",
   "metadata": {},
   "outputs": [],
   "source": [
    "categories_dataset = []\n",
    "for category_record in category_records:\n",
    "    category_name, category_id = category_record.split(\" \")\n",
    "    category_name = category_name[3:].replace('/','-')\n",
    "    \n",
    "    categories_dataset.append(category_name)"
   ]
  },
  {
   "cell_type": "code",
   "execution_count": 8,
   "id": "2560cf89",
   "metadata": {},
   "outputs": [],
   "source": [
    "#Create Image dataset\n",
    "for image_path in filename:\n",
    "    image_w= cv2.imread(f'{image_train_dir}/{image_path}', cv2.IMREAD_COLOR)\n",
    "    image_bw = cv2.cvtColor(image_w, cv2.COLOR_BGR2GRAY)\n",
    "    image_bw = cv2.resize(image_bw, (28,28), interpolation=cv2.INTER_AREA)\n",
    "    images.append(image_bw)\n",
    "    \n",
    "                "
   ]
  },
  {
   "cell_type": "code",
   "execution_count": 9,
   "id": "291c4220",
   "metadata": {},
   "outputs": [
    {
     "name": "stdout",
     "output_type": "stream",
     "text": [
      "(28, 28) <class 'numpy.ndarray'>\n"
     ]
    }
   ],
   "source": [
    "#Verify the type of data we are working with, we want 128*128 images in greyscale\n",
    "print(image_bw.shape, type(image_bw))"
   ]
  },
  {
   "cell_type": "code",
   "execution_count": 10,
   "id": "78c57a36",
   "metadata": {},
   "outputs": [
    {
     "name": "stdout",
     "output_type": "stream",
     "text": [
      "(28, 28)\n"
     ]
    },
    {
     "data": {
      "image/png": "[encoded data removed]",
      "text/plain": [
       "<Figure size 432x288 with 1 Axes>"
      ]
     },
     "metadata": {
      "needs_background": "light"
     },
     "output_type": "display_data"
    }
   ],
   "source": [
    "#Verify again by plotting the last processed image\n",
    "plt.figure()\n",
    "plt.imshow(image_bw, cmap='Greys')\n",
    "print(image_bw.shape)"
   ]
  },
  {
   "cell_type": "code",
   "execution_count": 11,
   "id": "665ac62f",
   "metadata": {},
   "outputs": [],
   "source": [
    "images_arr = np.stack(images)\n",
    "images_arr_rsz = images_arr.reshape((len(images),-1))"
   ]
  },
  {
   "cell_type": "code",
   "execution_count": 12,
   "id": "9c0d36cf",
   "metadata": {},
   "outputs": [
    {
     "name": "stdout",
     "output_type": "stream",
     "text": [
      "(100000, 28, 28)\n"
     ]
    }
   ],
   "source": [
    "#The data is shaped to represent each pictures through a list of 128*128 elements in grayscale\n",
    "print(images_arr.shape)"
   ]
  },
  {
   "cell_type": "code",
   "execution_count": 13,
   "id": "e30d33b8",
   "metadata": {},
   "outputs": [],
   "source": [
    "#let us now convert the dataframe into a panda structure to be able to use it with non convolutional network\n",
    "df = pd.DataFrame(data=images_arr_rsz,\n",
    "                  columns=['pixels_'+str(i+1) for i in range(images_arr_rsz.shape[1])])"
   ]
  },
  {
   "cell_type": "code",
   "execution_count": 14,
   "id": "4af55e79",
   "metadata": {
    "scrolled": true
   },
   "outputs": [
    {
     "data": {
      "text/html": [
       "<div>\n",
       "<style scoped>\n",
       "    .dataframe tbody tr th:only-of-type {\n",
       "        vertical-align: middle;\n",
       "    }\n",
       "\n",
       "    .dataframe tbody tr th {\n",
       "        vertical-align: top;\n",
       "    }\n",
       "\n",
       "    .dataframe thead th {\n",
       "        text-align: right;\n",
       "    }\n",
       "</style>\n",
       "<table border=\"1\" class=\"dataframe\">\n",
       "  <thead>\n",
       "    <tr style=\"text-align: right;\">\n",
       "      <th></th>\n",
       "      <th>pixels_1</th>\n",
       "      <th>pixels_2</th>\n",
       "      <th>pixels_3</th>\n",
       "      <th>pixels_4</th>\n",
       "      <th>pixels_5</th>\n",
       "      <th>pixels_6</th>\n",
       "      <th>pixels_7</th>\n",
       "      <th>pixels_8</th>\n",
       "      <th>pixels_9</th>\n",
       "      <th>pixels_10</th>\n",
       "      <th>...</th>\n",
       "      <th>pixels_775</th>\n",
       "      <th>pixels_776</th>\n",
       "      <th>pixels_777</th>\n",
       "      <th>pixels_778</th>\n",
       "      <th>pixels_779</th>\n",
       "      <th>pixels_780</th>\n",
       "      <th>pixels_781</th>\n",
       "      <th>pixels_782</th>\n",
       "      <th>pixels_783</th>\n",
       "      <th>pixels_784</th>\n",
       "    </tr>\n",
       "  </thead>\n",
       "  <tbody>\n",
       "    <tr>\n",
       "      <th>0</th>\n",
       "      <td>62</td>\n",
       "      <td>61</td>\n",
       "      <td>67</td>\n",
       "      <td>55</td>\n",
       "      <td>80</td>\n",
       "      <td>97</td>\n",
       "      <td>99</td>\n",
       "      <td>101</td>\n",
       "      <td>103</td>\n",
       "      <td>103</td>\n",
       "      <td>...</td>\n",
       "      <td>131</td>\n",
       "      <td>122</td>\n",
       "      <td>112</td>\n",
       "      <td>91</td>\n",
       "      <td>73</td>\n",
       "      <td>61</td>\n",
       "      <td>140</td>\n",
       "      <td>77</td>\n",
       "      <td>78</td>\n",
       "      <td>76</td>\n",
       "    </tr>\n",
       "    <tr>\n",
       "      <th>1</th>\n",
       "      <td>118</td>\n",
       "      <td>141</td>\n",
       "      <td>216</td>\n",
       "      <td>250</td>\n",
       "      <td>252</td>\n",
       "      <td>254</td>\n",
       "      <td>254</td>\n",
       "      <td>252</td>\n",
       "      <td>229</td>\n",
       "      <td>251</td>\n",
       "      <td>...</td>\n",
       "      <td>107</td>\n",
       "      <td>107</td>\n",
       "      <td>108</td>\n",
       "      <td>105</td>\n",
       "      <td>104</td>\n",
       "      <td>96</td>\n",
       "      <td>89</td>\n",
       "      <td>117</td>\n",
       "      <td>111</td>\n",
       "      <td>86</td>\n",
       "    </tr>\n",
       "    <tr>\n",
       "      <th>2</th>\n",
       "      <td>214</td>\n",
       "      <td>221</td>\n",
       "      <td>230</td>\n",
       "      <td>238</td>\n",
       "      <td>244</td>\n",
       "      <td>244</td>\n",
       "      <td>243</td>\n",
       "      <td>245</td>\n",
       "      <td>248</td>\n",
       "      <td>250</td>\n",
       "      <td>...</td>\n",
       "      <td>115</td>\n",
       "      <td>110</td>\n",
       "      <td>114</td>\n",
       "      <td>110</td>\n",
       "      <td>80</td>\n",
       "      <td>74</td>\n",
       "      <td>86</td>\n",
       "      <td>68</td>\n",
       "      <td>46</td>\n",
       "      <td>27</td>\n",
       "    </tr>\n",
       "    <tr>\n",
       "      <th>3</th>\n",
       "      <td>24</td>\n",
       "      <td>57</td>\n",
       "      <td>100</td>\n",
       "      <td>149</td>\n",
       "      <td>106</td>\n",
       "      <td>88</td>\n",
       "      <td>123</td>\n",
       "      <td>59</td>\n",
       "      <td>33</td>\n",
       "      <td>36</td>\n",
       "      <td>...</td>\n",
       "      <td>20</td>\n",
       "      <td>21</td>\n",
       "      <td>21</td>\n",
       "      <td>21</td>\n",
       "      <td>22</td>\n",
       "      <td>21</td>\n",
       "      <td>21</td>\n",
       "      <td>21</td>\n",
       "      <td>22</td>\n",
       "      <td>24</td>\n",
       "    </tr>\n",
       "    <tr>\n",
       "      <th>4</th>\n",
       "      <td>128</td>\n",
       "      <td>129</td>\n",
       "      <td>129</td>\n",
       "      <td>128</td>\n",
       "      <td>128</td>\n",
       "      <td>128</td>\n",
       "      <td>128</td>\n",
       "      <td>128</td>\n",
       "      <td>128</td>\n",
       "      <td>127</td>\n",
       "      <td>...</td>\n",
       "      <td>105</td>\n",
       "      <td>106</td>\n",
       "      <td>110</td>\n",
       "      <td>108</td>\n",
       "      <td>107</td>\n",
       "      <td>109</td>\n",
       "      <td>112</td>\n",
       "      <td>115</td>\n",
       "      <td>115</td>\n",
       "      <td>114</td>\n",
       "    </tr>\n",
       "    <tr>\n",
       "      <th>...</th>\n",
       "      <td>...</td>\n",
       "      <td>...</td>\n",
       "      <td>...</td>\n",
       "      <td>...</td>\n",
       "      <td>...</td>\n",
       "      <td>...</td>\n",
       "      <td>...</td>\n",
       "      <td>...</td>\n",
       "      <td>...</td>\n",
       "      <td>...</td>\n",
       "      <td>...</td>\n",
       "      <td>...</td>\n",
       "      <td>...</td>\n",
       "      <td>...</td>\n",
       "      <td>...</td>\n",
       "      <td>...</td>\n",
       "      <td>...</td>\n",
       "      <td>...</td>\n",
       "      <td>...</td>\n",
       "      <td>...</td>\n",
       "      <td>...</td>\n",
       "    </tr>\n",
       "    <tr>\n",
       "      <th>99995</th>\n",
       "      <td>216</td>\n",
       "      <td>213</td>\n",
       "      <td>224</td>\n",
       "      <td>247</td>\n",
       "      <td>250</td>\n",
       "      <td>252</td>\n",
       "      <td>254</td>\n",
       "      <td>251</td>\n",
       "      <td>253</td>\n",
       "      <td>254</td>\n",
       "      <td>...</td>\n",
       "      <td>93</td>\n",
       "      <td>100</td>\n",
       "      <td>102</td>\n",
       "      <td>94</td>\n",
       "      <td>87</td>\n",
       "      <td>95</td>\n",
       "      <td>96</td>\n",
       "      <td>96</td>\n",
       "      <td>89</td>\n",
       "      <td>86</td>\n",
       "    </tr>\n",
       "    <tr>\n",
       "      <th>99996</th>\n",
       "      <td>10</td>\n",
       "      <td>9</td>\n",
       "      <td>8</td>\n",
       "      <td>9</td>\n",
       "      <td>9</td>\n",
       "      <td>8</td>\n",
       "      <td>8</td>\n",
       "      <td>8</td>\n",
       "      <td>10</td>\n",
       "      <td>11</td>\n",
       "      <td>...</td>\n",
       "      <td>97</td>\n",
       "      <td>91</td>\n",
       "      <td>82</td>\n",
       "      <td>81</td>\n",
       "      <td>76</td>\n",
       "      <td>68</td>\n",
       "      <td>64</td>\n",
       "      <td>59</td>\n",
       "      <td>42</td>\n",
       "      <td>33</td>\n",
       "    </tr>\n",
       "    <tr>\n",
       "      <th>99997</th>\n",
       "      <td>246</td>\n",
       "      <td>241</td>\n",
       "      <td>174</td>\n",
       "      <td>140</td>\n",
       "      <td>93</td>\n",
       "      <td>67</td>\n",
       "      <td>45</td>\n",
       "      <td>33</td>\n",
       "      <td>31</td>\n",
       "      <td>22</td>\n",
       "      <td>...</td>\n",
       "      <td>46</td>\n",
       "      <td>56</td>\n",
       "      <td>74</td>\n",
       "      <td>61</td>\n",
       "      <td>58</td>\n",
       "      <td>49</td>\n",
       "      <td>62</td>\n",
       "      <td>83</td>\n",
       "      <td>96</td>\n",
       "      <td>78</td>\n",
       "    </tr>\n",
       "    <tr>\n",
       "      <th>99998</th>\n",
       "      <td>70</td>\n",
       "      <td>53</td>\n",
       "      <td>93</td>\n",
       "      <td>109</td>\n",
       "      <td>85</td>\n",
       "      <td>56</td>\n",
       "      <td>110</td>\n",
       "      <td>89</td>\n",
       "      <td>70</td>\n",
       "      <td>88</td>\n",
       "      <td>...</td>\n",
       "      <td>53</td>\n",
       "      <td>20</td>\n",
       "      <td>13</td>\n",
       "      <td>39</td>\n",
       "      <td>31</td>\n",
       "      <td>41</td>\n",
       "      <td>59</td>\n",
       "      <td>97</td>\n",
       "      <td>188</td>\n",
       "      <td>187</td>\n",
       "    </tr>\n",
       "    <tr>\n",
       "      <th>99999</th>\n",
       "      <td>106</td>\n",
       "      <td>105</td>\n",
       "      <td>96</td>\n",
       "      <td>100</td>\n",
       "      <td>103</td>\n",
       "      <td>97</td>\n",
       "      <td>94</td>\n",
       "      <td>76</td>\n",
       "      <td>51</td>\n",
       "      <td>26</td>\n",
       "      <td>...</td>\n",
       "      <td>149</td>\n",
       "      <td>148</td>\n",
       "      <td>152</td>\n",
       "      <td>155</td>\n",
       "      <td>157</td>\n",
       "      <td>158</td>\n",
       "      <td>158</td>\n",
       "      <td>154</td>\n",
       "      <td>156</td>\n",
       "      <td>158</td>\n",
       "    </tr>\n",
       "  </tbody>\n",
       "</table>\n",
       "<p>100000 rows × 784 columns</p>\n",
       "</div>"
      ],
      "text/plain": [
       "       pixels_1  pixels_2  pixels_3  pixels_4  pixels_5  pixels_6  pixels_7  \\\n",
       "0            62        61        67        55        80        97        99   \n",
       "1           118       141       216       250       252       254       254   \n",
       "2           214       221       230       238       244       244       243   \n",
       "3            24        57       100       149       106        88       123   \n",
       "4           128       129       129       128       128       128       128   \n",
       "...         ...       ...       ...       ...       ...       ...       ...   \n",
       "99995       216       213       224       247       250       252       254   \n",
       "99996        10         9         8         9         9         8         8   \n",
       "99997       246       241       174       140        93        67        45   \n",
       "99998        70        53        93       109        85        56       110   \n",
       "99999       106       105        96       100       103        97        94   \n",
       "\n",
       "       pixels_8  pixels_9  pixels_10  ...  pixels_775  pixels_776  pixels_777  \\\n",
       "0           101       103        103  ...         131         122         112   \n",
       "1           252       229        251  ...         107         107         108   \n",
       "2           245       248        250  ...         115         110         114   \n",
       "3            59        33         36  ...          20          21          21   \n",
       "4           128       128        127  ...         105         106         110   \n",
       "...         ...       ...        ...  ...         ...         ...         ...   \n",
       "99995       251       253        254  ...          93         100         102   \n",
       "99996         8        10         11  ...          97          91          82   \n",
       "99997        33        31         22  ...          46          56          74   \n",
       "99998        89        70         88  ...          53          20          13   \n",
       "99999        76        51         26  ...         149         148         152   \n",
       "\n",
       "       pixels_778  pixels_779  pixels_780  pixels_781  pixels_782  pixels_783  \\\n",
       "0              91          73          61         140          77          78   \n",
       "1             105         104          96          89         117         111   \n",
       "2             110          80          74          86          68          46   \n",
       "3              21          22          21          21          21          22   \n",
       "4             108         107         109         112         115         115   \n",
       "...           ...         ...         ...         ...         ...         ...   \n",
       "99995          94          87          95          96          96          89   \n",
       "99996          81          76          68          64          59          42   \n",
       "99997          61          58          49          62          83          96   \n",
       "99998          39          31          41          59          97         188   \n",
       "99999         155         157         158         158         154         156   \n",
       "\n",
       "       pixels_784  \n",
       "0              76  \n",
       "1              86  \n",
       "2              27  \n",
       "3              24  \n",
       "4             114  \n",
       "...           ...  \n",
       "99995          86  \n",
       "99996          33  \n",
       "99997          78  \n",
       "99998         187  \n",
       "99999         158  \n",
       "\n",
       "[100000 rows x 784 columns]"
      ]
     },
     "execution_count": 14,
     "metadata": {},
     "output_type": "execute_result"
    }
   ],
   "source": [
    "# df['index'] = index\n",
    "df"
   ]
  },
  {
   "cell_type": "markdown",
   "id": "cbe77d30",
   "metadata": {},
   "source": [
    "### Splitting the dataset as 0.9/0.1"
   ]
  },
  {
   "cell_type": "markdown",
   "id": "0989e5e4",
   "metadata": {},
   "source": [
    "We want to process the data and put them in correct format and size for one to train a network. We will consider using 90% of the data as training and the remaining 10% as testing data. We only consider the first 20,000 images which corresponds to 20 categories, doing so allows for lighter computation and easier optimization of network."
   ]
  },
  {
   "cell_type": "code",
   "execution_count": 15,
   "id": "cff29b64",
   "metadata": {},
   "outputs": [],
   "source": [
    "index_arr = np.array(index)"
   ]
  },
  {
   "cell_type": "code",
   "execution_count": 16,
   "id": "d8bc6092",
   "metadata": {},
   "outputs": [],
   "source": [
    "index_arr = index_arr[:20000]"
   ]
  },
  {
   "cell_type": "code",
   "execution_count": 17,
   "id": "95624aef",
   "metadata": {},
   "outputs": [],
   "source": [
    "images_arr = images_arr[:20000]"
   ]
  },
  {
   "cell_type": "code",
   "execution_count": 18,
   "id": "0a8eb5e3",
   "metadata": {},
   "outputs": [
    {
     "data": {
      "text/plain": [
       "(20000, 28, 28)"
      ]
     },
     "execution_count": 18,
     "metadata": {},
     "output_type": "execute_result"
    }
   ],
   "source": [
    "images_arr.shape"
   ]
  },
  {
   "cell_type": "markdown",
   "id": "cbadc5f2",
   "metadata": {},
   "source": [
    "The splitting of the data includes a shuffling, as such images in the X_test are highly likely to posess examples for each of the first 20 categories."
   ]
  },
  {
   "cell_type": "code",
   "execution_count": 19,
   "id": "26839efd",
   "metadata": {},
   "outputs": [],
   "source": [
    "X_test, X_train_inventory, y_test, y_train_inventory = train_test_split(images_arr, index_arr, test_size=0.90, random_state=42, stratify=index_arr)"
   ]
  },
  {
   "cell_type": "code",
   "execution_count": 20,
   "id": "fcc2ebd5",
   "metadata": {},
   "outputs": [
    {
     "data": {
      "text/plain": [
       "(18000, 28, 28)"
      ]
     },
     "execution_count": 20,
     "metadata": {},
     "output_type": "execute_result"
    }
   ],
   "source": [
    "X_train_inventory.shape"
   ]
  },
  {
   "cell_type": "code",
   "execution_count": 21,
   "id": "603885da",
   "metadata": {},
   "outputs": [],
   "source": [
    "X_train, X_valid = X_train_inventory[:16000], X_train_inventory[16000:]\n",
    "y_train, y_valid = y_train_inventory[:16000], y_train_inventory[16000:]"
   ]
  },
  {
   "cell_type": "markdown",
   "id": "23be8354",
   "metadata": {},
   "source": [
    "Here is an example of a random image and its category"
   ]
  },
  {
   "cell_type": "code",
   "execution_count": 22,
   "id": "72399088",
   "metadata": {},
   "outputs": [
    {
     "name": "stdout",
     "output_type": "stream",
     "text": [
      "bakery-shop\n"
     ]
    }
   ],
   "source": [
    "print(categories_dataset[y_train[205]])"
   ]
  },
  {
   "cell_type": "code",
   "execution_count": 23,
   "id": "fcd125bf",
   "metadata": {
    "scrolled": true
   },
   "outputs": [
    {
     "data": {
      "image/png": "[encoded data removed]",
      "text/plain": [
       "<Figure size 432x288 with 1 Axes>"
      ]
     },
     "metadata": {
      "needs_background": "light"
     },
     "output_type": "display_data"
    }
   ],
   "source": [
    "plt.imshow(X_train[205], cmap=\"binary\")\n",
    "plt.axis('off')\n",
    "plt.show()"
   ]
  },
  {
   "cell_type": "markdown",
   "id": "36cdb561",
   "metadata": {},
   "source": [
    "# Using the Multi Layer Perception"
   ]
  },
  {
   "cell_type": "markdown",
   "id": "ca482f2c",
   "metadata": {},
   "source": [
    "Multi layer perception is a kind of neural network in three parts designating groups of layers. The input and output layers and the hidden ones which are \"in-between\". They can be used to solve complex nonlinear problems because of their high adapdability to the scale of the dataset"
   ]
  },
  {
   "cell_type": "markdown",
   "id": "f0ec8415",
   "metadata": {},
   "source": [
    "## Building the network"
   ]
  },
  {
   "cell_type": "markdown",
   "id": "64142cb0",
   "metadata": {},
   "source": [
    "This network is modeled as an input layer of 784 inputs (28*28), two 512 neurons layers and a last layer of size 20, one neuron for each class."
   ]
  },
  {
   "cell_type": "code",
   "execution_count": 81,
   "id": "b169315e",
   "metadata": {},
   "outputs": [],
   "source": [
    "model = keras.models.Sequential()\n",
    "model.add(keras.layers.Flatten(input_shape=[28, 28])) # first layer convert each input image into a 1D array\n",
    "model.add(keras.layers.Dense(512, activation=\"relu\")) #hidden layer with 300 neurons useing the ReLU activation function.\n",
    "model.add(keras.layers.Dense(512, activation=\"relu\")) #hidden layer with 300 neurons useing the ReLU activation function.\n",
    "#hidden layer with 100 neurons using the ReLU\n",
    "\n",
    "model.add(keras.layers.Dense(20, activation=\"softmax\")) #output layer with 20 neurons (one per class), using the softmax "
   ]
  },
  {
   "cell_type": "code",
   "execution_count": 82,
   "id": "cd5bfa3a",
   "metadata": {},
   "outputs": [],
   "source": [
    "keras.backend.clear_session()\n",
    "np.random.seed(42)\n",
    "tf.random.set_seed(42)"
   ]
  },
  {
   "cell_type": "code",
   "execution_count": 83,
   "id": "ff2915f3",
   "metadata": {},
   "outputs": [
    {
     "name": "stdout",
     "output_type": "stream",
     "text": [
      "Model: \"sequential_7\"\n",
      "_________________________________________________________________\n",
      " Layer (type)                Output Shape              Param #   \n",
      "=================================================================\n",
      " flatten_7 (Flatten)         (None, 784)               0         \n",
      "                                                                 \n",
      " dense_14 (Dense)            (None, 512)               401920    \n",
      "                                                                 \n",
      " dense_15 (Dense)            (None, 512)               262656    \n",
      "                                                                 \n",
      " dense_16 (Dense)            (None, 20)                10260     \n",
      "                                                                 \n",
      "=================================================================\n",
      "Total params: 674,836\n",
      "Trainable params: 674,836\n",
      "Non-trainable params: 0\n",
      "_________________________________________________________________\n"
     ]
    }
   ],
   "source": [
    "model.summary()"
   ]
  },
  {
   "cell_type": "markdown",
   "id": "e7c69135",
   "metadata": {},
   "source": [
    "## Training the network"
   ]
  },
  {
   "cell_type": "code",
   "execution_count": 84,
   "id": "5690c1b4",
   "metadata": {},
   "outputs": [],
   "source": [
    "model.compile(loss=\"sparse_categorical_crossentropy\",\n",
    "              optimizer=\"adam\", #\"sgd\" simply means that we will train the model using simple Stochastic Gradient Descent\n",
    "              metrics=[\"accuracy\"])"
   ]
  },
  {
   "cell_type": "code",
   "execution_count": 85,
   "id": "e84c98af",
   "metadata": {},
   "outputs": [
    {
     "name": "stdout",
     "output_type": "stream",
     "text": [
      "Epoch 1/30\n",
      "63/63 [==============================] - 3s 24ms/step - loss: 51.9963 - accuracy: 0.0549 - val_loss: 5.0151 - val_accuracy: 0.0625\n",
      "Epoch 2/30\n",
      "63/63 [==============================] - 1s 19ms/step - loss: 3.6903 - accuracy: 0.0677 - val_loss: 3.2354 - val_accuracy: 0.0690\n",
      "Epoch 3/30\n",
      "63/63 [==============================] - 1s 19ms/step - loss: 3.0556 - accuracy: 0.0791 - val_loss: 3.0405 - val_accuracy: 0.0930\n",
      "Epoch 4/30\n",
      "63/63 [==============================] - 1s 18ms/step - loss: 2.9493 - accuracy: 0.0904 - val_loss: 3.0068 - val_accuracy: 0.0910\n",
      "Epoch 5/30\n",
      "63/63 [==============================] - 1s 19ms/step - loss: 2.9126 - accuracy: 0.1024 - val_loss: 2.9910 - val_accuracy: 0.0920\n",
      "Epoch 6/30\n",
      "63/63 [==============================] - 2s 24ms/step - loss: 2.8825 - accuracy: 0.1101 - val_loss: 2.9777 - val_accuracy: 0.0940\n",
      "Epoch 7/30\n",
      "63/63 [==============================] - 1s 20ms/step - loss: 2.8558 - accuracy: 0.1174 - val_loss: 2.9827 - val_accuracy: 0.0995\n",
      "Epoch 8/30\n",
      "63/63 [==============================] - 1s 18ms/step - loss: 2.8433 - accuracy: 0.1219 - val_loss: 2.9845 - val_accuracy: 0.1015\n",
      "Epoch 9/30\n",
      "63/63 [==============================] - 1s 18ms/step - loss: 2.8248 - accuracy: 0.1227 - val_loss: 2.9872 - val_accuracy: 0.1005\n",
      "Epoch 10/30\n",
      "63/63 [==============================] - 1s 18ms/step - loss: 2.8030 - accuracy: 0.1350 - val_loss: 2.9970 - val_accuracy: 0.0985\n",
      "Epoch 11/30\n",
      "63/63 [==============================] - 1s 19ms/step - loss: 2.7850 - accuracy: 0.1395 - val_loss: 2.9955 - val_accuracy: 0.1070\n",
      "Epoch 12/30\n",
      "63/63 [==============================] - 1s 19ms/step - loss: 2.7839 - accuracy: 0.1381 - val_loss: 2.9958 - val_accuracy: 0.1015\n",
      "Epoch 13/30\n",
      "63/63 [==============================] - 1s 18ms/step - loss: 2.7638 - accuracy: 0.1467 - val_loss: 2.9863 - val_accuracy: 0.1020\n",
      "Epoch 14/30\n",
      "63/63 [==============================] - 1s 19ms/step - loss: 2.7491 - accuracy: 0.1511 - val_loss: 3.0144 - val_accuracy: 0.1025\n",
      "Epoch 15/30\n",
      "63/63 [==============================] - 1s 17ms/step - loss: 2.7321 - accuracy: 0.1544 - val_loss: 3.0137 - val_accuracy: 0.1085\n",
      "Epoch 16/30\n",
      "63/63 [==============================] - 1s 20ms/step - loss: 2.7242 - accuracy: 0.1591 - val_loss: 3.0203 - val_accuracy: 0.1070\n",
      "Epoch 17/30\n",
      "63/63 [==============================] - 1s 19ms/step - loss: 2.7139 - accuracy: 0.1583 - val_loss: 3.0630 - val_accuracy: 0.1030\n",
      "Epoch 18/30\n",
      "63/63 [==============================] - 1s 19ms/step - loss: 2.7328 - accuracy: 0.1531 - val_loss: 3.0224 - val_accuracy: 0.1185\n",
      "Epoch 19/30\n",
      "63/63 [==============================] - 1s 20ms/step - loss: 2.6881 - accuracy: 0.1639 - val_loss: 3.0431 - val_accuracy: 0.1095\n",
      "Epoch 20/30\n",
      "63/63 [==============================] - 1s 20ms/step - loss: 2.6726 - accuracy: 0.1761 - val_loss: 3.0313 - val_accuracy: 0.1130\n",
      "Epoch 21/30\n",
      "63/63 [==============================] - 1s 19ms/step - loss: 2.6661 - accuracy: 0.1761 - val_loss: 3.0423 - val_accuracy: 0.1105\n",
      "Epoch 22/30\n",
      "63/63 [==============================] - 1s 20ms/step - loss: 2.6593 - accuracy: 0.1798 - val_loss: 3.0370 - val_accuracy: 0.1165\n",
      "Epoch 23/30\n",
      "63/63 [==============================] - 1s 18ms/step - loss: 2.6523 - accuracy: 0.1762 - val_loss: 3.1425 - val_accuracy: 0.1125\n",
      "Epoch 24/30\n",
      "63/63 [==============================] - 1s 19ms/step - loss: 2.6551 - accuracy: 0.1814 - val_loss: 3.0890 - val_accuracy: 0.1085\n",
      "Epoch 25/30\n",
      "63/63 [==============================] - 1s 19ms/step - loss: 2.7669 - accuracy: 0.1766 - val_loss: 3.1864 - val_accuracy: 0.0825\n",
      "Epoch 26/30\n",
      "63/63 [==============================] - 1s 19ms/step - loss: 2.7359 - accuracy: 0.1513 - val_loss: 3.0848 - val_accuracy: 0.1165\n",
      "Epoch 27/30\n",
      "63/63 [==============================] - 1s 19ms/step - loss: 2.6450 - accuracy: 0.1806 - val_loss: 3.1006 - val_accuracy: 0.1225\n",
      "Epoch 28/30\n",
      "63/63 [==============================] - 1s 18ms/step - loss: 2.6123 - accuracy: 0.1928 - val_loss: 3.1149 - val_accuracy: 0.1155\n",
      "Epoch 29/30\n",
      "63/63 [==============================] - 1s 19ms/step - loss: 2.6168 - accuracy: 0.1892 - val_loss: 3.1470 - val_accuracy: 0.1075\n",
      "Epoch 30/30\n",
      "63/63 [==============================] - 1s 18ms/step - loss: 2.5979 - accuracy: 0.1931 - val_loss: 3.1468 - val_accuracy: 0.1135\n"
     ]
    }
   ],
   "source": [
    "history = model.fit(X_train, y_train, batch_size=256, epochs=30,\n",
    "                    validation_data=(X_valid, y_valid))"
   ]
  },
  {
   "cell_type": "markdown",
   "id": "25e5ff4c",
   "metadata": {},
   "source": [
    "### Network training curve & evaluation"
   ]
  },
  {
   "cell_type": "markdown",
   "id": "f1c318d0",
   "metadata": {},
   "source": [
    "The metrics given during the training already gives us an insight on the accuracy of our trained network. However, one can visualize the evolution of traning over epochs as well as evaluate it with our testing set (20% of the entire dataset in our case)"
   ]
  },
  {
   "cell_type": "code",
   "execution_count": 86,
   "id": "a024c5ff",
   "metadata": {},
   "outputs": [
    {
     "data": {
      "image/png": "[encoded data removed]",
      "text/plain": [
       "<Figure size 576x360 with 1 Axes>"
      ]
     },
     "metadata": {
      "needs_background": "light"
     },
     "output_type": "display_data"
    }
   ],
   "source": [
    "pd.DataFrame(history.history).plot(figsize=(8, 5))\n",
    "plt.grid(True)\n",
    "plt.gca().set_ylim(0, 1)\n",
    "plt.show()"
   ]
  },
  {
   "cell_type": "code",
   "execution_count": 30,
   "id": "0c69ae3d",
   "metadata": {},
   "outputs": [
    {
     "name": "stdout",
     "output_type": "stream",
     "text": [
      "63/63 [==============================] - 0s 6ms/step - loss: 3.2460 - accuracy: 0.1075\n"
     ]
    },
    {
     "data": {
      "text/plain": [
       "[3.246034622192383, 0.10750000178813934]"
      ]
     },
     "execution_count": 30,
     "metadata": {},
     "output_type": "execute_result"
    }
   ],
   "source": [
    "model.evaluate(X_test, y_test)"
   ]
  },
  {
   "cell_type": "markdown",
   "id": "58aa865b",
   "metadata": {},
   "source": [
    "The accuracy is not satisfying, our network obtains a good classification every ten itterations. Our dataset preset higher complexity than regular benchmark datasets such as MNIST. However, it is known that convolutional neural networks work best on image dataset."
   ]
  },
  {
   "cell_type": "markdown",
   "id": "436c75f6",
   "metadata": {},
   "source": [
    "# Using ANN and CNN"
   ]
  },
  {
   "cell_type": "markdown",
   "id": "9e348262",
   "metadata": {},
   "source": [
    "Convolutional neural network present a huge advantage over other network type due to its ability to identify patterns in multiple places on the image.This makes them really convenient for image processing."
   ]
  },
  {
   "cell_type": "code",
   "execution_count": 77,
   "id": "fe846b20",
   "metadata": {},
   "outputs": [
    {
     "name": "stdout",
     "output_type": "stream",
     "text": [
      "Model: \"sequential_6\"\n",
      "_________________________________________________________________\n",
      " Layer (type)                Output Shape              Param #   \n",
      "=================================================================\n",
      " conv2d_17 (Conv2D)          (None, 26, 26, 64)        640       \n",
      "                                                                 \n",
      " max_pooling2d_14 (MaxPoolin  (None, 13, 13, 64)       0         \n",
      " g2D)                                                            \n",
      "                                                                 \n",
      " conv2d_18 (Conv2D)          (None, 11, 11, 64)        36928     \n",
      "                                                                 \n",
      " conv2d_19 (Conv2D)          (None, 9, 9, 64)          36928     \n",
      "                                                                 \n",
      " max_pooling2d_15 (MaxPoolin  (None, 4, 4, 64)         0         \n",
      " g2D)                                                            \n",
      "                                                                 \n",
      " flatten_6 (Flatten)         (None, 1024)              0         \n",
      "                                                                 \n",
      " dense_12 (Dense)            (None, 128)               131200    \n",
      "                                                                 \n",
      " dense_13 (Dense)            (None, 20)                2580      \n",
      "                                                                 \n",
      "=================================================================\n",
      "Total params: 208,276\n",
      "Trainable params: 208,276\n",
      "Non-trainable params: 0\n",
      "_________________________________________________________________\n"
     ]
    }
   ],
   "source": [
    "model2 = tf.keras.models.Sequential([\n",
    "  tf.keras.layers.Conv2D(64, (3,3), activation='relu', input_shape=(28, 28, 1)),\n",
    "  tf.keras.layers.MaxPooling2D(2, 2),\n",
    "  tf.keras.layers.Conv2D(64, (3,3), activation='relu'),\n",
    "  tf.keras.layers.Conv2D(64, (3,3), activation='relu'),\n",
    "  tf.keras.layers.MaxPooling2D(2,2),\n",
    "  tf.keras.layers.Flatten(),\n",
    "  tf.keras.layers.Dense(128, activation='relu'),\n",
    "  tf.keras.layers.Dense(20, activation='softmax')\n",
    "])\n",
    "model2.compile(optimizer='adam', loss='sparse_categorical_crossentropy', metrics=['accuracy'])\n",
    "model2.summary()"
   ]
  },
  {
   "cell_type": "markdown",
   "id": "f6e3079b",
   "metadata": {},
   "source": [
    "The training uses the validation data to enhance the network, at the end of every epoch the network is verified. We also introduce a shuffling of the set at each epoch. This parameter allows for a better flexibility in the network and avoid patterns and overfitting. "
   ]
  },
  {
   "cell_type": "code",
   "execution_count": 78,
   "id": "d08c6670",
   "metadata": {},
   "outputs": [
    {
     "name": "stdout",
     "output_type": "stream",
     "text": [
      "Epoch 1/20\n",
      "500/500 [==============================] - 22s 44ms/step - loss: 3.0815 - accuracy: 0.1121 - val_loss: 2.7380 - val_accuracy: 0.1535\n",
      "Epoch 2/20\n",
      "500/500 [==============================] - 20s 40ms/step - loss: 2.6830 - accuracy: 0.1740 - val_loss: 2.6878 - val_accuracy: 0.1760\n",
      "Epoch 3/20\n",
      "500/500 [==============================] - 19s 39ms/step - loss: 2.5999 - accuracy: 0.2086 - val_loss: 2.6477 - val_accuracy: 0.1845\n",
      "Epoch 4/20\n",
      "500/500 [==============================] - 19s 39ms/step - loss: 2.5184 - accuracy: 0.2314 - val_loss: 2.6875 - val_accuracy: 0.1955\n",
      "Epoch 5/20\n",
      "500/500 [==============================] - 24s 48ms/step - loss: 2.4456 - accuracy: 0.2539 - val_loss: 2.6103 - val_accuracy: 0.2050\n",
      "Epoch 6/20\n",
      "500/500 [==============================] - 23s 47ms/step - loss: 2.3740 - accuracy: 0.2730 - val_loss: 2.6721 - val_accuracy: 0.2020\n",
      "Epoch 7/20\n",
      "500/500 [==============================] - 22s 45ms/step - loss: 2.2932 - accuracy: 0.2957 - val_loss: 2.6418 - val_accuracy: 0.2255\n",
      "Epoch 8/20\n",
      "500/500 [==============================] - 20s 41ms/step - loss: 2.1902 - accuracy: 0.3255 - val_loss: 2.6942 - val_accuracy: 0.2090\n",
      "Epoch 9/20\n",
      "500/500 [==============================] - 20s 41ms/step - loss: 2.0848 - accuracy: 0.3551 - val_loss: 2.7787 - val_accuracy: 0.2115\n",
      "Epoch 10/20\n",
      "500/500 [==============================] - 18s 37ms/step - loss: 1.9805 - accuracy: 0.3906 - val_loss: 2.7839 - val_accuracy: 0.2160\n",
      "Epoch 11/20\n",
      "500/500 [==============================] - 1249s 3s/step - loss: 1.8512 - accuracy: 0.4319 - val_loss: 2.9656 - val_accuracy: 0.2170\n",
      "Epoch 12/20\n",
      "500/500 [==============================] - 27s 54ms/step - loss: 1.7305 - accuracy: 0.4625 - val_loss: 3.1261 - val_accuracy: 0.1970\n",
      "Epoch 13/20\n",
      "500/500 [==============================] - 20s 41ms/step - loss: 1.6113 - accuracy: 0.4994 - val_loss: 3.2409 - val_accuracy: 0.2180\n",
      "Epoch 14/20\n",
      "500/500 [==============================] - 21s 42ms/step - loss: 1.4707 - accuracy: 0.5379 - val_loss: 3.5359 - val_accuracy: 0.1935\n",
      "Epoch 15/20\n",
      "500/500 [==============================] - 20s 41ms/step - loss: 1.3728 - accuracy: 0.5698 - val_loss: 3.8014 - val_accuracy: 0.2015\n",
      "Epoch 16/20\n",
      "500/500 [==============================] - 20s 40ms/step - loss: 1.2474 - accuracy: 0.6104 - val_loss: 3.9005 - val_accuracy: 0.1930\n",
      "Epoch 17/20\n",
      "500/500 [==============================] - 20s 41ms/step - loss: 1.1506 - accuracy: 0.6354 - val_loss: 4.2760 - val_accuracy: 0.2030\n",
      "Epoch 18/20\n",
      "500/500 [==============================] - 21s 42ms/step - loss: 1.0495 - accuracy: 0.6626 - val_loss: 4.6155 - val_accuracy: 0.1845\n",
      "Epoch 19/20\n",
      "500/500 [==============================] - 20s 40ms/step - loss: 0.9686 - accuracy: 0.6885 - val_loss: 5.0516 - val_accuracy: 0.1860\n",
      "Epoch 20/20\n",
      "500/500 [==============================] - 20s 41ms/step - loss: 0.8822 - accuracy: 0.7144 - val_loss: 5.3007 - val_accuracy: 0.1900\n"
     ]
    }
   ],
   "source": [
    "cnn = model2.fit(X_train, y_train, epochs=20, validation_data=(X_valid, y_valid), shuffle=True)"
   ]
  },
  {
   "cell_type": "code",
   "execution_count": 79,
   "id": "acb262cf",
   "metadata": {},
   "outputs": [
    {
     "data": {
      "image/png": "[encoded data removed]",
      "text/plain": [
       "<Figure size 576x360 with 1 Axes>"
      ]
     },
     "metadata": {
      "needs_background": "light"
     },
     "output_type": "display_data"
    }
   ],
   "source": [
    "pd.DataFrame(cnn.history).plot(figsize=(8, 5))\n",
    "plt.grid(True)\n",
    "plt.gca().set_ylim(0, 1)\n",
    "plt.show()"
   ]
  },
  {
   "cell_type": "markdown",
   "id": "8cc92183",
   "metadata": {},
   "source": [
    "This graph shows that over the epochs, the network became capable of identifying the images used in his training. However, when used for new images the accurancy does not go above 20%. To achieve better results, one can improve the network design, set a higher number of epochs, lowering the learning rate and tuning its evolution over the training. The .fit() method does not allow for a change in learning rate."
   ]
  },
  {
   "cell_type": "code",
   "execution_count": 89,
   "id": "0c5eb2de",
   "metadata": {},
   "outputs": [
    {
     "name": "stdout",
     "output_type": "stream",
     "text": [
      "63/63 [==============================] - 1s 13ms/step\n"
     ]
    }
   ],
   "source": [
    "y_prediction = model2.predict(X_test)"
   ]
  }
 ],
 "metadata": {
  "kernelspec": {
   "display_name": "Python 3 (ipykernel)",
   "language": "python",
   "name": "python3"
  },
  "language_info": {
   "codemirror_mode": {
    "name": "ipython",
    "version": 3
   },
   "file_extension": ".py",
   "mimetype": "text/x-python",
   "name": "python",
   "nbconvert_exporter": "python",
   "pygments_lexer": "ipython3",
   "version": "3.9.12"
  },
  "vscode": {
   "interpreter": {
    "hash": "11938c6bc6919ae2720b4d5011047913343b08a43b18698fd82dedb0d4417594"
   }
  }
 },
 "nbformat": 4,
 "nbformat_minor": 5
}
