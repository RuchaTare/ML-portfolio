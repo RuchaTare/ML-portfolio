{
  "cells": [
    {
      "cell_type": "markdown",
      "metadata": {
        "id": "Am7xi_kHz-PD"
      },
      "source": [
        "## F21DL - MACHINE LEARNING PORTFOLIO\n",
        "\n",
        "#### MIT DATASET FOR IDENTIFYING PLACES USING COMPUTER VISION\n",
        "\n",
        "##### Rucha Tare\n",
        "##### Maxime Mavel\n",
        "##### Daniel Eneh\n",
        "##### Aureline Lohmann\n",
        "\n",
        "### STEP 1 : SOURCING DATA\n",
        "We chose <code><strong>MIT places Dataset</strong></code> from the following options below:\n",
        "- 1. Bird species classification - BIRDS 400 - SPECIES IMAGE CLASSIFICATION | Kaggle [Data set Link](https://www.kaggle.com/datasets/akash2907/bird-species-classification)\n",
        "\n",
        "Source: Kaggle\n",
        "\n",
        "Data Description: Data helps to predict bird species with help of images and attributes tagged to images. Data has species of 400 birds and number of images for each species. It also has attributes like height, weight of the image used, name of the bird and class of the bird species. The data is already divided into test and train folders. It has 400 instances\n",
        "\n",
        "- 2. Australian Sign Language: UCI Machine Learning Repository: Australian Sign Language signs Data Set [Dataset Link](https://archive.ics.uci.edu/ml/datasets/Australian+Sign+Language+signs)\n",
        "\n",
        "Source: UCL Machine Learning Repository\n",
        "\n",
        "Data description: Data has x,y,z coordinate measurements of a Nintendo Glove that helps to predict that Australian Sign Language. The data has 15 attributes related to positions of the co-ordinate and images with 6650 instances\n",
        "\n",
        "- 3. Movie Genre prediction from its posters: Movie Genre from its Poster | Kaggle [Dataset Link](https://www.kaggle.com/code/krutarthhd/genre-prediction-from-the-movie-poster/data)\n",
        "\n",
        "Source - Kaggle\n",
        "\n",
        "Description of the data: This dataset has images of the movie posters and movie attributes like IMDB ID, IMDB link, Genre, Ranking. It has 998 instances.\n",
        "\n",
        "Pros:\n",
        "\n",
        "Has combination of images and attributes\n",
        "Since we have a lot of movie posters on internet, we can tweak data sets to add more instances if needed or manipulate the data\n",
        "We can test the model on newer poster every time so that it actually predicts accurate results as compared to above bird or sign languages.\n",
        "Attributes have link, text,number, floats to play around with\n",
        "\n",
        "- 4. MIT places Mini dataset: We later found this MIT places mini dataset which is a great places dataset originally created by MIT AI researchers. It has 100,000 images labelled. We have taken subset of it not all the dataset hence it is called <b>mini MIT places</b>\n",
        "\n",
        "[MIT Places Dataset Link](http://dl.caffe.berkeleyvision.org/mit_mini_places/)\n",
        "\n",
        "Source : Google\n",
        "\n",
        "<b>Pros of this dataset</b> :\n",
        "\n",
        "- 1. More number of instances\n",
        "- 2. Credible datasets by MIT researchers\n",
        "- 3. More number of features will help us learn and explore more\n",
        "- 4. Versatile dataset that can be played around with many applications and things are it identifying places and scenes\n",
        "\n",
        "<b>Cons with First three datasets</b>:\n",
        "\n",
        "- 1. Creating new data will be troublesome as we don't have images and attributes.\n",
        "\n",
        "- 2. Australian sign language attributes are just coordinates so it is not much to play around with, similar to the bird dataset that mostly has numbers and two text columns\n",
        "\n",
        "- 3. Movie was a great dataset but number of instances were 998 only.\n",
        "\n",
        "_Conclusion: Due to above cons we decided to choose the MIT places dataset_\n",
        "\n",
        "<b>The Group Gitlab REPOSITORY is seen</b> : <code>[HERE](https://gitlab-student.macs.hw.ac.uk/rt2026/ml-portoflio-mit-places)</code>\n",
        "\n"
      ]
    },
    {
      "cell_type": "markdown",
      "metadata": {
        "id": "k1syb6xNASmU"
      },
      "source": [
        "### 1.1 - Importing Relevant Libraries and data options"
      ]
    },
    {
      "cell_type": "code",
      "execution_count": 1,
      "metadata": {
        "colab": {
          "base_uri": "https://localhost:8080/"
        },
        "id": "xe30peMGREnR",
        "outputId": "17f6d9c3-6b55-49f8-d3b8-73632d08cc50"
      },
      "outputs": [
        {
          "name": "stdout",
          "output_type": "stream",
          "text": [
            "Looking in indexes: https://pypi.org/simple, https://us-python.pkg.dev/colab-wheels/public/simple/\n",
            "Requirement already satisfied: tensorflow==2.3.0 in /usr/local/lib/python3.7/dist-packages (2.3.0)\n",
            "Requirement already satisfied: wrapt>=1.11.1 in /usr/local/lib/python3.7/dist-packages (from tensorflow==2.3.0) (1.14.1)\n",
            "Requirement already satisfied: gast==0.3.3 in /usr/local/lib/python3.7/dist-packages (from tensorflow==2.3.0) (0.3.3)\n",
            "Requirement already satisfied: six>=1.12.0 in /usr/local/lib/python3.7/dist-packages (from tensorflow==2.3.0) (1.15.0)\n",
            "Requirement already satisfied: opt-einsum>=2.3.2 in /usr/local/lib/python3.7/dist-packages (from tensorflow==2.3.0) (3.3.0)\n",
            "Requirement already satisfied: tensorboard<3,>=2.3.0 in /usr/local/lib/python3.7/dist-packages (from tensorflow==2.3.0) (2.9.1)\n",
            "Requirement already satisfied: absl-py>=0.7.0 in /usr/local/lib/python3.7/dist-packages (from tensorflow==2.3.0) (1.3.0)\n",
            "Requirement already satisfied: astunparse==1.6.3 in /usr/local/lib/python3.7/dist-packages (from tensorflow==2.3.0) (1.6.3)\n",
            "Requirement already satisfied: keras-preprocessing<1.2,>=1.1.1 in /usr/local/lib/python3.7/dist-packages (from tensorflow==2.3.0) (1.1.2)\n",
            "Requirement already satisfied: h5py<2.11.0,>=2.10.0 in /usr/local/lib/python3.7/dist-packages (from tensorflow==2.3.0) (2.10.0)\n",
            "Requirement already satisfied: protobuf>=3.9.2 in /usr/local/lib/python3.7/dist-packages (from tensorflow==2.3.0) (3.19.6)\n",
            "Requirement already satisfied: wheel>=0.26 in /usr/local/lib/python3.7/dist-packages (from tensorflow==2.3.0) (0.38.4)\n",
            "Requirement already satisfied: scipy==1.4.1 in /usr/local/lib/python3.7/dist-packages (from tensorflow==2.3.0) (1.4.1)\n",
            "Requirement already satisfied: google-pasta>=0.1.8 in /usr/local/lib/python3.7/dist-packages (from tensorflow==2.3.0) (0.2.0)\n",
            "Requirement already satisfied: tensorflow-estimator<2.4.0,>=2.3.0 in /usr/local/lib/python3.7/dist-packages (from tensorflow==2.3.0) (2.3.0)\n",
            "Requirement already satisfied: numpy<1.19.0,>=1.16.0 in /usr/local/lib/python3.7/dist-packages (from tensorflow==2.3.0) (1.18.5)\n",
            "Requirement already satisfied: grpcio>=1.8.6 in /usr/local/lib/python3.7/dist-packages (from tensorflow==2.3.0) (1.50.0)\n",
            "Requirement already satisfied: termcolor>=1.1.0 in /usr/local/lib/python3.7/dist-packages (from tensorflow==2.3.0) (2.1.0)\n",
            "Requirement already satisfied: google-auth<3,>=1.6.3 in /usr/local/lib/python3.7/dist-packages (from tensorboard<3,>=2.3.0->tensorflow==2.3.0) (2.14.1)\n",
            "Requirement already satisfied: tensorboard-data-server<0.7.0,>=0.6.0 in /usr/local/lib/python3.7/dist-packages (from tensorboard<3,>=2.3.0->tensorflow==2.3.0) (0.6.1)\n",
            "Requirement already satisfied: setuptools>=41.0.0 in /usr/local/lib/python3.7/dist-packages (from tensorboard<3,>=2.3.0->tensorflow==2.3.0) (57.4.0)\n",
            "Requirement already satisfied: requests<3,>=2.21.0 in /usr/local/lib/python3.7/dist-packages (from tensorboard<3,>=2.3.0->tensorflow==2.3.0) (2.23.0)\n",
            "Requirement already satisfied: werkzeug>=1.0.1 in /usr/local/lib/python3.7/dist-packages (from tensorboard<3,>=2.3.0->tensorflow==2.3.0) (1.0.1)\n",
            "Requirement already satisfied: google-auth-oauthlib<0.5,>=0.4.1 in /usr/local/lib/python3.7/dist-packages (from tensorboard<3,>=2.3.0->tensorflow==2.3.0) (0.4.6)\n",
            "Requirement already satisfied: tensorboard-plugin-wit>=1.6.0 in /usr/local/lib/python3.7/dist-packages (from tensorboard<3,>=2.3.0->tensorflow==2.3.0) (1.8.1)\n",
            "Requirement already satisfied: markdown>=2.6.8 in /usr/local/lib/python3.7/dist-packages (from tensorboard<3,>=2.3.0->tensorflow==2.3.0) (3.4.1)\n",
            "Requirement already satisfied: rsa<5,>=3.1.4 in /usr/local/lib/python3.7/dist-packages (from google-auth<3,>=1.6.3->tensorboard<3,>=2.3.0->tensorflow==2.3.0) (4.9)\n",
            "Requirement already satisfied: cachetools<6.0,>=2.0.0 in /usr/local/lib/python3.7/dist-packages (from google-auth<3,>=1.6.3->tensorboard<3,>=2.3.0->tensorflow==2.3.0) (5.2.0)\n",
            "Requirement already satisfied: pyasn1-modules>=0.2.1 in /usr/local/lib/python3.7/dist-packages (from google-auth<3,>=1.6.3->tensorboard<3,>=2.3.0->tensorflow==2.3.0) (0.2.8)\n",
            "Requirement already satisfied: requests-oauthlib>=0.7.0 in /usr/local/lib/python3.7/dist-packages (from google-auth-oauthlib<0.5,>=0.4.1->tensorboard<3,>=2.3.0->tensorflow==2.3.0) (1.3.1)\n",
            "Requirement already satisfied: importlib-metadata>=4.4 in /usr/local/lib/python3.7/dist-packages (from markdown>=2.6.8->tensorboard<3,>=2.3.0->tensorflow==2.3.0) (4.13.0)\n",
            "Requirement already satisfied: zipp>=0.5 in /usr/local/lib/python3.7/dist-packages (from importlib-metadata>=4.4->markdown>=2.6.8->tensorboard<3,>=2.3.0->tensorflow==2.3.0) (3.10.0)\n",
            "Requirement already satisfied: typing-extensions>=3.6.4 in /usr/local/lib/python3.7/dist-packages (from importlib-metadata>=4.4->markdown>=2.6.8->tensorboard<3,>=2.3.0->tensorflow==2.3.0) (4.1.1)\n",
            "Requirement already satisfied: pyasn1<0.5.0,>=0.4.6 in /usr/local/lib/python3.7/dist-packages (from pyasn1-modules>=0.2.1->google-auth<3,>=1.6.3->tensorboard<3,>=2.3.0->tensorflow==2.3.0) (0.4.8)\n",
            "Requirement already satisfied: chardet<4,>=3.0.2 in /usr/local/lib/python3.7/dist-packages (from requests<3,>=2.21.0->tensorboard<3,>=2.3.0->tensorflow==2.3.0) (3.0.4)\n",
            "Requirement already satisfied: urllib3!=1.25.0,!=1.25.1,<1.26,>=1.21.1 in /usr/local/lib/python3.7/dist-packages (from requests<3,>=2.21.0->tensorboard<3,>=2.3.0->tensorflow==2.3.0) (1.24.3)\n",
            "Requirement already satisfied: certifi>=2017.4.17 in /usr/local/lib/python3.7/dist-packages (from requests<3,>=2.21.0->tensorboard<3,>=2.3.0->tensorflow==2.3.0) (2022.9.24)\n",
            "Requirement already satisfied: idna<3,>=2.5 in /usr/local/lib/python3.7/dist-packages (from requests<3,>=2.21.0->tensorboard<3,>=2.3.0->tensorflow==2.3.0) (2.10)\n",
            "Requirement already satisfied: oauthlib>=3.0.0 in /usr/local/lib/python3.7/dist-packages (from requests-oauthlib>=0.7.0->google-auth-oauthlib<0.5,>=0.4.1->tensorboard<3,>=2.3.0->tensorflow==2.3.0) (3.2.2)\n"
          ]
        }
      ],
      "source": [
        "!pip install tensorflow==2.3.0"
      ]
    },
    {
      "cell_type": "markdown",
      "metadata": {
        "id": "tmDpgZIYz6Bb"
      },
      "source": []
    },
    {
      "cell_type": "code",
      "execution_count": 2,
      "metadata": {
        "id": "8-di5gZcAab8"
      },
      "outputs": [],
      "source": [
        "# ignore warnings\n",
        "import warnings\n",
        "\n",
        "# importing needed libraries to python\n",
        "import pandas as pd\n",
        "import os\n",
        "import re\n",
        "import numpy as np\n",
        "\n",
        "# visualisations\n",
        "import seaborn as sns\n",
        "import matplotlib.pyplot as plt\n",
        "from scipy.stats import zscore\n",
        "from collections import Counter\n",
        "\n",
        "# import openCV\n",
        "import cv2\n",
        "\n",
        "# sklearn imports\n",
        "from sklearn import preprocessing\n",
        "from sklearn.model_selection import (train_test_split, cross_val_score, \n",
        "                                     cross_val_predict, cross_validate, \n",
        "                                     RandomizedSearchCV)\n",
        "\n",
        "from sklearn.naive_bayes import GaussianNB, MultinomialNB, ComplementNB, BernoulliNB, CategoricalNB\n",
        "from sklearn.linear_model import SGDClassifier, LogisticRegression, LinearRegression\n",
        "from sklearn.neighbors import KNeighborsClassifier\n",
        "from sklearn.cluster import MiniBatchKMeans, KMeans\n",
        "from sklearn.mixture import GaussianMixture\n",
        "from sklearn.tree import DecisionTreeClassifier\n",
        "\n",
        "from sklearn.metrics import (accuracy_score, f1_score, \n",
        "                             recall_score, precision_score, \n",
        "                             confusion_matrix, mean_squared_error)\n",
        "\n",
        "# keras imports\n",
        "import tensorflow as tf\n",
        "from tensorflow import keras\n",
        "from tensorflow.keras.models import Sequential\n",
        "from tensorflow.keras.layers import Dense\n",
        "from tensorflow.keras.optimizers import Adam\n",
        "warnings.filterwarnings('ignore')"
      ]
    },
    {
      "cell_type": "markdown",
      "metadata": {
        "id": "EUiRYMpnAkPx"
      },
      "source": [
        "### Configurations"
      ]
    },
    {
      "cell_type": "code",
      "execution_count": 3,
      "metadata": {
        "id": "X5OUVXUGAnmv"
      },
      "outputs": [],
      "source": [
        "category_dir = 'drive/MyDrive/Colab Notebooks/labels/'\n",
        "image_dir = 'drive/MyDrive/Colab Notebooks/images'"
      ]
    },
    {
      "cell_type": "code",
      "execution_count": 4,
      "metadata": {
        "id": "CWWKwt9UArpI"
      },
      "outputs": [],
      "source": [
        "categories_txt = 'categories.txt'\n",
        "train_txt= 'train.txt'\n",
        "val_txt= 'val.txt'\n",
        "path_train= category_dir + train_txt\n",
        "path_val = category_dir + val_txt "
      ]
    },
    {
      "cell_type": "markdown",
      "metadata": {
        "id": "zlYgtZ66Ax-d"
      },
      "source": [
        "### Data Loading and Data Preprocessing\n",
        "\n",
        "Data Description: categories.txt - 0-99 categories\n",
        "\n",
        "train.txt - training dataset to categorise images\n",
        "\n",
        "training data images- 100,000 Images for all the 0-99 categories"
      ]
    },
    {
      "cell_type": "markdown",
      "metadata": {
        "id": "DehH8NigBMKy"
      },
      "source": [
        "### Creating Category Dataset"
      ]
    },
    {
      "cell_type": "code",
      "execution_count": 5,
      "metadata": {
        "id": "n2IMs4ceBgB-"
      },
      "outputs": [],
      "source": [
        "categories_file = open(f'{category_dir}{categories_txt}', 'r') \n",
        "category_records = categories_file.readlines()\n",
        "categories_file.close()"
      ]
    },
    {
      "cell_type": "markdown",
      "metadata": {
        "id": "sZI65PjxEmQh"
      },
      "source": [
        "We are creating a dictionary for category that will have category id and category record so that we can later verify the category name with the id. Since few categories also have sub categories in them e.g / i / ice_skating_rink / outdoor 56 we are replacing \"/\" to \"-\". So that we get the prediction as ice_skating_rink - outdoor"
      ]
    },
    {
      "cell_type": "code",
      "execution_count": 6,
      "metadata": {
        "id": "5w7gD07HBidL"
      },
      "outputs": [],
      "source": [
        "categories_dataset = {}\n",
        "for category_record in category_records:\n",
        "    category_name, category_id = category_record.split(\" \")\n",
        "    category_name = category_name[3:].replace('/','-')\n",
        "    categories_dataset[int(category_id)] = category_name"
      ]
    },
    {
      "cell_type": "markdown",
      "metadata": {
        "id": "5gpi6IMKFBYN"
      },
      "source": []
    },
    {
      "cell_type": "markdown",
      "metadata": {
        "id": "gy29LH08FGUL"
      },
      "source": [
        "### Image Processing"
      ]
    },
    {
      "cell_type": "code",
      "execution_count": 7,
      "metadata": {
        "colab": {
          "base_uri": "https://localhost:8080/"
        },
        "id": "IU2qV1f6EpMH",
        "outputId": "e542141a-d9bc-45ad-818b-66ec8635702b"
      },
      "outputs": [
        {
          "name": "stdout",
          "output_type": "stream",
          "text": [
            "drive/MyDrive/Colab Notebooks/images/train/a/abbey/00000001.jpg\n"
          ]
        }
      ],
      "source": [
        "# verifying the image path\n",
        "print(f'{image_dir}/train/a/abbey/00000001.jpg')"
      ]
    },
    {
      "cell_type": "code",
      "execution_count": 8,
      "metadata": {
        "id": "VTg_G0mPFLBQ"
      },
      "outputs": [],
      "source": [
        "# reading a test image for two reasons: 1. Checking the image 2. Using the image to take 80% of its dimensions to scale \n",
        "test_image = cv2.imread(f'{image_dir}/train/a/abbey/00000001.jpg', cv2.IMREAD_COLOR)"
      ]
    },
    {
      "cell_type": "code",
      "execution_count": 9,
      "metadata": {
        "colab": {
          "base_uri": "https://localhost:8080/",
          "height": 268
        },
        "id": "CFKfqKLSFWw4",
        "outputId": "d7f62658-6c92-44c4-b528-9f225edf73a8"
      },
      "outputs": [
        {
          "data": {
            "image/png": "[encoded data removed]",
            "text/plain": [
              "<Figure size 432x288 with 1 Axes>"
            ]
          },
          "metadata": {
            "needs_background": "light"
          },
          "output_type": "display_data"
        }
      ],
      "source": [
        "# verifying the image plot for test image\n",
        "plt.imshow(test_image)\n",
        "plt.show()"
      ]
    },
    {
      "cell_type": "code",
      "execution_count": 10,
      "metadata": {
        "colab": {
          "base_uri": "https://localhost:8080/"
        },
        "id": "8gx8cpzGzrLV",
        "outputId": "5e85c56c-3759-4e95-b2b4-0684f48ddea1"
      },
      "outputs": [
        {
          "name": "stdout",
          "output_type": "stream",
          "text": [
            "Scaled image size should be:  (102, 102)\n"
          ]
        }
      ],
      "source": [
        "# getting the 25% size for image for further preprocessing\n",
        "SCALE_PERCENT = 80\n",
        "WIDTH = int(test_image.shape[1] * SCALE_PERCENT / 100)\n",
        "HEIGHT = int(test_image.shape[0] * SCALE_PERCENT / 100)\n",
        "DIM = (WIDTH, HEIGHT)\n",
        "\n",
        "# printing the scaled size of the test image. We will use these dimensions in the below function while scaling train and val images\n",
        "print(\"Scaled image size should be: \", DIM)"
      ]
    },
    {
      "cell_type": "code",
      "execution_count": 11,
      "metadata": {
        "id": "16-YsJoYAeIb"
      },
      "outputs": [],
      "source": [
        "def image_resize(image):\n",
        "    \"\"\" Function to define resizing images. This will be called from image_preprocess\n",
        "    Args: \n",
        "        image list: list of images\n",
        "    returns:\n",
        "        image_rs list: list of images resized \n",
        "    \"\"\"\n",
        "    image_rs = cv2.resize(image, DIM, interpolation=cv2.INTER_AREA)\n",
        "\n",
        "    return image_rs        "
      ]
    },
    {
      "cell_type": "code",
      "execution_count": 12,
      "metadata": {
        "id": "9PW6gp-nAu2H"
      },
      "outputs": [],
      "source": [
        "def image_to_array(images):\n",
        "    \"\"\" Defining function to convert images to array\n",
        "    Args:\n",
        "        images: list of images\n",
        "    returns:\n",
        "        images_arr_rs: array of reshaped images\n",
        "    \"\"\"\n",
        "    # Data Normalization\n",
        "    images = np.array(images)\n",
        "    images = images.astype('float32') \n",
        "    # Normalization\n",
        "    images = images/255.0\n",
        "    images_arr_rs = images.reshape((len(images), -1))\n",
        "\n",
        "    return images_arr_rs"
      ]
    },
    {
      "cell_type": "code",
      "execution_count": 13,
      "metadata": {
        "id": "rCSpcvhdGz99"
      },
      "outputs": [],
      "source": [
        "def preprocess_image(image_dir, category_path):\n",
        "    \"\"\" Defining a function to read, resize images and categories\n",
        "    Args:\n",
        "        image_dir: image_dir to read images from\n",
        "        category_path: category path to read categories\n",
        "    \"\"\"\n",
        "    images = []\n",
        "    image_paths = []\n",
        "    categories = []\n",
        "    file = open(category_path, 'r') \n",
        "    label_records = file.readlines()\n",
        "    file.close()\n",
        "\n",
        "    for record in label_records:\n",
        "        # split each line on label file using spaces into image path and category id\n",
        "        image_path, category = record.split(\" \")  \n",
        "\n",
        "        # load images and resize\n",
        "        image_w = cv2.imread(f'{image_dir}/{image_path}', cv2.IMREAD_COLOR)\n",
        "        image_bw = cv2.cvtColor(image_w, cv2.COLOR_BGR2GRAY)\n",
        "        image_bw = image_resize(image_bw)\n",
        "        \n",
        "        # load filenames as a list\n",
        "        image_paths.append(f'{image_dir}/{image_path}')\n",
        "\n",
        "        # adding image and category to the list\n",
        "        images.append(image_bw)\n",
        "        categories.append(int(category))\n",
        "        \n",
        "    return images, categories, image_paths"
      ]
    },
    {
      "cell_type": "code",
      "execution_count": 14,
      "metadata": {
        "colab": {
          "base_uri": "https://localhost:8080/",
          "height": 285
        },
        "id": "GImnxIgaTvDu",
        "outputId": "dc7f428f-963c-4746-cba0-6a9e175a1e96"
      },
      "outputs": [
        {
          "name": "stdout",
          "output_type": "stream",
          "text": [
            "abbey\n"
          ]
        },
        {
          "data": {
            "image/png": "[encoded data removed]",
            "text/plain": [
              "<Figure size 432x288 with 1 Axes>"
            ]
          },
          "metadata": {
            "needs_background": "light"
          },
          "output_type": "display_data"
        }
      ],
      "source": [
        "# getting train dataset by calling preprocess and plotting a train image and verifying its category\n",
        "images_train, category_train, image_paths_train = preprocess_image(image_dir, path_train)\n",
        "print(categories_dataset[category_train[0]])\n",
        "plt.imshow(images_train[0], cmap='gray')\n",
        "plt.show()"
      ]
    },
    {
      "cell_type": "code",
      "execution_count": 15,
      "metadata": {
        "colab": {
          "base_uri": "https://localhost:8080/",
          "height": 285
        },
        "id": "psJlo7_UTzC9",
        "outputId": "606c68f5-5457-413f-cb23-e6d01f56e129"
      },
      "outputs": [
        {
          "name": "stdout",
          "output_type": "stream",
          "text": [
            "palace\n"
          ]
        },
        {
          "data": {
            "image/png": "[encoded data removed]",
            "text/plain": [
              "<Figure size 432x288 with 1 Axes>"
            ]
          },
          "metadata": {
            "needs_background": "light"
          },
          "output_type": "display_data"
        }
      ],
      "source": [
        "# getting validation dataset by calling preprocess and plotting a val image and verifying its category\n",
        "images_val, category_val, image_paths_val = preprocess_image(image_dir, path_val)\n",
        "print(categories_dataset[category_val[0]])\n",
        "plt.imshow(images_val[0], cmap='gray')\n",
        "plt.show()"
      ]
    },
    {
      "cell_type": "code",
      "execution_count": 16,
      "metadata": {
        "id": "kpI22IUoVQ5h"
      },
      "outputs": [],
      "source": [
        "# calling images to array and getting X train, Y train, X val , Y val\n",
        "X = image_to_array(images_train)\n",
        "y = pd.DataFrame(category_train, columns=['category'])\n",
        "X_val = image_to_array(images_val)\n",
        "y_val = pd.DataFrame(category_val, columns=['category'])"
      ]
    },
    {
      "cell_type": "code",
      "execution_count": 17,
      "metadata": {
        "id": "Afc1fDLvVeUV"
      },
      "outputs": [],
      "source": [
        "X_train, X_train_inventory, y_train, y_train_inventory = train_test_split(X, y, test_size=0.70, random_state=42, stratify=y)"
      ]
    },
    {
      "cell_type": "code",
      "execution_count": 18,
      "metadata": {
        "id": "OH6_UlgeVqgO"
      },
      "outputs": [],
      "source": [
        "X_val, X_val_inventory, y_val, y_val_inventory = train_test_split(X_val, y_val, test_size=0.60, random_state=42, stratify=y_val)"
      ]
    },
    {
      "cell_type": "code",
      "execution_count": 19,
      "metadata": {
        "colab": {
          "base_uri": "https://localhost:8080/"
        },
        "id": "nkckp-czVvT6",
        "outputId": "59a3324f-f3ca-49ed-8d74-a5c44de190ee"
      },
      "outputs": [
        {
          "name": "stdout",
          "output_type": "stream",
          "text": [
            "X_train Shape:  (30000, 10404)\n",
            "y_train Shape:  (30000, 1)\n",
            "X_val Shape:  (4000, 10404)\n",
            "y_val Shape:  (4000, 1)\n"
          ]
        }
      ],
      "source": [
        "print(\"X_train Shape: \", X_train.shape)\n",
        "print(\"y_train Shape: \", y_train.shape)\n",
        "print(\"X_val Shape: \", X_val.shape)\n",
        "print(\"y_val Shape: \", y_val.shape)"
      ]
    },
    {
      "cell_type": "markdown",
      "metadata": {
        "id": "vCW1krnFW75o"
      },
      "source": [
        "### Getting the datasets for Neural Networks training"
      ]
    },
    {
      "cell_type": "code",
      "execution_count": null,
      "metadata": {
        "id": "DIouJ-iKV8A4"
      },
      "outputs": [],
      "source": [
        "# getting train dataset by calling preprocess and plotting a train image and verifying its category for Neural Networks\n",
        "# change the image size in the above cell to increase the size\n",
        "images_train_NN, category_train_NN, image_paths_train_NN = preprocess_image(image_dir, path_train)\n",
        "print(categories_dataset[category_train_NN[0]])\n",
        "plt.imshow(images_train_NN[0], cmap='gray')\n",
        "plt.show()"
      ]
    },
    {
      "cell_type": "code",
      "execution_count": null,
      "metadata": {
        "id": "g_7437eAW9qm"
      },
      "outputs": [],
      "source": [
        "images_val_NN, category_val_NN, image_paths_val_NN = preprocess_image(image_dir, path_val)\n",
        "print(categories_dataset[category_val_NN[0]])\n",
        "plt.imshow(images_val_NN[0], cmap='gray')\n",
        "plt.show()"
      ]
    },
    {
      "cell_type": "code",
      "execution_count": null,
      "metadata": {
        "id": "aFdhfsE8XFYz"
      },
      "outputs": [],
      "source": [
        "# calling images to array and getting X train, Y train, X val , Y val\n",
        "X_nn = image_to_array(images_train_NN)\n",
        "y_nn = pd.DataFrame(category_train_NN, columns=['category'])"
      ]
    },
    {
      "cell_type": "code",
      "execution_count": null,
      "metadata": {
        "id": "IsXdx1FrXIcL"
      },
      "outputs": [],
      "source": [
        "X_test_nn = image_to_array(images_val_NN)\n",
        "y_test_nn = pd.DataFrame(category_val_NN, columns=['category'])"
      ]
    },
    {
      "cell_type": "code",
      "execution_count": null,
      "metadata": {
        "id": "U7YL8LMwXM3f"
      },
      "outputs": [],
      "source": [
        "X_train_nn, X_val_nn, y_train_nn, y_val_nn = train_test_split(X_nn, y_nn, test_size=0.10, random_state=42, stratify=y_nn)"
      ]
    },
    {
      "cell_type": "code",
      "execution_count": null,
      "metadata": {
        "id": "cdWrcorbXP2L"
      },
      "outputs": [],
      "source": [
        "print(\"X_train Shape: \", X_train_nn.shape)\n",
        "print(\"y_train Shape: \", y_train_nn.shape)\n",
        "print(\"X_val Shape: \", X_test_nn.shape)\n",
        "print(\"y_val Shape: \", y_test_nn.shape)"
      ]
    },
    {
      "cell_type": "markdown",
      "metadata": {
        "id": "qcCi3N_5XXL7"
      },
      "source": [
        "### Model Monitoring Helper Functions"
      ]
    },
    {
      "cell_type": "code",
      "execution_count": null,
      "metadata": {
        "id": "2lr7BPwoXS1R"
      },
      "outputs": [],
      "source": [
        "def get_cross_validation(model, X, y, scoring, cv=10):\n",
        "    \"\"\" Function to get the cross validation for model\n",
        "    Args:\n",
        "        model:\n",
        "        X_train:\n",
        "        y_train:\n",
        "        cv:\n",
        "    \"\"\"\n",
        "    cross_validation_results = cross_val_score(model, X, y, cv=cv, scoring=scoring)\n",
        "    \n",
        "    return cross_validation_results"
      ]
    },
    {
      "cell_type": "code",
      "execution_count": null,
      "metadata": {
        "id": "Ta35aAJvXgRB"
      },
      "outputs": [],
      "source": [
        "# graph representation\n",
        "def plot_histogram(x, bins=10, title=\"Histogram\"):\n",
        "    \"\"\" Provides graph to display cluster and its counts\n",
        "    \"\"\"\n",
        "    plt.hist(x, bins=bins)\n",
        "    plt.title(title)\n",
        "    return plt.show\n",
        "\n",
        "    \n",
        "def plot_cv_results(cv_results, param_x, param_hue, metric='mean_test_score'):\n",
        "    \"\"\" Plotting the graph for two parameters from Random Search CV\n",
        "    \"\"\"\n",
        "    cv_results = pd.DataFrame(cv_results)\n",
        "    col_x = 'param_' + param_x\n",
        "    col_hue = 'param_' + param_hue\n",
        "    \n",
        "    fig, ax = plt.subplots(1, 1, figsize=(11, 8))\n",
        "    sns.pointplot(x=col_x, y=metric, hue=col_hue, data=cv_results, ci=99, n_boot=64, ax=ax)\n",
        "    \n",
        "    ax.set_title(\"CV Random Search Results\")\n",
        "    ax.set_xlabel(param_x)\n",
        "    ax.set_ylabel(metric)\n",
        "    ax.legend(title=param_hue)\n",
        "    \n",
        "    return fig"
      ]
    },
    {
      "cell_type": "code",
      "execution_count": null,
      "metadata": {
        "id": "fR38UCKtXmM3"
      },
      "outputs": [],
      "source": [
        "def get_model_report(y_true, y_pred):\n",
        "    \"\"\" Provides a model performance report \n",
        "    \"\"\"\n",
        "    model_accuracy = accuracy_score(y_true, y_pred)\n",
        "    model_f1_score = f1_score(y_true, y_pred, average='weighted')\n",
        "    model_precision = precision_score(y_true, y_pred, average='weighted')\n",
        "    model_recall = recall_score(y_true, y_pred, average='weighted')\n",
        "    \n",
        "    print(f\"Model Accuracy: {round(model_accuracy, 3)}\")\n",
        "    print(f\"Model F1 Score: {round(model_f1_score, 3)}\")\n",
        "    print(f\"Model Precision: {round(model_precision, 3)}\")\n",
        "    print(f\"Model Recall: {round(model_recall, 3)}\")\n",
        "    \n",
        "    return model_accuracy"
      ]
    },
    {
      "cell_type": "code",
      "execution_count": null,
      "metadata": {
        "id": "H7Vtu6s4Xo7v"
      },
      "outputs": [],
      "source": [
        "models_summary = pd.DataFrame(columns = ['Model Name', \n",
        "                                         'Train Accuracy', \n",
        "                                         'Test Accuracy',\n",
        "                                        ])\n",
        "def add_to_model_summary(models_summary, model_name, train_acc, test_acc):\n",
        "    \"\"\" Adding model performance summary to compare models\n",
        "    \"\"\"\n",
        "    models_summary = models_summary.append({'Model Name': model_name, \n",
        "                           'Train Accuracy': train_acc, \n",
        "                           'Test Accuracy': test_acc}, ignore_index=True)\n",
        "    return models_summary"
      ]
    },
    {
      "cell_type": "markdown",
      "metadata": {
        "id": "5UEpAs5CXv0-"
      },
      "source": [
        "### Modelling\n",
        "### Classification"
      ]
    },
    {
      "cell_type": "code",
      "execution_count": null,
      "metadata": {
        "id": "PxklOAz_Xr-n"
      },
      "outputs": [],
      "source": [
        "sgd_clf = SGDClassifier(max_iter=10, tol=1e-3, random_state=42)\n",
        "sgd_clf.fit(X_train, y_train)"
      ]
    },
    {
      "cell_type": "code",
      "execution_count": null,
      "metadata": {
        "id": "vPSRmbHVXz20"
      },
      "outputs": [],
      "source": [
        "get_cross_validation(sgd_clf, X_train, y_train, scoring=\"accuracy\", cv=5)"
      ]
    },
    {
      "cell_type": "code",
      "execution_count": null,
      "metadata": {
        "id": "F7veTSuOX6zc"
      },
      "outputs": [],
      "source": [
        "y_pred_train_sgd_clf = sgd_clf.predict(X_train)\n",
        "y_pred_test_sgd_clf = sgd_clf.predict(X_val)"
      ]
    },
    {
      "cell_type": "code",
      "execution_count": null,
      "metadata": {
        "id": "7HVFoAVaX_ZS"
      },
      "outputs": [],
      "source": [
        "model_sgd_train_accuracy = get_model_report(y_train, y_pred_train_sgd_clf)\n",
        "model_sgd_test_accuracy = get_model_report(y_val, y_pred_test_sgd_clf)\n",
        "models_summary = add_to_model_summary(models_summary, 'SGD Classifier', model_sgd_train_accuracy, model_sgd_test_accuracy)"
      ]
    },
    {
      "cell_type": "markdown",
      "metadata": {
        "id": "f-0TCQyMYJss"
      },
      "source": [
        "### Multinomial NB"
      ]
    },
    {
      "cell_type": "code",
      "execution_count": null,
      "metadata": {
        "id": "BEoyKpYOYChL"
      },
      "outputs": [],
      "source": [
        "model_MNB = MultinomialNB()\n",
        "model_MNB.fit(X_train, y_train)"
      ]
    },
    {
      "cell_type": "code",
      "execution_count": null,
      "metadata": {
        "id": "mwvc-9WGYLbK"
      },
      "outputs": [],
      "source": [
        "model_MNB.predict(X_val)"
      ]
    },
    {
      "cell_type": "code",
      "execution_count": null,
      "metadata": {
        "id": "zl_FDShHYUW4"
      },
      "outputs": [],
      "source": [
        "cross_val_score(model_MNB, X_train, y_train, cv=3, scoring=\"accuracy\") "
      ]
    },
    {
      "cell_type": "code",
      "execution_count": null,
      "metadata": {
        "id": "u09QbZZKYaH3"
      },
      "outputs": [],
      "source": [
        "y_pred_MNB = cross_val_predict(model_MNB, X_val, y_val, cv=3)\n",
        "confusion_matrix(y_val, y_pred_MNB)"
      ]
    },
    {
      "cell_type": "code",
      "execution_count": null,
      "metadata": {
        "id": "NvzArNAWYd6X"
      },
      "outputs": [],
      "source": [
        "y_pred_train_model_MNB = model_MNB.predict(X_train)\n",
        "y_pred_test_model_MNB = model_MNB.predict(X_val)"
      ]
    },
    {
      "cell_type": "code",
      "execution_count": null,
      "metadata": {
        "id": "4uAOsMAPYh82"
      },
      "outputs": [],
      "source": [
        "model_MNB_train_accuracy = get_model_report(y_train, y_pred_train_model_MNB)\n",
        "model_MNB_test_accuracy = get_model_report(y_val, y_pred_test_model_MNB)\n",
        "models_summary = add_to_model_summary(models_summary, 'Multinomial NB', model_MNB_train_accuracy, model_MNB_test_accuracy)"
      ]
    },
    {
      "cell_type": "markdown",
      "metadata": {
        "id": "zqu6WAi3YuJV"
      },
      "source": [
        "### Gaussian NB"
      ]
    },
    {
      "cell_type": "code",
      "execution_count": null,
      "metadata": {
        "id": "cKPP5OPQYlPG"
      },
      "outputs": [],
      "source": [
        "model_GNB = GaussianNB()\n",
        "model_GNB.fit(X_train, y_train)"
      ]
    },
    {
      "cell_type": "code",
      "execution_count": null,
      "metadata": {
        "id": "kGWihKKcYzEc"
      },
      "outputs": [],
      "source": [
        "cross_val_score(model_GNB, X_train, y_train, cv=3, scoring=\"accuracy\")"
      ]
    },
    {
      "cell_type": "code",
      "execution_count": null,
      "metadata": {
        "id": "JHqUvo9dY1wU"
      },
      "outputs": [],
      "source": [
        "y_pred_GNB = cross_val_predict(model_GNB, X_val, y_val, cv=3)\n",
        "confusion_matrix(y_val, y_pred_GNB)"
      ]
    },
    {
      "cell_type": "code",
      "execution_count": null,
      "metadata": {
        "id": "1LkcJ3nfY5Xr"
      },
      "outputs": [],
      "source": [
        "y_pred_train_model_GNB = model_GNB.predict(X_train)\n",
        "y_pred_test_model_GNB = model_GNB.predict(X_val)"
      ]
    },
    {
      "cell_type": "code",
      "execution_count": null,
      "metadata": {
        "id": "LBVWW2WtY-E7"
      },
      "outputs": [],
      "source": [
        "model_GNB_train_accuracy = get_model_report(y_train, y_pred_train_model_GNB)\n",
        "model_GNB_test_accuracy = get_model_report(y_val, y_pred_test_model_GNB)\n",
        "models_summary = add_to_model_summary(models_summary, 'Gaussian NB', model_GNB_train_accuracy, model_GNB_test_accuracy)"
      ]
    },
    {
      "cell_type": "markdown",
      "metadata": {
        "id": "Hbc05Bc3ZFRt"
      },
      "source": [
        "### Complement NB"
      ]
    },
    {
      "cell_type": "code",
      "execution_count": null,
      "metadata": {
        "id": "69RQgV75ZBcb"
      },
      "outputs": [],
      "source": [
        "model_CNB = ComplementNB()\n",
        "model_CNB.fit(X_train, y_train)"
      ]
    },
    {
      "cell_type": "code",
      "execution_count": null,
      "metadata": {
        "id": "owlV_z-PZGnD"
      },
      "outputs": [],
      "source": [
        "cross_val_score(model_CNB, X_train, y_train, cv=3, scoring=\"accuracy\")"
      ]
    },
    {
      "cell_type": "code",
      "execution_count": null,
      "metadata": {
        "id": "pOJbTIchZOqp"
      },
      "outputs": [],
      "source": [
        "y_pred_train_model_CNB = model_CNB.predict(X_train)\n",
        "y_pred_test_model_CNB = model_CNB.predict(X_val)"
      ]
    },
    {
      "cell_type": "code",
      "execution_count": null,
      "metadata": {
        "id": "vrV100O_ZR1x"
      },
      "outputs": [],
      "source": [
        "model_CNB_train_accuracy = get_model_report(y_train, y_pred_train_model_CNB)\n",
        "model_CNB_test_accuracy = get_model_report(y_val, y_pred_test_model_CNB)\n",
        "models_summary = add_to_model_summary(models_summary, 'Complement NB', model_CNB_train_accuracy, model_CNB_test_accuracy)"
      ]
    },
    {
      "cell_type": "markdown",
      "metadata": {
        "id": "mfSryXTmZZ6p"
      },
      "source": [
        "### Clustering"
      ]
    },
    {
      "cell_type": "code",
      "execution_count": null,
      "metadata": {
        "id": "7CaChF2EZU1I"
      },
      "outputs": [],
      "source": [
        "total_clusters = len(np.unique(y_train))"
      ]
    },
    {
      "cell_type": "code",
      "execution_count": null,
      "metadata": {
        "id": "UDLamDcrZdde"
      },
      "outputs": [],
      "source": [
        "def get_reference_labels(cluster_labels, y, total_clusters):\n",
        "    \"\"\"\n",
        "    \"\"\"\n",
        "    # Initializing\n",
        "    refer_labels = {}\n",
        "    \n",
        "    # loop through each label of cluster\n",
        "    for i in range(total_clusters):\n",
        "        index = np.where(cluster_labels == i, 1, 0)\n",
        "        num = np.bincount(y[[index == 1]]).argmax()\n",
        "        refer_labels[i] = num\n",
        "    \n",
        "    return refer_labels"
      ]
    },
    {
      "cell_type": "markdown",
      "metadata": {
        "id": "AnEVtr09ZsxW"
      },
      "source": [
        "### Gaussian Mixture"
      ]
    },
    {
      "cell_type": "code",
      "execution_count": null,
      "metadata": {
        "id": "R6c9s7pJZoBt"
      },
      "outputs": [],
      "source": [
        "# Initialize the Gaussian Mixture model\n",
        "model_GM = GaussianMixture(n_components=10, random_state=42)\n",
        "\n",
        "# Fitting the model to training set\n",
        "model_GM.fit(X_train)\n",
        "\n",
        "# get the weights of each mixture component\n",
        "model_GM_weights = model_GM.weights_"
      ]
    },
    {
      "cell_type": "code",
      "execution_count": null,
      "metadata": {
        "id": "yck2uSemZx29"
      },
      "outputs": [],
      "source": [
        "# Initialize the K-Means model\n",
        "mini_kmeans = MiniBatchKMeans(n_clusters = total_clusters, random_state=42)\n",
        "\n",
        "# Fitting the model to training set\n",
        "mini_kmeans.fit(X_train)\n",
        "\n",
        "# get the cluster labels\n",
        "mini_kmeans_labels = mini_kmeans.labels_"
      ]
    },
    {
      "cell_type": "code",
      "execution_count": null,
      "metadata": {
        "id": "4NohGDD1aAKL"
      },
      "outputs": [],
      "source": [
        "y_train_kmeans = y_train[\"category\"].to_numpy()"
      ]
    },
    {
      "cell_type": "code",
      "execution_count": null,
      "metadata": {
        "id": "kU0b7edRaDeS"
      },
      "outputs": [],
      "source": [
        "reference_labels = get_reference_labels(mini_kmeans_labels, y_train_kmeans, total_clusters)\n",
        "\n",
        "# defining a dummy list of predicted labels\n",
        "predicted_labels = np.random.rand(len(mini_kmeans_labels))\n",
        "\n",
        "for i in range(len(mini_kmeans.labels_)):\n",
        "    predicted_labels[i] = reference_labels[mini_kmeans_labels[i]]"
      ]
    },
    {
      "cell_type": "code",
      "execution_count": null,
      "metadata": {
        "id": "SCf5DTcbaG6y"
      },
      "outputs": [],
      "source": [
        "print(accuracy_score(predicted_labels, y_train_kmeans))"
      ]
    },
    {
      "cell_type": "code",
      "execution_count": null,
      "metadata": {
        "id": "sCdDUGXvaKIZ"
      },
      "outputs": [],
      "source": [
        "print(predicted_labels[:20].astype('int'))\n",
        "print(y_train_kmeans[:20])"
      ]
    },
    {
      "cell_type": "code",
      "execution_count": null,
      "metadata": {
        "id": "_G8dAQnGaNWq"
      },
      "outputs": [],
      "source": [
        "centroids = mini_kmeans.cluster_centers_\n",
        "centroids.shape"
      ]
    },
    {
      "cell_type": "code",
      "execution_count": null,
      "metadata": {
        "id": "XMChjPaWaQkK"
      },
      "outputs": [],
      "source": [
        "centroids = centroids.reshape(100, 32, 32)\n",
        "centroids = centroids * 255"
      ]
    },
    {
      "cell_type": "code",
      "execution_count": null,
      "metadata": {
        "id": "AfHI68p0aTDx"
      },
      "outputs": [],
      "source": [
        "plt.figure(figsize = (10,9))\n",
        "bottom = 0.35\n",
        "for i in range(16):\n",
        "    plt.subplots_adjust(bottom)\n",
        "    plt.subplot(4, 4, i+1)\n",
        "    plt.title(categories_dataset[reference_labels[i]], fontsize = 10)\n",
        "    plt.imshow(centroids[i], cmap='gray')"
      ]
    },
    {
      "cell_type": "code",
      "execution_count": null,
      "metadata": {
        "id": "1X-Y_06BaWZ5"
      },
      "outputs": [],
      "source": [
        "y_pred = mini_kmeans.predict(X_val)"
      ]
    },
    {
      "cell_type": "code",
      "execution_count": null,
      "metadata": {
        "id": "fapgTTLFaaFR"
      },
      "outputs": [],
      "source": [
        "fig = plot_histogram(list(y_pred), bins=total_clusters, title=\"Cluster Membership Counts\")"
      ]
    },
    {
      "cell_type": "code",
      "execution_count": null,
      "metadata": {
        "id": "-UTPerrYadw5"
      },
      "outputs": [],
      "source": [
        "counts = Counter(list(y_pred))\n",
        "counts.most_common()[0]"
      ]
    },
    {
      "cell_type": "code",
      "execution_count": null,
      "metadata": {
        "id": "vQC9Ig7gahB2"
      },
      "outputs": [],
      "source": [
        "y_pred_train_mini_kmeans = mini_kmeans.predict(X_train)\n",
        "y_pred_test_mini_kmeans = mini_kmeans.predict(X_val)"
      ]
    },
    {
      "cell_type": "code",
      "execution_count": null,
      "metadata": {
        "id": "CRVMLVxpaj-W"
      },
      "outputs": [],
      "source": [
        "mini_kmeans_train_accuracy = get_model_report(y_train, y_pred_train_mini_kmeans)\n",
        "mini_kmeans_test_accuracy = get_model_report(y_val, y_pred_test_mini_kmeans)\n",
        "models_summary = add_to_model_summary(models_summary, 'Mini KMeans', mini_kmeans_train_accuracy, mini_kmeans_test_accuracy)"
      ]
    },
    {
      "cell_type": "markdown",
      "metadata": {
        "id": "jygceob-aqvK"
      },
      "source": [
        "### Kmeans Clustering Algorithm"
      ]
    },
    {
      "cell_type": "code",
      "execution_count": null,
      "metadata": {
        "id": "b8DQXUKHam7m"
      },
      "outputs": [],
      "source": [
        "# Initialize the K-Means model\n",
        "kmeans = KMeans(n_clusters = total_clusters, random_state=42)\n",
        "\n",
        "# Fitting the model to training set\n",
        "kmeans.fit(X_train)\n",
        "\n",
        "# get the cluster labels\n",
        "kmeans_labels = mini_kmeans.labels_"
      ]
    },
    {
      "cell_type": "code",
      "execution_count": null,
      "metadata": {
        "id": "46yccpmDa5IU"
      },
      "outputs": [],
      "source": [
        "y_train_kmeans = y_train[\"category\"].to_numpy()"
      ]
    },
    {
      "cell_type": "code",
      "execution_count": null,
      "metadata": {
        "id": "xWWpVn-Va9AU"
      },
      "outputs": [],
      "source": [
        "reference_labels = get_reference_labels(kmeans_labels, y_train_kmeans, total_clusters)\n",
        "\n",
        "# defining a dummy list of predicted labels\n",
        "predicted_labels = np.random.rand(len(kmeans_labels))\n",
        "\n",
        "for i in range(len(mini_kmeans.labels_)):\n",
        "    predicted_labels[i] = reference_labels[kmeans_labels[i]]"
      ]
    },
    {
      "cell_type": "code",
      "execution_count": null,
      "metadata": {
        "id": "Yq3cNXvobAlB"
      },
      "outputs": [],
      "source": [
        "print(accuracy_score(predicted_labels, y_train_kmeans))"
      ]
    },
    {
      "cell_type": "code",
      "execution_count": null,
      "metadata": {
        "id": "VXDNMkI0bEZB"
      },
      "outputs": [],
      "source": [
        "print(predicted_labels[:20].astype('int'))\n",
        "print(y_train_kmeans[:20])"
      ]
    },
    {
      "cell_type": "code",
      "execution_count": null,
      "metadata": {
        "id": "7AwYXlx-bHdJ"
      },
      "outputs": [],
      "source": [
        "centroids = kmeans.cluster_centers_\n",
        "centroids.shape"
      ]
    },
    {
      "cell_type": "code",
      "execution_count": null,
      "metadata": {
        "id": "DAX65H0UbKSx"
      },
      "outputs": [],
      "source": [
        "centroids = centroids.reshape(100, 32, 32)\n",
        "centroids = centroids * 255"
      ]
    },
    {
      "cell_type": "code",
      "execution_count": null,
      "metadata": {
        "id": "Kj7NibfXbNGf"
      },
      "outputs": [],
      "source": [
        "plt.figure(figsize = (10,9))\n",
        "bottom = 0.35\n",
        "for i in range(16):\n",
        "    plt.subplots_adjust(bottom)\n",
        "    plt.subplot(4, 4, i+1)\n",
        "    plt.title(categories_dataset[reference_labels[i]], fontsize = 10)\n",
        "    plt.imshow(centroids[i], cmap='gray')"
      ]
    },
    {
      "cell_type": "code",
      "execution_count": null,
      "metadata": {
        "id": "2L_BKtHrbQPn"
      },
      "outputs": [],
      "source": [
        "y_pred = kmeans.predict(X_val)"
      ]
    },
    {
      "cell_type": "code",
      "execution_count": null,
      "metadata": {
        "id": "vfVOp04obTM3"
      },
      "outputs": [],
      "source": [
        "fig = plot_histogram(list(y_pred), bins=total_clusters, title=\"Cluster Membership Counts\")"
      ]
    },
    {
      "cell_type": "code",
      "execution_count": null,
      "metadata": {
        "id": "spC-yVe8bW4v"
      },
      "outputs": [],
      "source": [
        "counts = Counter(list(y_pred))\n",
        "counts.most_common()[0]"
      ]
    },
    {
      "cell_type": "code",
      "execution_count": null,
      "metadata": {
        "id": "F1LYtVN7bZ6H"
      },
      "outputs": [],
      "source": [
        "y_pred_train_kmeans = kmeans.predict(X_train)\n",
        "y_pred_test_kmeans = kmeans.predict(X_val)"
      ]
    },
    {
      "cell_type": "code",
      "execution_count": null,
      "metadata": {
        "id": "nMiaiWiQbc6m"
      },
      "outputs": [],
      "source": [
        "kmeans_train_accuracy = get_model_report(y_train, y_pred_train_kmeans)\n",
        "kmeans_test_accuracy = get_model_report(y_val, y_pred_test_kmeans)\n",
        "models_summary = add_to_model_summary(models_summary, 'KMeans', kmeans_train_accuracy, kmeans_test_accuracy)"
      ]
    },
    {
      "cell_type": "markdown",
      "metadata": {
        "id": "1Dwd-32BbkmS"
      },
      "source": [
        "### Decision Trees"
      ]
    },
    {
      "cell_type": "code",
      "execution_count": null,
      "metadata": {
        "id": "798lVx24bgvG"
      },
      "outputs": [],
      "source": [
        "model_DecisionTree = DecisionTreeClassifier()\n",
        "model_DecisionTree.fit(X_train, y_train)"
      ]
    },
    {
      "cell_type": "code",
      "execution_count": null,
      "metadata": {
        "id": "vCqxTBUjbt-e"
      },
      "outputs": [],
      "source": [
        "cross_validation_accuracy_results = get_cross_validation(model_DecisionTree, X_train, y_train, 'accuracy', cv=10)"
      ]
    },
    {
      "cell_type": "code",
      "execution_count": null,
      "metadata": {
        "id": "XmsKa_yeb1zm"
      },
      "outputs": [],
      "source": [
        "print(\"Accuracy Scores across KFolds: \", cross_validation_accuracy_results)\n",
        "print(\"Accuracy for Decision Tree: \", cross_validation_accuracy_results.mean())"
      ]
    },
    {
      "cell_type": "code",
      "execution_count": null,
      "metadata": {
        "id": "IstiLsFwb47d"
      },
      "outputs": [],
      "source": [
        "params = {\n",
        "            'max_depth': [2, 3, 5, 10, 20],\n",
        "            'min_samples_leaf': [5, 10, 20, 50, 100],\n",
        "            'max_leaf_nodes': [10, 30, 50, 100, 120],\n",
        "            'criterion': ['gini', 'entropy'],\n",
        "            'max_features': ['sqrt', 'log2']\n",
        "        }"
      ]
    },
    {
      "cell_type": "code",
      "execution_count": null,
      "metadata": {
        "id": "1TVnoWiRb8ot"
      },
      "outputs": [],
      "source": [
        "random_search = RandomizedSearchCV(estimator=model_DecisionTree, \n",
        "                                   param_distributions=params, \n",
        "                                   cv=5, \n",
        "                                   n_jobs=-1,\n",
        "                                   n_iter=30,\n",
        "                                   verbose=1, \n",
        "                                   scoring = 'accuracy',\n",
        "                                   return_train_score = True)\n",
        "\n",
        "random_search.fit(X_train, y_train)"
      ]
    },
    {
      "cell_type": "code",
      "execution_count": null,
      "metadata": {
        "id": "d5g0Cg1ncC2t"
      },
      "outputs": [],
      "source": [
        "random_search_results_df = pd.DataFrame(random_search.cv_results_)\n",
        "print(\"Combinations tried using Random Search CV: \", random_search_results_df.shape[0])"
      ]
    },
    {
      "cell_type": "code",
      "execution_count": null,
      "metadata": {
        "id": "tghZ-fMOcGed"
      },
      "outputs": [],
      "source": [
        "random_search_results_df.head(10)"
      ]
    },
    {
      "cell_type": "code",
      "execution_count": null,
      "metadata": {
        "id": "HeR2EYGBcJVL"
      },
      "outputs": [],
      "source": [
        "fig = plot_cv_results(random_search_results_df, 'max_depth', 'criterion')"
      ]
    },
    {
      "cell_type": "code",
      "execution_count": null,
      "metadata": {
        "id": "V4vFsRb1cObk"
      },
      "outputs": [],
      "source": [
        "print(\"Best parameters for the Decision Tree based on Random Search CV: \\n\", random_search.best_params_)"
      ]
    },
    {
      "cell_type": "code",
      "execution_count": null,
      "metadata": {
        "id": "Sp-nSgHGcRd0"
      },
      "outputs": [],
      "source": [
        "print(\"Best Score for the Decision Tree based on Random Search CV:\", random_search.best_score_)"
      ]
    },
    {
      "cell_type": "markdown",
      "metadata": {
        "id": "4HwOrvTmcdn1"
      },
      "source": [
        "### Trying with best parameters obtained from Random Search CV"
      ]
    },
    {
      "cell_type": "code",
      "execution_count": null,
      "metadata": {
        "id": "A2No-UslcU4M"
      },
      "outputs": [],
      "source": [
        "model_DecisionTree_best_params = DecisionTreeClassifier(min_samples_leaf=100, \n",
        "                                            max_leaf_nodes=100, \n",
        "                                            max_features='log2', \n",
        "                                            max_depth=20, \n",
        "                                            criterion='entropy')"
      ]
    },
    {
      "cell_type": "code",
      "execution_count": null,
      "metadata": {
        "id": "8k-_8Pu8cjbL"
      },
      "outputs": [],
      "source": [
        "# Training with 70% dataset\n",
        "model_DecisionTree_best_params.fit(X_train_inventory, y_train_inventory)"
      ]
    },
    {
      "cell_type": "code",
      "execution_count": null,
      "metadata": {
        "id": "Vyx1gZJ7cmbL"
      },
      "outputs": [],
      "source": [
        "y_pred_train_decision_tree = model_DecisionTree_best_params.predict(X_train)\n",
        "y_pred_test_decision_tree = model_DecisionTree_best_params.predict(X_val)"
      ]
    },
    {
      "cell_type": "code",
      "execution_count": null,
      "metadata": {
        "id": "FO5DY3JXcpc6"
      },
      "outputs": [],
      "source": [
        "decision_tree_train_accuracy = get_model_report(y_train, y_pred_train_decision_tree)\n",
        "decision_tree_test_accuracy = get_model_report(y_val, y_pred_test_decision_tree)\n",
        "models_summary = add_to_model_summary(models_summary, 'Decision Tree', decision_tree_train_accuracy, decision_tree_test_accuracy"
      ]
    },
    {
      "cell_type": "markdown",
      "metadata": {
        "id": "zW1ie6IPcv6O"
      },
      "source": [
        "### Linear Regression"
      ]
    },
    {
      "cell_type": "code",
      "execution_count": null,
      "metadata": {
        "id": "sHtuvBrJcs0a"
      },
      "outputs": [],
      "source": [
        "model_linearRegression = LinearRegression()\n",
        "model_linearRegression.fit(X_train, y_train)\n",
        "model_linearRegression.score(X_train, y_train)"
      ]
    },
    {
      "cell_type": "markdown",
      "metadata": {
        "id": "WPMDrJ-jc-3h"
      },
      "source": [
        "### Trying our combinations of parameters"
      ]
    },
    {
      "cell_type": "code",
      "execution_count": null,
      "metadata": {
        "id": "XHmB9oqqcyTT"
      },
      "outputs": [],
      "source": [
        "model_linearRegression_1 = LinearRegression(fit_intercept=False,\n",
        "                                          n_jobs=-1,\n",
        "                                          positive=True)\n",
        "model_linearRegression_1.fit(X_train, y_train)\n",
        "model_linearRegression_1.score(X_train, y_train)"
      ]
    },
    {
      "cell_type": "code",
      "execution_count": null,
      "metadata": {
        "id": "vHC-wvPAdBpj"
      },
      "outputs": [],
      "source": [
        "model_linearRegression_2 = LinearRegression(fit_intercept=False,\n",
        "                                          n_jobs=-1,\n",
        "                                          positive=False)\n",
        "model_linearRegression_2.fit(X_train, y_train)\n",
        "model_linearRegression_2.score(X_train, y_train)"
      ]
    },
    {
      "cell_type": "code",
      "execution_count": null,
      "metadata": {
        "id": "Lty5VEycdKYM"
      },
      "outputs": [],
      "source": [
        "model_linearRegression_3 = LinearRegression(fit_intercept=True,\n",
        "                                          n_jobs=-1,\n",
        "                                          positive=True)\n",
        "model_linearRegression_3.fit(X_train, y_train)\n",
        "model_linearRegression_3.score(X_train, y_train)"
      ]
    },
    {
      "cell_type": "code",
      "execution_count": null,
      "metadata": {
        "id": "QsjvIw58dNo8"
      },
      "outputs": [],
      "source": [
        "# Going ahead with first combination of parameters used for model\n",
        "model_linearRegression.get_params()"
      ]
    },
    {
      "cell_type": "code",
      "execution_count": null,
      "metadata": {
        "id": "tOyVNJD6dUjc"
      },
      "outputs": [],
      "source": [
        "y_train_pred_linearRegression = model_linearRegression.predict(X_train)"
      ]
    },
    {
      "cell_type": "code",
      "execution_count": null,
      "metadata": {
        "id": "n3I7C1mDdfG8"
      },
      "outputs": [],
      "source": [
        "y_test_pred_linearRegression = model_linearRegression.predict(X_val)"
      ]
    },
    {
      "cell_type": "markdown",
      "metadata": {
        "id": "hYzCsBc7dl_w"
      },
      "source": [
        "### Mean Squared and Root Mean Squared Error for train and test"
      ]
    },
    {
      "cell_type": "code",
      "execution_count": null,
      "metadata": {
        "id": "aI9nt3BPdiMs"
      },
      "outputs": [],
      "source": [
        "LR_MSE_train = mean_squared_error(y_train, y_train_pred_linearRegression, squared = True)\n",
        "LR_MSE_train"
      ]
    },
    {
      "cell_type": "code",
      "execution_count": null,
      "metadata": {
        "id": "b7xasX2odr5U"
      },
      "outputs": [],
      "source": [
        "LR_RMSE_train = mean_squared_error(y_train, y_train_pred_linearRegression, squared = False)\n",
        "LR_RMSE_train"
      ]
    },
    {
      "cell_type": "code",
      "execution_count": null,
      "metadata": {
        "id": "0APwAbAedwRt"
      },
      "outputs": [],
      "source": [
        "LR_MSE_test = mean_squared_error(y_val, y_test_pred_linearRegression, squared = True)\n",
        "LR_MSE_test\n"
      ]
    },
    {
      "cell_type": "code",
      "execution_count": null,
      "metadata": {
        "id": "z1N5BtpYd2gl"
      },
      "outputs": [],
      "source": [
        "LR_RMSE_test = mean_squared_error(y_val, y_test_pred_linearRegression, squared = False)\n",
        "LR_RMSE_test"
      ]
    },
    {
      "cell_type": "markdown",
      "metadata": {
        "id": "MhslnYdbd9wL"
      },
      "source": [
        "### Logistic Regression"
      ]
    },
    {
      "cell_type": "code",
      "execution_count": null,
      "metadata": {
        "id": "yte3_SdYd6i9"
      },
      "outputs": [],
      "source": [
        "model_logisticRegression = LogisticRegression()\n",
        "model_logisticRegression.fit(X_train, y_train)"
      ]
    },
    {
      "cell_type": "code",
      "execution_count": null,
      "metadata": {
        "id": "rH8pWSa0eDoX"
      },
      "outputs": [],
      "source": [
        "model_logisticRegression.get_params()"
      ]
    },
    {
      "cell_type": "code",
      "execution_count": null,
      "metadata": {
        "id": "5rP40Gn1eGPI"
      },
      "outputs": [],
      "source": [
        "y_train_pred_logisticRegression = model_logisticRegression.predict(X_train)"
      ]
    },
    {
      "cell_type": "code",
      "execution_count": null,
      "metadata": {
        "id": "og1WoGk7eJG3"
      },
      "outputs": [],
      "source": [
        "y_test_pred_logistic_Regression = model_logisticRegression.predict(X_val)"
      ]
    },
    {
      "cell_type": "code",
      "execution_count": null,
      "metadata": {
        "id": "fkbhqD1UeMiQ"
      },
      "outputs": [],
      "source": [
        "LG_MSE_test = mean_squared_error(y_val, y_test_pred_logistic_Regression, squared = True)\n",
        "LG_MSE_test"
      ]
    },
    {
      "cell_type": "code",
      "execution_count": null,
      "metadata": {
        "id": "EXlFgkTweP4Y"
      },
      "outputs": [],
      "source": [
        "LG_RMSE_test = mean_squared_error(y_val, y_test_pred_logistic_Regression, squared = False)\n",
        "LG_RMSE_test"
      ]
    },
    {
      "cell_type": "code",
      "execution_count": null,
      "metadata": {
        "id": "z8NIURRWeULA"
      },
      "outputs": [],
      "source": [
        "print(confusion_matrix(y_val, y_test_pred_logistic_Regression))\n",
        "print(\"Logistic Regression accuracy \", accuracy_score(y_val, y_test_pred_logistic_Regression))\n",
        "#logistic_regression_confusion"
      ]
    },
    {
      "cell_type": "markdown",
      "metadata": {
        "id": "Lk6Htkckec49"
      },
      "source": [
        "### Trying manual combination of hyperparameters"
      ]
    },
    {
      "cell_type": "code",
      "execution_count": null,
      "metadata": {
        "id": "_aCsc4m8eX_v"
      },
      "outputs": [],
      "source": [
        "model_logisticRegression_1 = LogisticRegression(penalty='l2',\n",
        "                                                C=0.1,\n",
        "                                                class_weight='balanced',\n",
        "                                                solver='newton-cg'\n",
        "                                                )\n",
        "model_logisticRegression_1.fit(X_train, y_train)\n",
        "y_train_pred_logisticRegression_1 = model_logisticRegression_1.predict(X_train)\n",
        "get_model_report(y_train, y_train_pred_logisticRegression_1)"
      ]
    },
    {
      "cell_type": "code",
      "execution_count": null,
      "metadata": {
        "id": "FgdQSDVaeerK"
      },
      "outputs": [],
      "source": [
        "model_logisticRegression_2 = LogisticRegression(penalty='l2',\n",
        "                                                C=0.01,\n",
        "                                                class_weight='balanced',\n",
        "                                                solver='newton-cg',\n",
        "                                                tol=1e-2\n",
        "                                                )\n",
        "model_logisticRegression_2.fit(X_train, y_train)\n",
        "y_train_pred_logisticRegression_2 = model_logisticRegression_2.predict(X_train)\n",
        "get_model_report(y_train, y_train_pred_logisticRegression_2)"
      ]
    },
    {
      "cell_type": "code",
      "execution_count": null,
      "metadata": {
        "id": "npdBXl89eoey"
      },
      "outputs": [],
      "source": [
        "model_logisticRegression_3 = LogisticRegression(penalty='l2',\n",
        "                                                C=0.0001,\n",
        "                                                class_weight='balanced',\n",
        "                                                solver='newton-cg'\n",
        "                                                )\n",
        "model_logisticRegression_3.fit(X_train, y_train)\n",
        "y_train_pred_logisticRegression_3 = model_logisticRegression_3.predict(X_train)\n",
        "get_model_report(y_train, y_train_pred_logisticRegression_3)"
      ]
    },
    {
      "cell_type": "code",
      "execution_count": null,
      "metadata": {
        "id": "MMCRCYUuer2K"
      },
      "outputs": [],
      "source": [
        "model_logisticRegression_4 = LogisticRegression(penalty='l2',\n",
        "                                                C=0.1,\n",
        "                                                class_weight='balanced',\n",
        "                                                solver='lbfgs'\n",
        "                                                )\n",
        "model_logisticRegression_4.fit(X_train, y_train)\n",
        "y_train_pred_logisticRegression_4 = model_logisticRegression_4.predict(X_train)\n",
        "get_model_report(y_train, y_train_pred_logisticRegression_4)"
      ]
    },
    {
      "cell_type": "code",
      "execution_count": null,
      "metadata": {
        "id": "HQRyPXmEeu-a"
      },
      "outputs": [],
      "source": [
        "model_logisticRegression_5 = LogisticRegression(penalty='l2',\n",
        "                                                C=1.0,\n",
        "                                                class_weight='balanced',\n",
        "                                                solver='newton-cg'\n",
        "                                                )\n",
        "model_logisticRegression_5.fit(X_train, y_train)\n",
        "y_train_pred_logisticRegression_5 = model_logisticRegression_5.predict(X_train)\n",
        "get_model_report(y_train, y_train_pred_logisticRegression_5)"
      ]
    },
    {
      "cell_type": "code",
      "execution_count": null,
      "metadata": {
        "id": "3n6juuNkeyKh"
      },
      "outputs": [],
      "source": [
        "# adding model with best fit parameters to compare\n",
        "y_test_pred_logisticRegression_5 = model_logisticRegression_5.predict(X_val)\n",
        "\n",
        "logistic_regression_train_accuracy = get_model_report(y_train, y_train_pred_logisticRegression_5)\n",
        "logistic_regression_test_accuracy = get_model_report(y_val, y_test_pred_logisticRegression_5)\n",
        "models_summary = add_to_model_summary(models_summary, \n",
        "                                      'Logistic Regression', \n",
        "                                      logistic_regression_train_accuracy, \n",
        "                                      logistic_regression_test_accuracy)"
      ]
    },
    {
      "cell_type": "markdown",
      "metadata": {
        "id": "NaHjdBWte9rA"
      },
      "source": [
        "### Finding best parameters using Random Search CV"
      ]
    },
    {
      "cell_type": "code",
      "execution_count": null,
      "metadata": {
        "id": "p-eOXuAte10l"
      },
      "outputs": [],
      "source": [
        "params = {\n",
        "            'solver': ['newton-cg', 'lbfgs', 'liblinear'],\n",
        "            'penalty': ['l1', 'l2', 'elasticnet'],\n",
        "            'C': [1e-5, 1e-4, 1e-3, 1e-2, 1e-1]\n",
        "         }"
      ]
    },
    {
      "cell_type": "code",
      "execution_count": null,
      "metadata": {
        "id": "mW5Mar1Ye_vk"
      },
      "outputs": [],
      "source": [
        "random_search_LG = RandomizedSearchCV(estimator=model_logisticRegression, \n",
        "                                   param_distributions=params, \n",
        "                                   cv=5, \n",
        "                                   n_jobs=-1,\n",
        "                                   n_iter=30,\n",
        "                                   verbose=2, \n",
        "                                   scoring = 'accuracy',\n",
        "                                   return_train_score = True)\n",
        "\n",
        "random_search_LG.fit(X_train, y_train)"
      ]
    },
    {
      "cell_type": "code",
      "execution_count": null,
      "metadata": {
        "id": "NLuqGwL-fJoy"
      },
      "outputs": [],
      "source": [
        "random_search_LG_results_df = pd.DataFrame(random_search_LG.cv_results_)\n",
        "print(\"Combinations tried using Random Search CV: \", random_search_LG_results_df.shape[0])"
      ]
    },
    {
      "cell_type": "code",
      "execution_count": null,
      "metadata": {
        "id": "5KKUE7v8fMLe"
      },
      "outputs": [],
      "source": [
        "random_search_LG_results_df.head(10)"
      ]
    },
    {
      "cell_type": "code",
      "execution_count": null,
      "metadata": {
        "id": "E6QTaj7PfPH2"
      },
      "outputs": [],
      "source": [
        "fig = plot_cv_results(random_search_LG_results_df, 'solver', 'C')"
      ]
    },
    {
      "cell_type": "code",
      "execution_count": null,
      "metadata": {
        "id": "Qb9FONJCfRtO"
      },
      "outputs": [],
      "source": [
        "print(\"Best parameters for the Logistic Regression based on Random Search CV: \\n\", random_search_LG.best_params_)"
      ]
    },
    {
      "cell_type": "code",
      "execution_count": null,
      "metadata": {
        "id": "VdFXCEmEfWdI"
      },
      "outputs": [],
      "source": [
        "print(\"Best Score for the Logistic Regression based on Random Search CV:\", random_search_LG.best_score_)"
      ]
    },
    {
      "cell_type": "markdown",
      "metadata": {
        "id": "ZkoMAF2wffTl"
      },
      "source": [
        "#### Trying with best parameters obtained from Random Search CV"
      ]
    },
    {
      "cell_type": "code",
      "execution_count": null,
      "metadata": {
        "id": "s3GRqAYTfaVy"
      },
      "outputs": [],
      "source": [
        "model_logisticRegression_best_params = LogisticRegression(solver='',\n",
        "                                                          C=,\n",
        "                                                          penalty='')"
      ]
    },
    {
      "cell_type": "code",
      "execution_count": null,
      "metadata": {
        "id": "fMzYZw_Lfh5Z"
      },
      "outputs": [],
      "source": [
        "# Training with 70% dataset\n",
        "model_DecisionTree_best_params.fit(X_train_inventory, y_train_inventory)"
      ]
    },
    {
      "cell_type": "code",
      "execution_count": null,
      "metadata": {
        "id": "PG_T7oTYfoiz"
      },
      "outputs": [],
      "source": [
        "y_pred_decision_tree = model_DecisionTree_best_params.predict(X_val)"
      ]
    },
    {
      "cell_type": "markdown",
      "metadata": {
        "id": "66DXgCQafs5I"
      },
      "source": [
        "### Neural Networks"
      ]
    },
    {
      "cell_type": "code",
      "execution_count": null,
      "metadata": {
        "id": "Gz9Otj0sfr8T"
      },
      "outputs": [],
      "source": [
        "def get_nn_model_performance(model_history, epoch_run):\n",
        "    \"\"\" Display model performance for Neural Networks\n",
        "    \"\"\"\n",
        "    train_acc = model_history.history['accuracy']\n",
        "    train_loss = model_history.history['loss']\n",
        "    val_acc = model_history.history['val_accuracy']\n",
        "    val_loss = model_history.history['val_loss']\n",
        "\n",
        "    epochs = [i for i in range(epoch_run)]\n",
        "    fig , ax = plt.subplots(1,2)\n",
        "    fig.set_size_inches(20, 10)\n",
        "\n",
        "    ax[0].plot(epochs , train_acc , 'go-' , label = 'Training Accuracy')\n",
        "    ax[0].plot(epochs , val_acc , 'ro-' , label = 'Validation Accuracy')\n",
        "    ax[0].set_title('Training & Validation Accuracy')\n",
        "    ax[0].legend()\n",
        "    ax[0].set_xlabel(\"Epochs\")\n",
        "    ax[0].set_ylabel(\"Accuracy\")\n",
        "    ax[1].plot(epochs , train_loss , 'go-' , label = 'Training Loss')\n",
        "    ax[1].plot(epochs , val_loss , 'ro-' , label = 'Validation Loss')\n",
        "    ax[1].set_title('Training & Validation Loss')\n",
        "    ax[1].legend()\n",
        "    ax[1].set_xlabel(\"Epochs\")\n",
        "    ax[1].set_ylabel(\"Loss\")\n",
        "\n",
        "    plt.show()"
      ]
    },
    {
      "cell_type": "code",
      "execution_count": null,
      "metadata": {
        "id": "067wvsZJf6ud"
      },
      "outputs": [],
      "source": [
        "# NN configurations\n",
        "batch_size = 20\n",
        "epochs = 100\n",
        "callbacks = [\n",
        "        keras.callbacks.EarlyStopping(     #EarlyStopping is used to stop at the epoch where val_loss does not improve significantly\n",
        "            monitor='val_loss',\n",
        "            min_delta=1e-2,\n",
        "            patience=10,\n",
        "            verbose=1\n",
        "        )]\n",
        "\n",
        "# Initialize weight tensors with a normal \"Xavier\" distribution\n",
        "initializer = tf.keras.initializers.GlorotNormal()\n",
        "\n",
        "def NN_model(dense_layers):\n",
        "    \"\"\"Returns the developed bidirectional lstm model\n",
        "    \"\"\"\n",
        "    model = Sequential(dense_layers)\n",
        "    model.add(Dense(1, activation='relu'))\n",
        "    \n",
        "    return model\n",
        "\n",
        "\n",
        "def fit_model(model, X_train, y_train, X_val=None, y_val=None, batch_size=100, epochs=50, learning_rate=0.001):\n",
        "    \"\"\"Compiling and Fitting the model on data\n",
        "    \n",
        "    Args:\n",
        "        model: machine learning model to be trained on data\n",
        "        X_train: Training dataset\n",
        "        y_train: Training labels\n",
        "        X_val: Validation dataset\n",
        "        y_val: Validation labels\n",
        "    Returns:\n",
        "        model_history: history object with training & validation loss values and metrics values at successive epochs\n",
        "    \"\"\"\n",
        "    model.compile(loss='mse', \n",
        "                  optimizer=tf.keras.optimizers.Adam(lr=learning_rate), \n",
        "                  metrics=['mae', 'accuracy']) \n",
        "    \n",
        "    # fit the model\n",
        "    model_history = model.fit(X_train, y_train,\n",
        "                              validation_data=(X_val, y_val),\n",
        "                              batch_size=batch_size, \n",
        "                              epochs=epochs,\n",
        "                              callbacks=callbacks)\n",
        "    \n",
        "    \n",
        "    return model_history, model"
      ]
    },
    {
      "cell_type": "code",
      "execution_count": null,
      "metadata": {
        "id": "Bc-ZKjE6gDhw"
      },
      "outputs": [],
      "source": [
        "dense_layers = []\n",
        "dense_layers.append(Dense(256, kernel_initializer=initializer, input_dim=1024))\n",
        "dense_layers.append(Dense(512, activation='relu'))\n",
        "\n",
        "NN_model(dense_layers).summary()"
      ]
    },
    {
      "cell_type": "code",
      "execution_count": null,
      "metadata": {
        "id": "Kqgd5FnYgHTA"
      },
      "outputs": [],
      "source": [
        "model_history_1, nn_model_1  = fit_model(NN_model(dense_layers), X_train, y_train, X_val, y_val)"
      ]
    },
    {
      "cell_type": "code",
      "execution_count": null,
      "metadata": {
        "id": "HdSG5BlDgKX4"
      },
      "outputs": [],
      "source": [
        "get_nn_model_performance(model_history_1, epoch_run=22)"
      ]
    },
    {
      "cell_type": "code",
      "execution_count": null,
      "metadata": {
        "id": "_isYGiO-gNyx"
      },
      "outputs": [],
      "source": [
        "dense_layers = []\n",
        "dense_layers.append(Dense(256, kernel_initializer=initializer, input_dim=1024))\n",
        "dense_layers.append(Dense(128, activation='relu'))\n",
        "dense_layers.append(Dense(64, activation='softmax'))\n",
        "\n",
        "NN_model(dense_layers).summary()"
      ]
    },
    {
      "cell_type": "code",
      "execution_count": null,
      "metadata": {
        "id": "W1dDRN4qhNQI"
      },
      "outputs": [],
      "source": [
        "model_history_2, nn_model_2  = fit_model(NN_model(dense_layers), X_train, y_train, X_val, y_val)"
      ]
    },
    {
      "cell_type": "code",
      "execution_count": null,
      "metadata": {
        "id": "pNRXNOiLhsL_"
      },
      "outputs": [],
      "source": [
        "get_nn_model_performance(model_history_2, epoch_run=11)"
      ]
    },
    {
      "cell_type": "code",
      "execution_count": null,
      "metadata": {
        "id": "D8PmaFqlhvm3"
      },
      "outputs": [],
      "source": [
        "dense_layers = []\n",
        "dense_layers.append(Dense(64, kernel_initializer=initializer, input_dim=10404))\n",
        "dense_layers.append(Dense(32, activation='relu'))\n",
        "dense_layers.append(Dense(16, activation='softmax'))\n",
        "\n",
        "NN_model(dense_layers).summary()"
      ]
    },
    {
      "cell_type": "code",
      "execution_count": null,
      "metadata": {
        "id": "rd_sFAMvhyxH"
      },
      "outputs": [],
      "source": [
        "model_history_3, nn_model_3 = fit_model(NN_model(dense_layers), \n",
        "                                        X_train_nn, y_train_nn, \n",
        "                                        X_val_nn, y_val_nn,\n",
        "                                        batch_size=20, \n",
        "                                        epochs=200,\n",
        "                                        learning_rate=0.1)"
      ]
    },
    {
      "cell_type": "code",
      "execution_count": null,
      "metadata": {
        "id": "0B0jG7Mfh2PX"
      },
      "outputs": [],
      "source": [
        "get_nn_model_performance(model_history_3, epoch_run=17)"
      ]
    },
    {
      "cell_type": "code",
      "execution_count": null,
      "metadata": {
        "id": "vHt-nFPjiHFX"
      },
      "outputs": [],
      "source": [
        "nn_model_acuracy_3 = nn_model_3.evaluate(X_test_nn, y_test_nn)"
      ]
    },
    {
      "cell_type": "code",
      "execution_count": null,
      "metadata": {
        "id": "p6Mo2DQuiJu-"
      },
      "outputs": [],
      "source": [
        "models_summary = add_to_model_summary(models_summary, \n",
        "                                      'Neural Network - 90% Data ', \n",
        "                                      0.01, \n",
        "                                      nn_model_acuracy_3[2]\n",
        "                                      )"
      ]
    },
    {
      "cell_type": "code",
      "execution_count": null,
      "metadata": {
        "id": "Ppaefdk1iNBP"
      },
      "outputs": [],
      "source": [
        "optimizer = ['SGD', 'RMSprop', 'Adagrad', 'Adadelta', 'Adam', 'Adamax', 'Nadam']\n",
        "learn_rate = [0.001, 0.01, 0.1, 0.2, 0.3]\n",
        "\n",
        "param_grid = {'optimizer__learning_rate': learn_rate,\n",
        "              'optimizer': optimizer,\n",
        "              'batch_size': [10, 20, 40, 60, 80, 100],\n",
        "              'epochs': [10, 50, 100],\n",
        "             }"
      ]
    },
    {
      "cell_type": "code",
      "execution_count": null,
      "metadata": {
        "id": "njoNPH-uiQ_u"
      },
      "outputs": [],
      "source": [
        "model_history_4, nn_model_4 = fit_model(NN_model(dense_layers), \n",
        "                                        X_train_nn, y_train_nn, \n",
        "                                        X_val_nn, y_val_nn,\n",
        "                                        batch_size=10, \n",
        "                                        epochs=500,\n",
        "                                        learning_rate=1)"
      ]
    },
    {
      "cell_type": "code",
      "execution_count": null,
      "metadata": {
        "id": "y6WMwzifiUsy"
      },
      "outputs": [],
      "source": [
        "get_nn_model_performance(model_history_4)\n",
        "nn_model_acuracy_4 = nn_model_4.evaluate(X_test_nn, y_test_nn)"
      ]
    },
    {
      "cell_type": "code",
      "execution_count": null,
      "metadata": {
        "id": "EeFEO97HiXwS"
      },
      "outputs": [],
      "source": [
        "model_history_5, nn_model_5 = fit_model(NN_model(dense_layers), \n",
        "                                        X_train_nn, y_train_nn, \n",
        "                                        X_val_nn, y_val_nn,\n",
        "                                        batch_size=40, \n",
        "                                        epochs=500,\n",
        "                                        learning_rate=0.01)"
      ]
    },
    {
      "cell_type": "code",
      "execution_count": null,
      "metadata": {
        "id": "uSKX48LZiasa"
      },
      "outputs": [],
      "source": [
        "get_nn_model_performance(model_history_5, epoch_run=21)\n",
        "nn_model_acuracy_5 = nn_model_4.evaluate(X_test_nn, y_test_nn)"
      ]
    },
    {
      "cell_type": "markdown",
      "metadata": {
        "id": "rEIDFFjEir7M"
      },
      "source": [
        "### Model Comparison"
      ]
    },
    {
      "cell_type": "code",
      "execution_count": null,
      "metadata": {
        "id": "GTOTkGdPieii"
      },
      "outputs": [],
      "source": [
        "models_summary.head(10)\n"
      ]
    },
    {
      "cell_type": "markdown",
      "metadata": {
        "id": "N0Y7x7iFjAhf"
      },
      "source": [
        "### Using the Multi Layer Perception"
      ]
    },
    {
      "cell_type": "markdown",
      "metadata": {
        "id": "uX8pTFSv6NuP"
      },
      "source": [
        "### Building the network"
      ]
    },
    {
      "cell_type": "code",
      "execution_count": null,
      "metadata": {
        "id": "1O8uxowI6XXo"
      },
      "outputs": [],
      "source": [
        "model = keras.models.Sequential()\n",
        "model.add(keras.layers.Flatten(input_shape=[28, 28])) # first layer convert each input image into a 1D array\n",
        "model.add(keras.layers.Dense(512, activation=\"relu\")) #hidden layer with 300 neurons useing the ReLU activation function.\n",
        "model.add(keras.layers.Dense(512, activation=\"relu\")) #hidden layer with 300 neurons useing the ReLU activation function.\n",
        "#hidden layer with 100 neurons using the ReLU\n",
        "\n",
        "model.add(keras.layers.Dense(100, activation=\"softmax\")) #output layer with 100 neurons (one per class), using the softmax "
      ]
    },
    {
      "cell_type": "code",
      "execution_count": null,
      "metadata": {
        "id": "U-77EDYkit7O"
      },
      "outputs": [],
      "source": [
        "keras.backend.clear_session()\n",
        "np.random.seed(42)\n",
        "tf.random.set_seed(42)\n"
      ]
    },
    {
      "cell_type": "code",
      "execution_count": null,
      "metadata": {
        "id": "7Ufn-UnljCA_"
      },
      "outputs": [],
      "source": [
        "model.summary()"
      ]
    },
    {
      "cell_type": "markdown",
      "metadata": {
        "id": "-U7rvU8M6pmY"
      },
      "source": [
        "### Training the network"
      ]
    },
    {
      "cell_type": "code",
      "execution_count": null,
      "metadata": {
        "id": "YXyapiCQ6mKj"
      },
      "outputs": [],
      "source": [
        "model.compile(loss=\"sparse_categorical_crossentropy\",\n",
        "              optimizer=\"adam\", #\"sgd\" simply means that we will train the model using simple Stochastic Gradient Descent\n",
        "              metrics=[\"accuracy\"])"
      ]
    },
    {
      "cell_type": "code",
      "execution_count": null,
      "metadata": {
        "id": "aDAuAxvc6rgM"
      },
      "outputs": [],
      "source": [
        "history = model.fit(X_train, y_train, batch_size=256, epochs=30,\n",
        "                    validation_data=(X_valid, y_valid))"
      ]
    },
    {
      "cell_type": "markdown",
      "metadata": {
        "id": "L2Ag_OI5623I"
      },
      "source": [
        "### Network training curve & evaluation"
      ]
    },
    {
      "cell_type": "code",
      "execution_count": null,
      "metadata": {
        "id": "XVYMPPDu6zfM"
      },
      "outputs": [],
      "source": [
        "pd.DataFrame(history.history).plot(figsize=(8, 5))\n",
        "plt.grid(True)\n",
        "plt.gca().set_ylim(0, 1)\n",
        "plt.show()\n"
      ]
    },
    {
      "cell_type": "code",
      "execution_count": null,
      "metadata": {
        "id": "OKcONPf87IYs"
      },
      "outputs": [],
      "source": [
        "model.evaluate(X_test, y_test)"
      ]
    },
    {
      "cell_type": "markdown",
      "metadata": {
        "id": "hMrCHt0u7Upy"
      },
      "source": [
        "### Using ANN and CNN"
      ]
    },
    {
      "cell_type": "code",
      "execution_count": null,
      "metadata": {
        "id": "pftJL8AH7QsN"
      },
      "outputs": [],
      "source": [
        "model2 = tf.keras.models.Sequential([\n",
        "  tf.keras.layers.Conv2D(64, (3,3), activation='relu', input_shape=(28, 28, 1)),\n",
        "  tf.keras.layers.MaxPooling2D(2, 2),\n",
        "  tf.keras.layers.Conv2D(64, (3,3), activation='relu'),\n",
        "  tf.keras.layers.MaxPooling2D(2,2),\n",
        "  tf.keras.layers.Flatten(),\n",
        "  tf.keras.layers.Dense(128, activation='relu'),\n",
        "  tf.keras.layers.Dense(100, activation='softmax')\n",
        "])\n",
        "model2.compile(optimizer='adam', loss='sparse_categorical_crossentropy', metrics=['accuracy'])\n",
        "model2.summary()"
      ]
    },
    {
      "cell_type": "code",
      "execution_count": null,
      "metadata": {
        "id": "0BypQmYt7djV"
      },
      "outputs": [],
      "source": [
        "cnn = model2.fit(X_train, y_train, epochs=20, validation_data=(X_valid, y_valid))"
      ]
    },
    {
      "cell_type": "code",
      "execution_count": null,
      "metadata": {
        "id": "I5j2ruWa7i3q"
      },
      "outputs": [],
      "source": [
        "pd.DataFrame(cnn.history).plot(figsize=(8, 5))\n",
        "plt.grid(True)\n",
        "plt.gca().set_ylim(0, 1)\n",
        "plt.show()\n"
      ]
    },
    {
      "cell_type": "code",
      "execution_count": null,
      "metadata": {
        "id": "GtQphmB47nAF"
      },
      "outputs": [],
      "source": [
        "model2.evaluate(X_test, y_test)"
      ]
    },
    {
      "cell_type": "code",
      "execution_count": null,
      "metadata": {
        "id": "gi8hFJL77qUI"
      },
      "outputs": [],
      "source": []
    }
  ],
  "metadata": {
    "colab": {
      "provenance": []
    },
    "kernelspec": {
      "display_name": "Python 3.9.13 64-bit",
      "language": "python",
      "name": "python3"
    },
    "language_info": {
      "name": "python",
      "version": "3.9.13"
    },
    "vscode": {
      "interpreter": {
        "hash": "11938c6bc6919ae2720b4d5011047913343b08a43b18698fd82dedb0d4417594"
      }
    }
  },
  "nbformat": 4,
  "nbformat_minor": 0
}
