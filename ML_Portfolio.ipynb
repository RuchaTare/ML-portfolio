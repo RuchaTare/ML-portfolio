{
 "cells": [
  {
   "cell_type": "markdown",
   "metadata": {
    "id": "QZlFCH54Xsmp"
   },
   "source": [
    "# F21DL - ML Portfolio Coursework \n",
    "### MIT Places Dataset for identifying places using computer vision\n",
    "#### Rucha Tare\n",
    "#### Maxime Mavel\n",
    "#### Daniel Eneh\n",
    "#### Aureline Lohmann\n"
   ]
  },
  {
   "cell_type": "markdown",
   "metadata": {
    "id": "J98gGZKWX7fy"
   },
   "source": [
    "## Step 1 - Data Sourcing: \n",
    "We chose MIT places mini dataset from below 4 datasets \n",
    "\n",
    "1. Bird species classification - BIRDS 400 - SPECIES IMAGE CLASSIFICATION | Kaggle (Links to an external site.)\n",
    "     \n",
    "     Source: Kaggle\n",
    "\n",
    "     Data Description: Data helps to predict bird species with help of images and attributes tagged to images. Data has species of 400 birds and number of images for each species. It also has attributes like height, weight of the image used, name of the bird and class of the bird species. The data is already divided into test and train folders. It has 400 instances\n",
    "\n",
    "2. Australian Sign Language: UCI Machine Learning Repository: Australian Sign Language signs Data Set (Links to an external site.)\n",
    "\n",
    "   Source: UCL Machine Learning Repository\n",
    "\n",
    "   Data description: Data has x,y,z coordinate measurements of a Nintendo Glove that helps to predict that Australian Sign Language. The data has 15 attributes related to positions of the co-ordinate and images with 6650 instances\n",
    "\n",
    "3. Movie Genre prediction from its posters: Movie Genre from its Poster | Kaggle (Links to an external site.)\n",
    " Source - Kaggle\n",
    "\n",
    " Description of the data: This dataset has images of the movie posters and movie attributes like IMDB ID, IMDB link, Genre, Ranking. It has 998 instances.\n",
    "\n",
    "Pros: \n",
    "1. Has combination of images and attributes \n",
    "2. Since we have a lot of movie posters on internet, we can tweak data sets to add more instances if needed or manipulate the data\n",
    "3. We can test the model on newer poster every time so that it actually predicts accurate results as compared to above bird or sign languages.\n",
    "Attributes have link, text,number, floats to play around with\n",
    "\n",
    "\n",
    "4. MIT places Mini dataset: We later found this MIT places mini dataset which is a great places dataset originally created by MIT AI researchers. It has 100,000 images labelled. We have taken subset of it not all the dataset hence it is called mini MIT places \n",
    "http://dl.caffe.berkeleyvision.org/mit_mini_places/\n",
    "\n",
    "Source : Google\n",
    "\n",
    "Pros of this dataset :\n",
    "\n",
    "1. More number of instances\n",
    "\n",
    "2. Credible datasets by MIT researchers\n",
    "\n",
    "3. More number of features will help us learn and explore more\n",
    "\n",
    "4. Versatile dataset that can be played around with many applications and things are it identifying places and scenes \n",
    "\n",
    "Cons with First three datasets:\n",
    "\n",
    "1. Creating new data will be troublesome as we don't have images and attributes.\n",
    "\n",
    "2. Australian sign language attributes are just coordinates so it is not much to play around with, similar to the bird dataset that mostly has numbers and two text columns\n",
    "\n",
    "3. Movie was a great dataset but number of instances were 998 only. \n",
    "\n",
    "Conclusion: Due to above cons we decided to choose the MIT places dataset"
   ]
  },
  {
   "cell_type": "markdown",
   "metadata": {
    "id": "ZbZEfRf69M7k"
   },
   "source": [
    "GITLAB Repo link :  https://gitlab-student.macs.hw.ac.uk/rt2026/ml-portoflio-mit-places"
   ]
  },
  {
   "cell_type": "markdown",
   "metadata": {
    "id": "qB-l7Q6J7SRG"
   },
   "source": [
    "### 1.1 - Importing Relevant Libraries and data options"
   ]
  },
  {
   "cell_type": "code",
   "execution_count": 1,
   "metadata": {
    "id": "Lry0ybOv7FRr"
   },
   "outputs": [],
   "source": [
    "# ignore warnings\n",
    "import warnings\n",
    "warnings.filterwarnings('ignore')\n",
    "# importing needed libraries to python\n",
    "import pandas as pd\n",
    "import os\n",
    "import re\n",
    "import numpy as np\n",
    "\n",
    "# visualisations\n",
    "import seaborn as sns\n",
    "import matplotlib.pyplot as plt\n",
    "from scipy.stats import zscore\n",
    "from collections import Counter\n",
    "\n",
    "# import openCV\n",
    "import cv2\n",
    "\n",
    "# sklearn imports\n",
    "from sklearn import preprocessing\n",
    "from sklearn.model_selection import (train_test_split, cross_val_score, \n",
    "                                     cross_val_predict, cross_validate, \n",
    "                                     RandomizedSearchCV)\n",
    "\n",
    "from sklearn.naive_bayes import GaussianNB, MultinomialNB, ComplementNB, BernoulliNB, CategoricalNB\n",
    "from sklearn.linear_model import SGDClassifier, LogisticRegression, LinearRegression\n",
    "from sklearn.neighbors import KNeighborsClassifier\n",
    "from sklearn.cluster import MiniBatchKMeans, KMeans\n",
    "from sklearn.mixture import GaussianMixture\n",
    "from sklearn.tree import DecisionTreeClassifier\n",
    "\n",
    "from sklearn.metrics import (accuracy_score, f1_score, \n",
    "                             recall_score, precision_score, \n",
    "                             confusion_matrix, mean_squared_error)"
   ]
  },
  {
   "cell_type": "markdown",
   "metadata": {},
   "source": [
    "### Configurations"
   ]
  },
  {
   "cell_type": "code",
   "execution_count": 2,
   "metadata": {
    "colab": {
     "base_uri": "https://localhost:8080/"
    },
    "id": "0VyIcmkNk1EP",
    "outputId": "2f45362c-96eb-49e7-9311-ee7877c09419"
   },
   "outputs": [],
   "source": [
    "category_dir = 'labels/'\n",
    "image_dir = 'images'"
   ]
  },
  {
   "cell_type": "code",
   "execution_count": 3,
   "metadata": {},
   "outputs": [],
   "source": [
    "categories_txt = 'categories.txt'\n",
    "train_txt= 'train.txt'\n",
    "val_txt= 'val.txt'\n",
    "path_train= category_dir + train_txt\n",
    "path_val = category_dir + val_txt "
   ]
  },
  {
   "cell_type": "markdown",
   "metadata": {
    "id": "CTM5tIlF578Y"
   },
   "source": [
    "## Step 2 - Data Loading and Data preprocessing\n",
    "\n",
    "Data Description: \n",
    " categories.txt - 0-99 categories\n",
    "\n",
    " train.txt - training dataset to categorise images\n",
    "\n",
    " training data images- 100,000 Images for all the 0-99 categories\n",
    " \n",
    " \n",
    " "
   ]
  },
  {
   "cell_type": "markdown",
   "metadata": {},
   "source": [
    "### Creating Category Dataset"
   ]
  },
  {
   "cell_type": "code",
   "execution_count": 4,
   "metadata": {},
   "outputs": [],
   "source": [
    "categories_file = open(f'{category_dir}{categories_txt}', 'r') \n",
    "category_records = categories_file.readlines()\n",
    "categories_file.close()"
   ]
  },
  {
   "cell_type": "markdown",
   "metadata": {},
   "source": [
    "We are creating a dictionary for category that will have category id and category record so that we can later verify the category name with the id. Since few categories also have sub categories in them e.g /i/ice_skating_rink/outdoor 56 we are replacing \"/\" to \"-\". So that we get the prediction as ice_skating_rink - outdoor"
   ]
  },
  {
   "cell_type": "code",
   "execution_count": 5,
   "metadata": {},
   "outputs": [],
   "source": [
    "categories_dataset = {}\n",
    "for category_record in category_records:\n",
    "    category_name, category_id = category_record.split(\" \")\n",
    "    category_name = category_name[3:].replace('/','-')\n",
    "    \n",
    "    categories_dataset[int(category_id)] = category_name"
   ]
  },
  {
   "cell_type": "markdown",
   "metadata": {},
   "source": [
    "### Image Preprocessing"
   ]
  },
  {
   "cell_type": "code",
   "execution_count": 6,
   "metadata": {},
   "outputs": [
    {
     "name": "stdout",
     "output_type": "stream",
     "text": [
      "images/train/a/abbey/00000001.jpg\n"
     ]
    }
   ],
   "source": [
    "# verifying the image path\n",
    "print(f'{image_dir}/train/a/abbey/00000001.jpg')"
   ]
  },
  {
   "cell_type": "code",
   "execution_count": 7,
   "metadata": {},
   "outputs": [],
   "source": [
    "# reading a test image for two reasons: 1. Checking the image 2. Using the image to take 80% of its dimensions to scale \n",
    "test_image = cv2.imread(f'{image_dir}/train/a/abbey/00000001.jpg', cv2.IMREAD_COLOR)"
   ]
  },
  {
   "cell_type": "code",
   "execution_count": 8,
   "metadata": {},
   "outputs": [
    {
     "data": {
      "image/png": "[encoded data removed]",
      "text/plain": [
       "<Figure size 432x288 with 1 Axes>"
      ]
     },
     "metadata": {
      "needs_background": "light"
     },
     "output_type": "display_data"
    }
   ],
   "source": [
    "# verifying the image plot for test image\n",
    "plt.imshow(test_image)\n",
    "plt.show()"
   ]
  },
  {
   "cell_type": "code",
   "execution_count": 9,
   "metadata": {},
   "outputs": [
    {
     "name": "stdout",
     "output_type": "stream",
     "text": [
      "Scaled image size should be:  (32, 32)\n"
     ]
    }
   ],
   "source": [
    "# getting the 25% size for image for further preprocessing\n",
    "SCALE_PERCENT = 25\n",
    "WIDTH = int(test_image.shape[1] * SCALE_PERCENT / 100)\n",
    "HEIGHT = int(test_image.shape[0] * SCALE_PERCENT / 100)\n",
    "DIM = (WIDTH, HEIGHT)\n",
    "\n",
    "# printing the scaled size of the test image. We will use these dimensions in the below function while scaling train and val images\n",
    "print(\"Scaled image size should be: \", DIM)"
   ]
  },
  {
   "cell_type": "code",
   "execution_count": 10,
   "metadata": {},
   "outputs": [],
   "source": [
    "def image_resize(image):\n",
    "    \"\"\" Function to define resizing images. This will be called from image_preprocess\n",
    "    Args: \n",
    "        image list: list of images\n",
    "    returns:\n",
    "        image_rs list: list of images resized \n",
    "    \"\"\"\n",
    "    image_rs = cv2.resize(image, DIM, interpolation=cv2.INTER_AREA)\n",
    "\n",
    "    return image_rs        "
   ]
  },
  {
   "cell_type": "code",
   "execution_count": 11,
   "metadata": {},
   "outputs": [],
   "source": [
    "def image_to_array(images):\n",
    "    \"\"\" Defining function to convert images to array\n",
    "    Args:\n",
    "        images: list of images\n",
    "    returns:\n",
    "        images_arr_rs: array of reshaped images\n",
    "    \"\"\"\n",
    "    # Data Normalization\n",
    "    images = np.array(images)\n",
    "    images = images.astype('float32') \n",
    "    # Normalization\n",
    "    images = images/255.0\n",
    "    images_arr_rs = images.reshape((len(images), -1))\n",
    "\n",
    "    return images_arr_rs"
   ]
  },
  {
   "cell_type": "code",
   "execution_count": 12,
   "metadata": {},
   "outputs": [],
   "source": [
    "def preprocess_image(image_dir, category_path):\n",
    "    \"\"\" Defining a function to read, resize images and categories\n",
    "    Args:\n",
    "        image_dir: image_dir to read images from\n",
    "        category_path: category path to read categories\n",
    "    \"\"\"\n",
    "    images = []\n",
    "    image_paths = []\n",
    "    categories = []\n",
    "    file = open(category_path, 'r') \n",
    "    label_records = file.readlines()\n",
    "    file.close()\n",
    "\n",
    "    for record in label_records:\n",
    "        # split each line on label file using spaces into image path and category id\n",
    "        image_path, category = record.split(\" \")  \n",
    "\n",
    "        # load images and resize\n",
    "        image_w= cv2.imread(f'{image_dir}/{image_path}', cv2.IMREAD_COLOR)\n",
    "        image_bw = cv2.cvtColor(image_w, cv2.COLOR_BGR2GRAY)\n",
    "        image = image_resize(image_bw)\n",
    "        \n",
    "        # load filenames as a list\n",
    "        image_paths.append(f'{image_dir}/{image_path}')\n",
    "\n",
    "        # adding image and category to the list\n",
    "        images.append(image)\n",
    "        categories.append(int(category))\n",
    "        \n",
    "    return images, categories, image_paths"
   ]
  },
  {
   "cell_type": "code",
   "execution_count": 13,
   "metadata": {},
   "outputs": [
    {
     "name": "stdout",
     "output_type": "stream",
     "text": [
      "abbey\n"
     ]
    },
    {
     "data": {
      "image/png": "[encoded data removed]",
      "text/plain": [
       "<Figure size 432x288 with 1 Axes>"
      ]
     },
     "metadata": {
      "needs_background": "light"
     },
     "output_type": "display_data"
    }
   ],
   "source": [
    "# getting train dataset by calling preprocess and plotting a train image and verifying its category\n",
    "images_train, category_train, image_paths_train = preprocess_image(image_dir, path_train)\n",
    "print(categories_dataset[category_train[0]])\n",
    "plt.imshow(images_train[0], cmap='gray')\n",
    "plt.show()"
   ]
  },
  {
   "cell_type": "code",
   "execution_count": 14,
   "metadata": {},
   "outputs": [
    {
     "name": "stdout",
     "output_type": "stream",
     "text": [
      "palace\n"
     ]
    },
    {
     "data": {
      "image/png": "[encoded data removed]",
      "text/plain": [
       "<Figure size 432x288 with 1 Axes>"
      ]
     },
     "metadata": {
      "needs_background": "light"
     },
     "output_type": "display_data"
    }
   ],
   "source": [
    "# getting validation dataset by calling preprocess and plotting a val image and verifying its category\n",
    "images_val, category_val, image_paths_val = preprocess_image(image_dir, path_val)\n",
    "print(categories_dataset[category_val[0]])\n",
    "plt.imshow(images_val[0], cmap='gray')\n",
    "plt.show()"
   ]
  },
  {
   "cell_type": "code",
   "execution_count": 15,
   "metadata": {},
   "outputs": [],
   "source": [
    "# calling images to array and getting X train, Y train, X val , Y val\n",
    "X = image_to_array(images_train)\n",
    "y = pd.DataFrame(category_train, columns=['category'])\n",
    "X_val = image_to_array(images_val)\n",
    "y_val = pd.DataFrame(category_val, columns=['category'])"
   ]
  },
  {
   "cell_type": "code",
   "execution_count": 16,
   "metadata": {},
   "outputs": [],
   "source": [
    "X_train, X_train_inventory, y_train, y_train_inventory = train_test_split(X, y, test_size=0.70, random_state=42, stratify=y)"
   ]
  },
  {
   "cell_type": "code",
   "execution_count": 17,
   "metadata": {},
   "outputs": [],
   "source": [
    "X_val, X_val_inventory, y_val, y_val_inventory = train_test_split(X_val, y_val, test_size=0.60, random_state=42, stratify=y_val)"
   ]
  },
  {
   "cell_type": "code",
   "execution_count": 18,
   "metadata": {},
   "outputs": [
    {
     "name": "stdout",
     "output_type": "stream",
     "text": [
      "X_train Shape:  (30000, 1024)\n",
      "y_train Shape:  (30000, 1)\n",
      "X_val Shape:  (4000, 1024)\n",
      "y_val Shape:  (4000, 1)\n"
     ]
    }
   ],
   "source": [
    "print(\"X_train Shape: \", X_train.shape)\n",
    "print(\"y_train Shape: \", y_train.shape)\n",
    "print(\"X_val Shape: \", X_val.shape)\n",
    "print(\"y_val Shape: \", y_val.shape)"
   ]
  },
  {
   "cell_type": "markdown",
   "metadata": {},
   "source": [
    "# Model Monitoring Helper Functions"
   ]
  },
  {
   "cell_type": "code",
   "execution_count": 19,
   "metadata": {},
   "outputs": [],
   "source": [
    "def get_cross_validation(model, X, y, scoring, cv=10):\n",
    "    \"\"\" Function to get the cross validation for model\n",
    "    Args:\n",
    "        model:\n",
    "        X_train:\n",
    "        y_train:\n",
    "        cv:\n",
    "    \"\"\"\n",
    "    cross_validation_results = cross_val_score(model, X, y, cv=cv, scoring=scoring)\n",
    "    \n",
    "    return cross_validation_results"
   ]
  },
  {
   "cell_type": "code",
   "execution_count": 20,
   "metadata": {},
   "outputs": [],
   "source": [
    "# graph representation\n",
    "def plot_histogram(x, bins=10, title=\"Histogram\"):\n",
    "    \"\"\" Provides graph to display cluster and its counts\n",
    "    \"\"\"\n",
    "    plt.hist(x, bins=bins)\n",
    "    plt.title(title)\n",
    "    return plt.show\n",
    "\n",
    "    \n",
    "def plot_cv_results(cv_results, param_x, param_hue, metric='mean_test_score'):\n",
    "    \"\"\" Plotting the graph for two parameters from Random Search CV\n",
    "    \"\"\"\n",
    "    cv_results = pd.DataFrame(cv_results)\n",
    "    col_x = 'param_' + param_x\n",
    "    col_hue = 'param_' + param_hue\n",
    "    \n",
    "    fig, ax = plt.subplots(1, 1, figsize=(11, 8))\n",
    "    sns.pointplot(x=col_x, y=metric, hue=col_hue, data=cv_results, ci=99, n_boot=64, ax=ax)\n",
    "    \n",
    "    ax.set_title(\"CV Random Search Results\")\n",
    "    ax.set_xlabel(param_x)\n",
    "    ax.set_ylabel(metric)\n",
    "    ax.legend(title=param_hue)\n",
    "    \n",
    "    return fig\n"
   ]
  },
  {
   "cell_type": "code",
   "execution_count": 21,
   "metadata": {},
   "outputs": [],
   "source": [
    "def get_model_report(y_true, y_pred):\n",
    "    \"\"\" Provides a model performance report \n",
    "    \"\"\"\n",
    "    model_accuracy = accuracy_score(y_true, y_pred)\n",
    "    model_f1_score = f1_score(y_true, y_pred, average='weighted')\n",
    "    model_precision = precision_score(y_true, y_pred, average='weighted')\n",
    "    model_recall = recall_score(y_true, y_pred, average='weighted')\n",
    "    \n",
    "    print(f\"Model Accuracy: {round(model_accuracy, 3)}\")\n",
    "    print(f\"Model F1 Score: {round(model_f1_score, 3)}\")\n",
    "    print(f\"Model Precision: {round(model_precision, 3)}\")\n",
    "    print(f\"Model Recall: {round(model_recall, 3)}\")\n",
    "    \n",
    "    return model_accuracy"
   ]
  },
  {
   "cell_type": "code",
   "execution_count": 22,
   "metadata": {},
   "outputs": [],
   "source": [
    "models_summary = pd.DataFrame(columns = ['Model Name', \n",
    "                                         'Train Accuracy', \n",
    "                                         'Test Accuracy',\n",
    "                                        ])\n",
    "def add_to_model_summary(models_summary, model_name, train_acc, test_acc):\n",
    "    \"\"\" Adding model performance summary to compare models\n",
    "    \"\"\"\n",
    "    models_summary = models_summary.append({'Model Name': model_name, \n",
    "                           'Train Accuracy': train_acc, \n",
    "                           'Test Accuracy': test_acc}, ignore_index=True)\n",
    "    return models_summary\n"
   ]
  },
  {
   "cell_type": "markdown",
   "metadata": {},
   "source": [
    "# Modelling"
   ]
  },
  {
   "cell_type": "markdown",
   "metadata": {},
   "source": [
    "## Classification "
   ]
  },
  {
   "cell_type": "code",
   "execution_count": 23,
   "metadata": {},
   "outputs": [
    {
     "data": {
      "text/plain": [
       "SGDClassifier(max_iter=10, random_state=42)"
      ]
     },
     "execution_count": 23,
     "metadata": {},
     "output_type": "execute_result"
    }
   ],
   "source": [
    "sgd_clf = SGDClassifier(max_iter=10, tol=1e-3, random_state=42)\n",
    "sgd_clf.fit(X_train, y_train)"
   ]
  },
  {
   "cell_type": "code",
   "execution_count": 24,
   "metadata": {},
   "outputs": [
    {
     "data": {
      "text/plain": [
       "array([0.02083333, 0.024     , 0.019     , 0.01933333, 0.024     ])"
      ]
     },
     "execution_count": 24,
     "metadata": {},
     "output_type": "execute_result"
    }
   ],
   "source": [
    "get_cross_validation(sgd_clf, X_train, y_train, scoring=\"accuracy\", cv=5)"
   ]
  },
  {
   "cell_type": "code",
   "execution_count": 25,
   "metadata": {},
   "outputs": [],
   "source": [
    "y_pred_train_sgd_clf = sgd_clf.predict(X_train)\n",
    "y_pred_test_sgd_clf = sgd_clf.predict(X_val)"
   ]
  },
  {
   "cell_type": "code",
   "execution_count": 26,
   "metadata": {},
   "outputs": [
    {
     "name": "stdout",
     "output_type": "stream",
     "text": [
      "Model Accuracy: 0.066\n",
      "Model F1 Score: 0.053\n",
      "Model Precision: 0.223\n",
      "Model Recall: 0.066\n",
      "Model Accuracy: 0.02\n",
      "Model F1 Score: 0.009\n",
      "Model Precision: 0.018\n",
      "Model Recall: 0.02\n"
     ]
    }
   ],
   "source": [
    "model_sgd_train_accuracy = get_model_report(y_train, y_pred_train_sgd_clf)\n",
    "model_sgd_test_accuracy = get_model_report(y_val, y_pred_test_sgd_clf)\n",
    "models_summary = add_to_model_summary(models_summary, 'SGD Classifier', model_sgd_train_accuracy, model_sgd_test_accuracy)"
   ]
  },
  {
   "cell_type": "markdown",
   "metadata": {},
   "source": [
    "### Multinomial NB"
   ]
  },
  {
   "cell_type": "code",
   "execution_count": 27,
   "metadata": {},
   "outputs": [
    {
     "data": {
      "text/plain": [
       "MultinomialNB()"
      ]
     },
     "execution_count": 27,
     "metadata": {},
     "output_type": "execute_result"
    }
   ],
   "source": [
    "model_MNB = MultinomialNB()\n",
    "model_MNB.fit(X_train, y_train)"
   ]
  },
  {
   "cell_type": "code",
   "execution_count": 28,
   "metadata": {},
   "outputs": [
    {
     "data": {
      "text/plain": [
       "array([94, 46,  2, ..., 36, 98, 56])"
      ]
     },
     "execution_count": 28,
     "metadata": {},
     "output_type": "execute_result"
    }
   ],
   "source": [
    "model_MNB.predict(X_val)"
   ]
  },
  {
   "cell_type": "code",
   "execution_count": 29,
   "metadata": {},
   "outputs": [
    {
     "data": {
      "text/plain": [
       "array([0.0309, 0.0317, 0.0316])"
      ]
     },
     "execution_count": 29,
     "metadata": {},
     "output_type": "execute_result"
    }
   ],
   "source": [
    "cross_val_score(model_MNB, X_train, y_train, cv=3, scoring=\"accuracy\") "
   ]
  },
  {
   "cell_type": "code",
   "execution_count": 30,
   "metadata": {},
   "outputs": [
    {
     "data": {
      "text/plain": [
       "array([[ 0,  0,  0, ...,  6,  7,  0],\n",
       "       [ 1,  0,  1, ...,  2,  2,  0],\n",
       "       [ 0,  0,  0, ...,  3,  2,  1],\n",
       "       ...,\n",
       "       [ 0,  0,  0, ...,  7, 10,  1],\n",
       "       [ 1,  0,  0, ...,  7,  7,  0],\n",
       "       [ 0,  1,  1, ...,  4,  3,  0]])"
      ]
     },
     "execution_count": 30,
     "metadata": {},
     "output_type": "execute_result"
    }
   ],
   "source": [
    "y_pred_MNB = cross_val_predict(model_MNB, X_val, y_val, cv=3)\n",
    "confusion_matrix(y_val, y_pred_MNB)"
   ]
  },
  {
   "cell_type": "code",
   "execution_count": 31,
   "metadata": {},
   "outputs": [],
   "source": [
    "y_pred_train_model_MNB = model_MNB.predict(X_train)\n",
    "y_pred_test_model_MNB = model_MNB.predict(X_val)"
   ]
  },
  {
   "cell_type": "code",
   "execution_count": 32,
   "metadata": {},
   "outputs": [
    {
     "name": "stdout",
     "output_type": "stream",
     "text": [
      "Model Accuracy: 0.038\n",
      "Model F1 Score: 0.024\n",
      "Model Precision: 0.037\n",
      "Model Recall: 0.038\n",
      "Model Accuracy: 0.035\n",
      "Model F1 Score: 0.02\n",
      "Model Precision: 0.025\n",
      "Model Recall: 0.035\n"
     ]
    }
   ],
   "source": [
    "model_MNB_train_accuracy = get_model_report(y_train, y_pred_train_model_MNB)\n",
    "model_MNB_test_accuracy = get_model_report(y_val, y_pred_test_model_MNB)\n",
    "models_summary = add_to_model_summary(models_summary, 'Multinomial NB', model_MNB_train_accuracy, model_MNB_test_accuracy)"
   ]
  },
  {
   "cell_type": "markdown",
   "metadata": {},
   "source": [
    "### Gaussian NB"
   ]
  },
  {
   "cell_type": "code",
   "execution_count": 33,
   "metadata": {},
   "outputs": [
    {
     "data": {
      "text/plain": [
       "GaussianNB()"
      ]
     },
     "execution_count": 33,
     "metadata": {},
     "output_type": "execute_result"
    }
   ],
   "source": [
    "model_GNB = GaussianNB()\n",
    "model_GNB.fit(X_train, y_train)"
   ]
  },
  {
   "cell_type": "code",
   "execution_count": 34,
   "metadata": {},
   "outputs": [
    {
     "data": {
      "text/plain": [
       "array([0.0443, 0.0429, 0.0424])"
      ]
     },
     "execution_count": 34,
     "metadata": {},
     "output_type": "execute_result"
    }
   ],
   "source": [
    "cross_val_score(model_GNB, X_train, y_train, cv=3, scoring=\"accuracy\")"
   ]
  },
  {
   "cell_type": "code",
   "execution_count": 35,
   "metadata": {},
   "outputs": [
    {
     "data": {
      "text/plain": [
       "array([[0, 0, 0, ..., 5, 4, 0],\n",
       "       [0, 0, 0, ..., 0, 2, 0],\n",
       "       [0, 0, 0, ..., 3, 1, 0],\n",
       "       ...,\n",
       "       [0, 0, 0, ..., 9, 4, 0],\n",
       "       [0, 0, 0, ..., 5, 5, 0],\n",
       "       [1, 0, 0, ..., 3, 3, 0]])"
      ]
     },
     "execution_count": 35,
     "metadata": {},
     "output_type": "execute_result"
    }
   ],
   "source": [
    "y_pred_GNB = cross_val_predict(model_GNB, X_val, y_val, cv=3)\n",
    "confusion_matrix(y_val, y_pred_GNB)"
   ]
  },
  {
   "cell_type": "code",
   "execution_count": 36,
   "metadata": {},
   "outputs": [],
   "source": [
    "y_pred_train_model_GNB = model_GNB.predict(X_train)\n",
    "y_pred_test_model_GNB = model_GNB.predict(X_val)"
   ]
  },
  {
   "cell_type": "code",
   "execution_count": 37,
   "metadata": {},
   "outputs": [
    {
     "name": "stdout",
     "output_type": "stream",
     "text": [
      "Model Accuracy: 0.051\n",
      "Model F1 Score: 0.031\n",
      "Model Precision: 0.061\n",
      "Model Recall: 0.051\n",
      "Model Accuracy: 0.044\n",
      "Model F1 Score: 0.023\n",
      "Model Precision: 0.024\n",
      "Model Recall: 0.044\n"
     ]
    }
   ],
   "source": [
    "model_GNB_train_accuracy = get_model_report(y_train, y_pred_train_model_GNB)\n",
    "model_GNB_test_accuracy = get_model_report(y_val, y_pred_test_model_GNB)\n",
    "models_summary = add_to_model_summary(models_summary, 'Gaussian NB', model_GNB_train_accuracy, model_GNB_test_accuracy)"
   ]
  },
  {
   "cell_type": "markdown",
   "metadata": {},
   "source": [
    "### Complement NB"
   ]
  },
  {
   "cell_type": "code",
   "execution_count": 38,
   "metadata": {},
   "outputs": [
    {
     "data": {
      "text/plain": [
       "ComplementNB()"
      ]
     },
     "execution_count": 38,
     "metadata": {},
     "output_type": "execute_result"
    }
   ],
   "source": [
    "model_CNB = ComplementNB()\n",
    "model_CNB.fit(X_train, y_train)"
   ]
  },
  {
   "cell_type": "code",
   "execution_count": 39,
   "metadata": {},
   "outputs": [
    {
     "data": {
      "text/plain": [
       "array([0.0238, 0.021 , 0.0244])"
      ]
     },
     "execution_count": 39,
     "metadata": {},
     "output_type": "execute_result"
    }
   ],
   "source": [
    "cross_val_score(model_CNB, X_train, y_train, cv=3, scoring=\"accuracy\")"
   ]
  },
  {
   "cell_type": "code",
   "execution_count": 40,
   "metadata": {},
   "outputs": [],
   "source": [
    "y_pred_train_model_CNB = model_CNB.predict(X_train)\n",
    "y_pred_test_model_CNB = model_CNB.predict(X_val)"
   ]
  },
  {
   "cell_type": "code",
   "execution_count": 41,
   "metadata": {},
   "outputs": [
    {
     "name": "stdout",
     "output_type": "stream",
     "text": [
      "Model Accuracy: 0.027\n",
      "Model F1 Score: 0.009\n",
      "Model Precision: 0.053\n",
      "Model Recall: 0.027\n",
      "Model Accuracy: 0.026\n",
      "Model F1 Score: 0.009\n",
      "Model Precision: 0.021\n",
      "Model Recall: 0.026\n"
     ]
    }
   ],
   "source": [
    "model_CNB_train_accuracy = get_model_report(y_train, y_pred_train_model_CNB)\n",
    "model_CNB_test_accuracy = get_model_report(y_val, y_pred_test_model_CNB)\n",
    "models_summary = add_to_model_summary(models_summary, 'Complement NB', model_CNB_train_accuracy, model_CNB_test_accuracy)"
   ]
  },
  {
   "cell_type": "markdown",
   "metadata": {},
   "source": [
    "## Clustering"
   ]
  },
  {
   "cell_type": "code",
   "execution_count": 42,
   "metadata": {},
   "outputs": [],
   "source": [
    "total_clusters = len(np.unique(y_train))"
   ]
  },
  {
   "cell_type": "code",
   "execution_count": 43,
   "metadata": {},
   "outputs": [],
   "source": [
    "def get_reference_labels(cluster_labels, y, total_clusters):\n",
    "    \"\"\"\n",
    "    \"\"\"\n",
    "    # Initializing\n",
    "    refer_labels = {}\n",
    "    \n",
    "    # loop through each label of cluster\n",
    "    for i in range(total_clusters):\n",
    "        index = np.where(cluster_labels == i, 1, 0)\n",
    "        num = np.bincount(y[[index == 1]]).argmax()\n",
    "        refer_labels[i] = num\n",
    "    \n",
    "    return refer_labels"
   ]
  },
  {
   "cell_type": "markdown",
   "metadata": {},
   "source": [
    "### Gaussian Mixture"
   ]
  },
  {
   "cell_type": "code",
   "execution_count": null,
   "metadata": {},
   "outputs": [],
   "source": [
    "# Initialize the Gaussian Mixture model\n",
    "model_GM = GaussianMixture(n_components=10, random_state=42)\n",
    "\n",
    "# Fitting the model to training set\n",
    "model_GM.fit(X_train)\n",
    "\n",
    "# get the weights of each mixture component\n",
    "model_GM_weights = model_GM.weights_"
   ]
  },
  {
   "cell_type": "markdown",
   "metadata": {},
   "source": [
    "### Minibatch Kmeans Clustering Algorithm"
   ]
  },
  {
   "cell_type": "code",
   "execution_count": 44,
   "metadata": {},
   "outputs": [],
   "source": [
    "# Initialize the K-Means model\n",
    "mini_kmeans = MiniBatchKMeans(n_clusters = total_clusters, random_state=42)\n",
    "\n",
    "# Fitting the model to training set\n",
    "mini_kmeans.fit(X_train)\n",
    "\n",
    "# get the cluster labels\n",
    "mini_kmeans_labels = mini_kmeans.labels_"
   ]
  },
  {
   "cell_type": "code",
   "execution_count": 45,
   "metadata": {},
   "outputs": [],
   "source": [
    "y_train_kmeans = y_train[\"category\"].to_numpy()"
   ]
  },
  {
   "cell_type": "code",
   "execution_count": 46,
   "metadata": {},
   "outputs": [],
   "source": [
    "reference_labels = get_reference_labels(mini_kmeans_labels, y_train_kmeans, total_clusters)\n",
    "\n",
    "# defining a dummy list of predicted labels\n",
    "predicted_labels = np.random.rand(len(mini_kmeans_labels))\n",
    "\n",
    "for i in range(len(mini_kmeans.labels_)):\n",
    "    predicted_labels[i] = reference_labels[mini_kmeans_labels[i]]"
   ]
  },
  {
   "cell_type": "code",
   "execution_count": 47,
   "metadata": {},
   "outputs": [
    {
     "name": "stdout",
     "output_type": "stream",
     "text": [
      "0.0496\n"
     ]
    }
   ],
   "source": [
    "print(accuracy_score(predicted_labels, y_train_kmeans))"
   ]
  },
  {
   "cell_type": "code",
   "execution_count": 48,
   "metadata": {},
   "outputs": [
    {
     "name": "stdout",
     "output_type": "stream",
     "text": [
      "[85 47 37 53 87 30 83 88 37 68  8  8  9 41 87 23 73  8 88 84]\n",
      "[92 79 86 35 20  7 30 88 19 80 27 92 39  3 87 50 79 77 78 84]\n"
     ]
    }
   ],
   "source": [
    "print(predicted_labels[:20].astype('int'))\n",
    "print(y_train_kmeans[:20])"
   ]
  },
  {
   "cell_type": "code",
   "execution_count": 49,
   "metadata": {},
   "outputs": [
    {
     "data": {
      "text/plain": [
       "(100, 1024)"
      ]
     },
     "execution_count": 49,
     "metadata": {},
     "output_type": "execute_result"
    }
   ],
   "source": [
    "centroids = mini_kmeans.cluster_centers_\n",
    "centroids.shape"
   ]
  },
  {
   "cell_type": "code",
   "execution_count": 50,
   "metadata": {},
   "outputs": [],
   "source": [
    "centroids = centroids.reshape(100, 32, 32)\n",
    "centroids = centroids * 255"
   ]
  },
  {
   "cell_type": "code",
   "execution_count": 51,
   "metadata": {},
   "outputs": [
    {
     "data": {
      "image/png": "[encoded data removed]",
      "text/plain": [
       "<Figure size 720x648 with 16 Axes>"
      ]
     },
     "metadata": {
      "needs_background": "light"
     },
     "output_type": "display_data"
    }
   ],
   "source": [
    "plt.figure(figsize = (10,9))\n",
    "bottom = 0.35\n",
    "for i in range(16):\n",
    "    plt.subplots_adjust(bottom)\n",
    "    plt.subplot(4, 4, i+1)\n",
    "    plt.title(categories_dataset[reference_labels[i]], fontsize = 10)\n",
    "    plt.imshow(centroids[i], cmap='gray')"
   ]
  },
  {
   "cell_type": "code",
   "execution_count": 52,
   "metadata": {},
   "outputs": [],
   "source": [
    "y_pred = mini_kmeans.predict(X_val)"
   ]
  },
  {
   "cell_type": "code",
   "execution_count": 53,
   "metadata": {},
   "outputs": [
    {
     "data": {
      "image/png": "[encoded data removed]",
      "text/plain": [
       "<Figure size 432x288 with 1 Axes>"
      ]
     },
     "metadata": {
      "needs_background": "light"
     },
     "output_type": "display_data"
    }
   ],
   "source": [
    "fig = plot_histogram(list(y_pred), bins=total_clusters, title=\"Cluster Membership Counts\")"
   ]
  },
  {
   "cell_type": "code",
   "execution_count": 54,
   "metadata": {},
   "outputs": [
    {
     "data": {
      "text/plain": [
       "(76, 118)"
      ]
     },
     "execution_count": 54,
     "metadata": {},
     "output_type": "execute_result"
    }
   ],
   "source": [
    "counts = Counter(list(y_pred))\n",
    "counts.most_common()[0]"
   ]
  },
  {
   "cell_type": "code",
   "execution_count": 55,
   "metadata": {},
   "outputs": [],
   "source": [
    "y_pred_train_mini_kmeans = mini_kmeans.predict(X_train)\n",
    "y_pred_test_mini_kmeans = mini_kmeans.predict(X_val)"
   ]
  },
  {
   "cell_type": "code",
   "execution_count": 56,
   "metadata": {},
   "outputs": [
    {
     "name": "stdout",
     "output_type": "stream",
     "text": [
      "Model Accuracy: 0.01\n",
      "Model F1 Score: 0.01\n",
      "Model Precision: 0.01\n",
      "Model Recall: 0.01\n",
      "Model Accuracy: 0.009\n",
      "Model F1 Score: 0.009\n",
      "Model Precision: 0.009\n",
      "Model Recall: 0.009\n"
     ]
    }
   ],
   "source": [
    "mini_kmeans_train_accuracy = get_model_report(y_train, y_pred_train_mini_kmeans)\n",
    "mini_kmeans_test_accuracy = get_model_report(y_val, y_pred_test_mini_kmeans)\n",
    "models_summary = add_to_model_summary(models_summary, 'Mini KMeans', mini_kmeans_train_accuracy, mini_kmeans_test_accuracy)"
   ]
  },
  {
   "cell_type": "markdown",
   "metadata": {},
   "source": [
    "### Kmeans Clustering Algorithm"
   ]
  },
  {
   "cell_type": "code",
   "execution_count": 57,
   "metadata": {},
   "outputs": [],
   "source": [
    "# Initialize the K-Means model\n",
    "kmeans = KMeans(n_clusters = total_clusters, random_state=42)\n",
    "\n",
    "# Fitting the model to training set\n",
    "kmeans.fit(X_train)\n",
    "\n",
    "# get the cluster labels\n",
    "kmeans_labels = mini_kmeans.labels_"
   ]
  },
  {
   "cell_type": "code",
   "execution_count": 58,
   "metadata": {},
   "outputs": [],
   "source": [
    "y_train_kmeans = y_train[\"category\"].to_numpy()"
   ]
  },
  {
   "cell_type": "code",
   "execution_count": 59,
   "metadata": {},
   "outputs": [],
   "source": [
    "reference_labels = get_reference_labels(kmeans_labels, y_train_kmeans, total_clusters)\n",
    "\n",
    "# defining a dummy list of predicted labels\n",
    "predicted_labels = np.random.rand(len(kmeans_labels))\n",
    "\n",
    "for i in range(len(mini_kmeans.labels_)):\n",
    "    predicted_labels[i] = reference_labels[kmeans_labels[i]]"
   ]
  },
  {
   "cell_type": "code",
   "execution_count": 60,
   "metadata": {},
   "outputs": [
    {
     "name": "stdout",
     "output_type": "stream",
     "text": [
      "0.0496\n"
     ]
    }
   ],
   "source": [
    "print(accuracy_score(predicted_labels, y_train_kmeans))"
   ]
  },
  {
   "cell_type": "code",
   "execution_count": 61,
   "metadata": {},
   "outputs": [
    {
     "name": "stdout",
     "output_type": "stream",
     "text": [
      "[85 47 37 53 87 30 83 88 37 68  8  8  9 41 87 23 73  8 88 84]\n",
      "[92 79 86 35 20  7 30 88 19 80 27 92 39  3 87 50 79 77 78 84]\n"
     ]
    }
   ],
   "source": [
    "print(predicted_labels[:20].astype('int'))\n",
    "print(y_train_kmeans[:20])"
   ]
  },
  {
   "cell_type": "code",
   "execution_count": 62,
   "metadata": {},
   "outputs": [
    {
     "data": {
      "text/plain": [
       "(100, 1024)"
      ]
     },
     "execution_count": 62,
     "metadata": {},
     "output_type": "execute_result"
    }
   ],
   "source": [
    "centroids = kmeans.cluster_centers_\n",
    "centroids.shape"
   ]
  },
  {
   "cell_type": "code",
   "execution_count": 63,
   "metadata": {},
   "outputs": [],
   "source": [
    "centroids = centroids.reshape(100, 32, 32)\n",
    "centroids = centroids * 255"
   ]
  },
  {
   "cell_type": "code",
   "execution_count": 64,
   "metadata": {},
   "outputs": [
    {
     "data": {
      "image/png": "[encoded data removed]",
      "text/plain": [
       "<Figure size 720x648 with 16 Axes>"
      ]
     },
     "metadata": {
      "needs_background": "light"
     },
     "output_type": "display_data"
    }
   ],
   "source": [
    "plt.figure(figsize = (10,9))\n",
    "bottom = 0.35\n",
    "for i in range(16):\n",
    "    plt.subplots_adjust(bottom)\n",
    "    plt.subplot(4, 4, i+1)\n",
    "    plt.title(categories_dataset[reference_labels[i]], fontsize = 10)\n",
    "    plt.imshow(centroids[i], cmap='gray')"
   ]
  },
  {
   "cell_type": "code",
   "execution_count": 65,
   "metadata": {},
   "outputs": [],
   "source": [
    "y_pred = kmeans.predict(X_val)"
   ]
  },
  {
   "cell_type": "code",
   "execution_count": 66,
   "metadata": {},
   "outputs": [
    {
     "data": {
      "image/png": "[encoded data removed]",
      "text/plain": [
       "<Figure size 432x288 with 1 Axes>"
      ]
     },
     "metadata": {
      "needs_background": "light"
     },
     "output_type": "display_data"
    }
   ],
   "source": [
    "fig = plot_histogram(list(y_pred), bins=total_clusters, title=\"Cluster Membership Counts\")"
   ]
  },
  {
   "cell_type": "code",
   "execution_count": 67,
   "metadata": {},
   "outputs": [
    {
     "data": {
      "text/plain": [
       "(94, 92)"
      ]
     },
     "execution_count": 67,
     "metadata": {},
     "output_type": "execute_result"
    }
   ],
   "source": [
    "counts = Counter(list(y_pred))\n",
    "counts.most_common()[0]"
   ]
  },
  {
   "cell_type": "code",
   "execution_count": 68,
   "metadata": {},
   "outputs": [],
   "source": [
    "y_pred_train_kmeans = kmeans.predict(X_train)\n",
    "y_pred_test_kmeans = kmeans.predict(X_val)"
   ]
  },
  {
   "cell_type": "code",
   "execution_count": 69,
   "metadata": {},
   "outputs": [
    {
     "name": "stdout",
     "output_type": "stream",
     "text": [
      "Model Accuracy: 0.009\n",
      "Model F1 Score: 0.009\n",
      "Model Precision: 0.009\n",
      "Model Recall: 0.009\n",
      "Model Accuracy: 0.01\n",
      "Model F1 Score: 0.01\n",
      "Model Precision: 0.01\n",
      "Model Recall: 0.01\n"
     ]
    }
   ],
   "source": [
    "kmeans_train_accuracy = get_model_report(y_train, y_pred_train_kmeans)\n",
    "kmeans_test_accuracy = get_model_report(y_val, y_pred_test_kmeans)\n",
    "models_summary = add_to_model_summary(models_summary, 'KMeans', kmeans_train_accuracy, kmeans_test_accuracy)"
   ]
  },
  {
   "cell_type": "markdown",
   "metadata": {},
   "source": [
    "## Decision Trees"
   ]
  },
  {
   "cell_type": "code",
   "execution_count": 70,
   "metadata": {},
   "outputs": [
    {
     "data": {
      "text/plain": [
       "DecisionTreeClassifier()"
      ]
     },
     "execution_count": 70,
     "metadata": {},
     "output_type": "execute_result"
    }
   ],
   "source": [
    "model_DecisionTree = DecisionTreeClassifier()\n",
    "model_DecisionTree.fit(X_train, y_train)"
   ]
  },
  {
   "cell_type": "code",
   "execution_count": 71,
   "metadata": {},
   "outputs": [],
   "source": [
    "cross_validation_accuracy_results = get_cross_validation(model_DecisionTree, X_train, y_train, 'accuracy', cv=10)"
   ]
  },
  {
   "cell_type": "code",
   "execution_count": 72,
   "metadata": {},
   "outputs": [
    {
     "name": "stdout",
     "output_type": "stream",
     "text": [
      "Accuracy Scores across KFolds:  [0.02266667 0.02366667 0.02433333 0.02466667 0.02       0.022\n",
      " 0.02533333 0.02033333 0.02166667 0.018     ]\n",
      "Accuracy for Decision Tree:  0.022266666666666664\n"
     ]
    }
   ],
   "source": [
    "print(\"Accuracy Scores across KFolds: \", cross_validation_accuracy_results)\n",
    "print(\"Accuracy for Decision Tree: \", cross_validation_accuracy_results.mean())"
   ]
  },
  {
   "cell_type": "code",
   "execution_count": 73,
   "metadata": {},
   "outputs": [],
   "source": [
    "params = {\n",
    "            'max_depth': [2, 3, 5, 10, 20],\n",
    "            'min_samples_leaf': [5, 10, 20, 50, 100],\n",
    "            'max_leaf_nodes': [10, 30, 50, 100, 120],\n",
    "            'criterion': ['gini', 'entropy'],\n",
    "            'max_features': ['sqrt', 'log2']\n",
    "        }"
   ]
  },
  {
   "cell_type": "code",
   "execution_count": 74,
   "metadata": {},
   "outputs": [
    {
     "name": "stdout",
     "output_type": "stream",
     "text": [
      "Fitting 5 folds for each of 30 candidates, totalling 150 fits\n"
     ]
    },
    {
     "data": {
      "text/plain": [
       "RandomizedSearchCV(cv=5, estimator=DecisionTreeClassifier(), n_iter=30,\n",
       "                   n_jobs=-1,\n",
       "                   param_distributions={'criterion': ['gini', 'entropy'],\n",
       "                                        'max_depth': [2, 3, 5, 10, 20],\n",
       "                                        'max_features': ['sqrt', 'log2'],\n",
       "                                        'max_leaf_nodes': [10, 30, 50, 100,\n",
       "                                                           120],\n",
       "                                        'min_samples_leaf': [5, 10, 20, 50,\n",
       "                                                             100]},\n",
       "                   return_train_score=True, scoring='accuracy', verbose=1)"
      ]
     },
     "execution_count": 74,
     "metadata": {},
     "output_type": "execute_result"
    }
   ],
   "source": [
    "random_search = RandomizedSearchCV(estimator=model_DecisionTree, \n",
    "                                   param_distributions=params, \n",
    "                                   cv=5, \n",
    "                                   n_jobs=-1,\n",
    "                                   n_iter=30,\n",
    "                                   verbose=1, \n",
    "                                   scoring = 'accuracy',\n",
    "                                   return_train_score = True)\n",
    "\n",
    "random_search.fit(X_train, y_train)"
   ]
  },
  {
   "cell_type": "code",
   "execution_count": 75,
   "metadata": {},
   "outputs": [
    {
     "name": "stdout",
     "output_type": "stream",
     "text": [
      "Combinations tried using Random Search CV:  30\n"
     ]
    }
   ],
   "source": [
    "random_search_results_df = pd.DataFrame(random_search.cv_results_)\n",
    "print(\"Combinations tried using Random Search CV: \", random_search_results_df.shape[0])"
   ]
  },
  {
   "cell_type": "code",
   "execution_count": 76,
   "metadata": {},
   "outputs": [
    {
     "data": {
      "text/html": [
       "<div>\n",
       "<style scoped>\n",
       "    .dataframe tbody tr th:only-of-type {\n",
       "        vertical-align: middle;\n",
       "    }\n",
       "\n",
       "    .dataframe tbody tr th {\n",
       "        vertical-align: top;\n",
       "    }\n",
       "\n",
       "    .dataframe thead th {\n",
       "        text-align: right;\n",
       "    }\n",
       "</style>\n",
       "<table border=\"1\" class=\"dataframe\">\n",
       "  <thead>\n",
       "    <tr style=\"text-align: right;\">\n",
       "      <th></th>\n",
       "      <th>mean_fit_time</th>\n",
       "      <th>std_fit_time</th>\n",
       "      <th>mean_score_time</th>\n",
       "      <th>std_score_time</th>\n",
       "      <th>param_min_samples_leaf</th>\n",
       "      <th>param_max_leaf_nodes</th>\n",
       "      <th>param_max_features</th>\n",
       "      <th>param_max_depth</th>\n",
       "      <th>param_criterion</th>\n",
       "      <th>params</th>\n",
       "      <th>...</th>\n",
       "      <th>mean_test_score</th>\n",
       "      <th>std_test_score</th>\n",
       "      <th>rank_test_score</th>\n",
       "      <th>split0_train_score</th>\n",
       "      <th>split1_train_score</th>\n",
       "      <th>split2_train_score</th>\n",
       "      <th>split3_train_score</th>\n",
       "      <th>split4_train_score</th>\n",
       "      <th>mean_train_score</th>\n",
       "      <th>std_train_score</th>\n",
       "    </tr>\n",
       "  </thead>\n",
       "  <tbody>\n",
       "    <tr>\n",
       "      <th>0</th>\n",
       "      <td>0.294160</td>\n",
       "      <td>0.003812</td>\n",
       "      <td>0.015511</td>\n",
       "      <td>0.000293</td>\n",
       "      <td>100</td>\n",
       "      <td>100</td>\n",
       "      <td>log2</td>\n",
       "      <td>20</td>\n",
       "      <td>gini</td>\n",
       "      <td>{'min_samples_leaf': 100, 'max_leaf_nodes': 10...</td>\n",
       "      <td>...</td>\n",
       "      <td>0.027433</td>\n",
       "      <td>0.001689</td>\n",
       "      <td>6</td>\n",
       "      <td>0.055125</td>\n",
       "      <td>0.053417</td>\n",
       "      <td>0.055375</td>\n",
       "      <td>0.053750</td>\n",
       "      <td>0.053333</td>\n",
       "      <td>0.054200</td>\n",
       "      <td>0.000872</td>\n",
       "    </tr>\n",
       "    <tr>\n",
       "      <th>1</th>\n",
       "      <td>0.281249</td>\n",
       "      <td>0.004348</td>\n",
       "      <td>0.014063</td>\n",
       "      <td>0.001429</td>\n",
       "      <td>50</td>\n",
       "      <td>30</td>\n",
       "      <td>log2</td>\n",
       "      <td>3</td>\n",
       "      <td>entropy</td>\n",
       "      <td>{'min_samples_leaf': 50, 'max_leaf_nodes': 30,...</td>\n",
       "      <td>...</td>\n",
       "      <td>0.021600</td>\n",
       "      <td>0.001991</td>\n",
       "      <td>25</td>\n",
       "      <td>0.025708</td>\n",
       "      <td>0.023792</td>\n",
       "      <td>0.025292</td>\n",
       "      <td>0.025083</td>\n",
       "      <td>0.025625</td>\n",
       "      <td>0.025100</td>\n",
       "      <td>0.000692</td>\n",
       "    </tr>\n",
       "    <tr>\n",
       "      <th>2</th>\n",
       "      <td>0.181460</td>\n",
       "      <td>0.007123</td>\n",
       "      <td>0.011599</td>\n",
       "      <td>0.002038</td>\n",
       "      <td>50</td>\n",
       "      <td>10</td>\n",
       "      <td>log2</td>\n",
       "      <td>2</td>\n",
       "      <td>entropy</td>\n",
       "      <td>{'min_samples_leaf': 50, 'max_leaf_nodes': 10,...</td>\n",
       "      <td>...</td>\n",
       "      <td>0.019967</td>\n",
       "      <td>0.001451</td>\n",
       "      <td>28</td>\n",
       "      <td>0.021083</td>\n",
       "      <td>0.021000</td>\n",
       "      <td>0.021167</td>\n",
       "      <td>0.021917</td>\n",
       "      <td>0.020542</td>\n",
       "      <td>0.021142</td>\n",
       "      <td>0.000444</td>\n",
       "    </tr>\n",
       "    <tr>\n",
       "      <th>3</th>\n",
       "      <td>1.268870</td>\n",
       "      <td>0.024327</td>\n",
       "      <td>0.012102</td>\n",
       "      <td>0.002101</td>\n",
       "      <td>50</td>\n",
       "      <td>10</td>\n",
       "      <td>sqrt</td>\n",
       "      <td>10</td>\n",
       "      <td>entropy</td>\n",
       "      <td>{'min_samples_leaf': 50, 'max_leaf_nodes': 10,...</td>\n",
       "      <td>...</td>\n",
       "      <td>0.024167</td>\n",
       "      <td>0.002687</td>\n",
       "      <td>17</td>\n",
       "      <td>0.026875</td>\n",
       "      <td>0.028458</td>\n",
       "      <td>0.028542</td>\n",
       "      <td>0.027667</td>\n",
       "      <td>0.030125</td>\n",
       "      <td>0.028333</td>\n",
       "      <td>0.001081</td>\n",
       "    </tr>\n",
       "    <tr>\n",
       "      <th>4</th>\n",
       "      <td>0.408732</td>\n",
       "      <td>0.011791</td>\n",
       "      <td>0.012743</td>\n",
       "      <td>0.001953</td>\n",
       "      <td>100</td>\n",
       "      <td>100</td>\n",
       "      <td>sqrt</td>\n",
       "      <td>5</td>\n",
       "      <td>gini</td>\n",
       "      <td>{'min_samples_leaf': 100, 'max_leaf_nodes': 10...</td>\n",
       "      <td>...</td>\n",
       "      <td>0.026833</td>\n",
       "      <td>0.001814</td>\n",
       "      <td>10</td>\n",
       "      <td>0.037083</td>\n",
       "      <td>0.035792</td>\n",
       "      <td>0.037208</td>\n",
       "      <td>0.036958</td>\n",
       "      <td>0.037042</td>\n",
       "      <td>0.036817</td>\n",
       "      <td>0.000519</td>\n",
       "    </tr>\n",
       "    <tr>\n",
       "      <th>5</th>\n",
       "      <td>0.380295</td>\n",
       "      <td>0.013430</td>\n",
       "      <td>0.012390</td>\n",
       "      <td>0.001433</td>\n",
       "      <td>100</td>\n",
       "      <td>10</td>\n",
       "      <td>sqrt</td>\n",
       "      <td>20</td>\n",
       "      <td>gini</td>\n",
       "      <td>{'min_samples_leaf': 100, 'max_leaf_nodes': 10...</td>\n",
       "      <td>...</td>\n",
       "      <td>0.023600</td>\n",
       "      <td>0.001031</td>\n",
       "      <td>18</td>\n",
       "      <td>0.027542</td>\n",
       "      <td>0.027667</td>\n",
       "      <td>0.027917</td>\n",
       "      <td>0.029042</td>\n",
       "      <td>0.026583</td>\n",
       "      <td>0.027750</td>\n",
       "      <td>0.000788</td>\n",
       "    </tr>\n",
       "    <tr>\n",
       "      <th>6</th>\n",
       "      <td>0.201261</td>\n",
       "      <td>0.006602</td>\n",
       "      <td>0.013392</td>\n",
       "      <td>0.001276</td>\n",
       "      <td>10</td>\n",
       "      <td>50</td>\n",
       "      <td>log2</td>\n",
       "      <td>5</td>\n",
       "      <td>gini</td>\n",
       "      <td>{'min_samples_leaf': 10, 'max_leaf_nodes': 50,...</td>\n",
       "      <td>...</td>\n",
       "      <td>0.026067</td>\n",
       "      <td>0.001218</td>\n",
       "      <td>13</td>\n",
       "      <td>0.037167</td>\n",
       "      <td>0.034583</td>\n",
       "      <td>0.034542</td>\n",
       "      <td>0.036708</td>\n",
       "      <td>0.035542</td>\n",
       "      <td>0.035708</td>\n",
       "      <td>0.001075</td>\n",
       "    </tr>\n",
       "    <tr>\n",
       "      <th>7</th>\n",
       "      <td>0.189767</td>\n",
       "      <td>0.005833</td>\n",
       "      <td>0.012627</td>\n",
       "      <td>0.001702</td>\n",
       "      <td>10</td>\n",
       "      <td>10</td>\n",
       "      <td>log2</td>\n",
       "      <td>5</td>\n",
       "      <td>gini</td>\n",
       "      <td>{'min_samples_leaf': 10, 'max_leaf_nodes': 10,...</td>\n",
       "      <td>...</td>\n",
       "      <td>0.023467</td>\n",
       "      <td>0.001701</td>\n",
       "      <td>20</td>\n",
       "      <td>0.026792</td>\n",
       "      <td>0.028625</td>\n",
       "      <td>0.029083</td>\n",
       "      <td>0.025833</td>\n",
       "      <td>0.027500</td>\n",
       "      <td>0.027567</td>\n",
       "      <td>0.001186</td>\n",
       "    </tr>\n",
       "    <tr>\n",
       "      <th>8</th>\n",
       "      <td>0.547108</td>\n",
       "      <td>0.010374</td>\n",
       "      <td>0.011606</td>\n",
       "      <td>0.000585</td>\n",
       "      <td>100</td>\n",
       "      <td>100</td>\n",
       "      <td>log2</td>\n",
       "      <td>5</td>\n",
       "      <td>entropy</td>\n",
       "      <td>{'min_samples_leaf': 100, 'max_leaf_nodes': 10...</td>\n",
       "      <td>...</td>\n",
       "      <td>0.025967</td>\n",
       "      <td>0.001848</td>\n",
       "      <td>14</td>\n",
       "      <td>0.033542</td>\n",
       "      <td>0.035167</td>\n",
       "      <td>0.034208</td>\n",
       "      <td>0.034792</td>\n",
       "      <td>0.035917</td>\n",
       "      <td>0.034725</td>\n",
       "      <td>0.000811</td>\n",
       "    </tr>\n",
       "    <tr>\n",
       "      <th>9</th>\n",
       "      <td>0.483966</td>\n",
       "      <td>0.005444</td>\n",
       "      <td>0.012059</td>\n",
       "      <td>0.002238</td>\n",
       "      <td>10</td>\n",
       "      <td>10</td>\n",
       "      <td>log2</td>\n",
       "      <td>10</td>\n",
       "      <td>entropy</td>\n",
       "      <td>{'min_samples_leaf': 10, 'max_leaf_nodes': 10,...</td>\n",
       "      <td>...</td>\n",
       "      <td>0.023567</td>\n",
       "      <td>0.002520</td>\n",
       "      <td>19</td>\n",
       "      <td>0.026917</td>\n",
       "      <td>0.026167</td>\n",
       "      <td>0.025833</td>\n",
       "      <td>0.027292</td>\n",
       "      <td>0.026875</td>\n",
       "      <td>0.026617</td>\n",
       "      <td>0.000535</td>\n",
       "    </tr>\n",
       "  </tbody>\n",
       "</table>\n",
       "<p>10 rows × 25 columns</p>\n",
       "</div>"
      ],
      "text/plain": [
       "   mean_fit_time  std_fit_time  mean_score_time  std_score_time  \\\n",
       "0       0.294160      0.003812         0.015511        0.000293   \n",
       "1       0.281249      0.004348         0.014063        0.001429   \n",
       "2       0.181460      0.007123         0.011599        0.002038   \n",
       "3       1.268870      0.024327         0.012102        0.002101   \n",
       "4       0.408732      0.011791         0.012743        0.001953   \n",
       "5       0.380295      0.013430         0.012390        0.001433   \n",
       "6       0.201261      0.006602         0.013392        0.001276   \n",
       "7       0.189767      0.005833         0.012627        0.001702   \n",
       "8       0.547108      0.010374         0.011606        0.000585   \n",
       "9       0.483966      0.005444         0.012059        0.002238   \n",
       "\n",
       "  param_min_samples_leaf param_max_leaf_nodes param_max_features  \\\n",
       "0                    100                  100               log2   \n",
       "1                     50                   30               log2   \n",
       "2                     50                   10               log2   \n",
       "3                     50                   10               sqrt   \n",
       "4                    100                  100               sqrt   \n",
       "5                    100                   10               sqrt   \n",
       "6                     10                   50               log2   \n",
       "7                     10                   10               log2   \n",
       "8                    100                  100               log2   \n",
       "9                     10                   10               log2   \n",
       "\n",
       "  param_max_depth param_criterion  \\\n",
       "0              20            gini   \n",
       "1               3         entropy   \n",
       "2               2         entropy   \n",
       "3              10         entropy   \n",
       "4               5            gini   \n",
       "5              20            gini   \n",
       "6               5            gini   \n",
       "7               5            gini   \n",
       "8               5         entropy   \n",
       "9              10         entropy   \n",
       "\n",
       "                                              params  ...  mean_test_score  \\\n",
       "0  {'min_samples_leaf': 100, 'max_leaf_nodes': 10...  ...         0.027433   \n",
       "1  {'min_samples_leaf': 50, 'max_leaf_nodes': 30,...  ...         0.021600   \n",
       "2  {'min_samples_leaf': 50, 'max_leaf_nodes': 10,...  ...         0.019967   \n",
       "3  {'min_samples_leaf': 50, 'max_leaf_nodes': 10,...  ...         0.024167   \n",
       "4  {'min_samples_leaf': 100, 'max_leaf_nodes': 10...  ...         0.026833   \n",
       "5  {'min_samples_leaf': 100, 'max_leaf_nodes': 10...  ...         0.023600   \n",
       "6  {'min_samples_leaf': 10, 'max_leaf_nodes': 50,...  ...         0.026067   \n",
       "7  {'min_samples_leaf': 10, 'max_leaf_nodes': 10,...  ...         0.023467   \n",
       "8  {'min_samples_leaf': 100, 'max_leaf_nodes': 10...  ...         0.025967   \n",
       "9  {'min_samples_leaf': 10, 'max_leaf_nodes': 10,...  ...         0.023567   \n",
       "\n",
       "   std_test_score  rank_test_score  split0_train_score  split1_train_score  \\\n",
       "0        0.001689                6            0.055125            0.053417   \n",
       "1        0.001991               25            0.025708            0.023792   \n",
       "2        0.001451               28            0.021083            0.021000   \n",
       "3        0.002687               17            0.026875            0.028458   \n",
       "4        0.001814               10            0.037083            0.035792   \n",
       "5        0.001031               18            0.027542            0.027667   \n",
       "6        0.001218               13            0.037167            0.034583   \n",
       "7        0.001701               20            0.026792            0.028625   \n",
       "8        0.001848               14            0.033542            0.035167   \n",
       "9        0.002520               19            0.026917            0.026167   \n",
       "\n",
       "   split2_train_score  split3_train_score  split4_train_score  \\\n",
       "0            0.055375            0.053750            0.053333   \n",
       "1            0.025292            0.025083            0.025625   \n",
       "2            0.021167            0.021917            0.020542   \n",
       "3            0.028542            0.027667            0.030125   \n",
       "4            0.037208            0.036958            0.037042   \n",
       "5            0.027917            0.029042            0.026583   \n",
       "6            0.034542            0.036708            0.035542   \n",
       "7            0.029083            0.025833            0.027500   \n",
       "8            0.034208            0.034792            0.035917   \n",
       "9            0.025833            0.027292            0.026875   \n",
       "\n",
       "   mean_train_score  std_train_score  \n",
       "0          0.054200         0.000872  \n",
       "1          0.025100         0.000692  \n",
       "2          0.021142         0.000444  \n",
       "3          0.028333         0.001081  \n",
       "4          0.036817         0.000519  \n",
       "5          0.027750         0.000788  \n",
       "6          0.035708         0.001075  \n",
       "7          0.027567         0.001186  \n",
       "8          0.034725         0.000811  \n",
       "9          0.026617         0.000535  \n",
       "\n",
       "[10 rows x 25 columns]"
      ]
     },
     "execution_count": 76,
     "metadata": {},
     "output_type": "execute_result"
    }
   ],
   "source": [
    "random_search_results_df.head(10)"
   ]
  },
  {
   "cell_type": "code",
   "execution_count": 77,
   "metadata": {},
   "outputs": [
    {
     "data": {
      "image/png": "[encoded data removed]",
      "text/plain": [
       "<Figure size 792x576 with 1 Axes>"
      ]
     },
     "metadata": {
      "needs_background": "light"
     },
     "output_type": "display_data"
    }
   ],
   "source": [
    "fig = plot_cv_results(random_search_results_df, 'max_depth', 'criterion')"
   ]
  },
  {
   "cell_type": "code",
   "execution_count": 78,
   "metadata": {},
   "outputs": [
    {
     "name": "stdout",
     "output_type": "stream",
     "text": [
      "Best parameters for the Decision Tree based on Random Search CV: \n",
      " {'min_samples_leaf': 5, 'max_leaf_nodes': 100, 'max_features': 'log2', 'max_depth': 20, 'criterion': 'entropy'}\n"
     ]
    }
   ],
   "source": [
    "print(\"Best parameters for the Decision Tree based on Random Search CV: \\n\", random_search.best_params_)"
   ]
  },
  {
   "cell_type": "code",
   "execution_count": 79,
   "metadata": {},
   "outputs": [
    {
     "name": "stdout",
     "output_type": "stream",
     "text": [
      "Best Score for the Decision Tree based on Random Search CV: 0.028699999999999996\n"
     ]
    }
   ],
   "source": [
    "print(\"Best Score for the Decision Tree based on Random Search CV:\", random_search.best_score_)"
   ]
  },
  {
   "cell_type": "markdown",
   "metadata": {},
   "source": [
    "#### Trying with best parameters obtained from Random Search CV"
   ]
  },
  {
   "cell_type": "code",
   "execution_count": 80,
   "metadata": {},
   "outputs": [],
   "source": [
    "model_DecisionTree_best_params = DecisionTreeClassifier(min_samples_leaf=100, \n",
    "                                            max_leaf_nodes=100, \n",
    "                                            max_features='log2', \n",
    "                                            max_depth=20, \n",
    "                                            criterion='entropy')"
   ]
  },
  {
   "cell_type": "code",
   "execution_count": 81,
   "metadata": {},
   "outputs": [
    {
     "data": {
      "text/plain": [
       "DecisionTreeClassifier(criterion='entropy', max_depth=20, max_features='log2',\n",
       "                       max_leaf_nodes=100, min_samples_leaf=100)"
      ]
     },
     "execution_count": 81,
     "metadata": {},
     "output_type": "execute_result"
    }
   ],
   "source": [
    "# Training with 70% dataset\n",
    "model_DecisionTree_best_params.fit(X_train_inventory, y_train_inventory)"
   ]
  },
  {
   "cell_type": "code",
   "execution_count": 82,
   "metadata": {},
   "outputs": [],
   "source": [
    "y_pred_train_decision_tree = model_DecisionTree_best_params.predict(X_train)\n",
    "y_pred_test_decision_tree = model_DecisionTree_best_params.predict(X_val)"
   ]
  },
  {
   "cell_type": "code",
   "execution_count": 83,
   "metadata": {},
   "outputs": [
    {
     "name": "stdout",
     "output_type": "stream",
     "text": [
      "Model Accuracy: 0.033\n",
      "Model F1 Score: 0.02\n",
      "Model Precision: 0.016\n",
      "Model Recall: 0.033\n",
      "Model Accuracy: 0.03\n",
      "Model F1 Score: 0.018\n",
      "Model Precision: 0.015\n",
      "Model Recall: 0.03\n"
     ]
    }
   ],
   "source": [
    "decision_tree_train_accuracy = get_model_report(y_train, y_pred_train_decision_tree)\n",
    "decision_tree_test_accuracy = get_model_report(y_val, y_pred_test_decision_tree)\n",
    "models_summary = add_to_model_summary(models_summary, 'Decision Tree', decision_tree_train_accuracy, decision_tree_test_accuracy)"
   ]
  },
  {
   "cell_type": "markdown",
   "metadata": {},
   "source": [
    "### Linear Regression"
   ]
  },
  {
   "cell_type": "code",
   "execution_count": 84,
   "metadata": {},
   "outputs": [
    {
     "data": {
      "text/plain": [
       "0.041159545416190935"
      ]
     },
     "execution_count": 84,
     "metadata": {},
     "output_type": "execute_result"
    }
   ],
   "source": [
    "model_linearRegression = LinearRegression()\n",
    "model_linearRegression.fit(X_train, y_train)\n",
    "model_linearRegression.score(X_train, y_train)"
   ]
  },
  {
   "cell_type": "markdown",
   "metadata": {},
   "source": [
    "---"
   ]
  },
  {
   "cell_type": "markdown",
   "metadata": {},
   "source": [
    "##### Trying our combinations of parameters"
   ]
  },
  {
   "cell_type": "code",
   "execution_count": 85,
   "metadata": {},
   "outputs": [
    {
     "data": {
      "text/plain": [
       "-0.11926099192607942"
      ]
     },
     "execution_count": 85,
     "metadata": {},
     "output_type": "execute_result"
    }
   ],
   "source": [
    "model_linearRegression_1 = LinearRegression(fit_intercept=False,\n",
    "                                          n_jobs=-1,\n",
    "                                          positive=True)\n",
    "model_linearRegression_1.fit(X_train, y_train)\n",
    "model_linearRegression_1.score(X_train, y_train)"
   ]
  },
  {
   "cell_type": "code",
   "execution_count": 86,
   "metadata": {},
   "outputs": [
    {
     "data": {
      "text/plain": [
       "-0.08681303513324057"
      ]
     },
     "execution_count": 86,
     "metadata": {},
     "output_type": "execute_result"
    }
   ],
   "source": [
    "model_linearRegression_2 = LinearRegression(fit_intercept=False,\n",
    "                                          n_jobs=-1,\n",
    "                                          positive=False)\n",
    "model_linearRegression_2.fit(X_train, y_train)\n",
    "model_linearRegression_2.score(X_train, y_train)"
   ]
  },
  {
   "cell_type": "code",
   "execution_count": 87,
   "metadata": {},
   "outputs": [
    {
     "data": {
      "text/plain": [
       "0.008190602474413167"
      ]
     },
     "execution_count": 87,
     "metadata": {},
     "output_type": "execute_result"
    }
   ],
   "source": [
    "model_linearRegression_3 = LinearRegression(fit_intercept=True,\n",
    "                                          n_jobs=-1,\n",
    "                                          positive=True)\n",
    "model_linearRegression_3.fit(X_train, y_train)\n",
    "model_linearRegression_3.score(X_train, y_train)"
   ]
  },
  {
   "cell_type": "markdown",
   "metadata": {},
   "source": [
    "---"
   ]
  },
  {
   "cell_type": "code",
   "execution_count": 88,
   "metadata": {},
   "outputs": [
    {
     "data": {
      "text/plain": [
       "{'copy_X': True,\n",
       " 'fit_intercept': True,\n",
       " 'n_jobs': None,\n",
       " 'normalize': 'deprecated',\n",
       " 'positive': False}"
      ]
     },
     "execution_count": 88,
     "metadata": {},
     "output_type": "execute_result"
    }
   ],
   "source": [
    "# Going ahead with first combination of parameters used for model\n",
    "model_linearRegression.get_params()"
   ]
  },
  {
   "cell_type": "code",
   "execution_count": 89,
   "metadata": {},
   "outputs": [],
   "source": [
    "y_train_pred_linearRegression = model_linearRegression.predict(X_train)"
   ]
  },
  {
   "cell_type": "code",
   "execution_count": 90,
   "metadata": {},
   "outputs": [],
   "source": [
    "y_test_pred_linearRegression = model_linearRegression.predict(X_val)"
   ]
  },
  {
   "cell_type": "markdown",
   "metadata": {},
   "source": [
    "##### Mean Squared and Root Mean Squared Error for train and test"
   ]
  },
  {
   "cell_type": "code",
   "execution_count": 91,
   "metadata": {},
   "outputs": [
    {
     "data": {
      "text/plain": [
       "798.9538087819589"
      ]
     },
     "execution_count": 91,
     "metadata": {},
     "output_type": "execute_result"
    }
   ],
   "source": [
    "LR_MSE_train = mean_squared_error(y_train, y_train_pred_linearRegression, squared = True)\n",
    "LR_MSE_train"
   ]
  },
  {
   "cell_type": "code",
   "execution_count": 92,
   "metadata": {},
   "outputs": [
    {
     "data": {
      "text/plain": [
       "28.265770974483587"
      ]
     },
     "execution_count": 92,
     "metadata": {},
     "output_type": "execute_result"
    }
   ],
   "source": [
    "LR_RMSE_train = mean_squared_error(y_train, y_train_pred_linearRegression, squared = False)\n",
    "LR_RMSE_train"
   ]
  },
  {
   "cell_type": "code",
   "execution_count": 93,
   "metadata": {},
   "outputs": [
    {
     "data": {
      "text/plain": [
       "858.2651261783677"
      ]
     },
     "execution_count": 93,
     "metadata": {},
     "output_type": "execute_result"
    }
   ],
   "source": [
    "LR_MSE_test = mean_squared_error(y_val, y_test_pred_linearRegression, squared = True)\n",
    "LR_MSE_test"
   ]
  },
  {
   "cell_type": "code",
   "execution_count": 94,
   "metadata": {},
   "outputs": [
    {
     "data": {
      "text/plain": [
       "29.296162311442224"
      ]
     },
     "execution_count": 94,
     "metadata": {},
     "output_type": "execute_result"
    }
   ],
   "source": [
    "LR_RMSE_test = mean_squared_error(y_val, y_test_pred_linearRegression, squared = False)\n",
    "LR_RMSE_test"
   ]
  },
  {
   "cell_type": "markdown",
   "metadata": {},
   "source": [
    "### Logistic Regression"
   ]
  },
  {
   "cell_type": "markdown",
   "metadata": {},
   "source": [
    "### For data to be linearly seperable , the data needs to be passing from a line also needs to have a single class. But in our case we have 0-99 classes so it is not linearly seperable. \n",
    "### Not sure - As few blogs also said data can be linearly seperable even with N Dimensions"
   ]
  },
  {
   "cell_type": "code",
   "execution_count": 95,
   "metadata": {},
   "outputs": [
    {
     "data": {
      "text/plain": [
       "LogisticRegression()"
      ]
     },
     "execution_count": 95,
     "metadata": {},
     "output_type": "execute_result"
    }
   ],
   "source": [
    "model_logisticRegression = LogisticRegression()\n",
    "model_logisticRegression.fit(X_train, y_train)"
   ]
  },
  {
   "cell_type": "code",
   "execution_count": 96,
   "metadata": {},
   "outputs": [
    {
     "data": {
      "text/plain": [
       "{'C': 1.0,\n",
       " 'class_weight': None,\n",
       " 'dual': False,\n",
       " 'fit_intercept': True,\n",
       " 'intercept_scaling': 1,\n",
       " 'l1_ratio': None,\n",
       " 'max_iter': 100,\n",
       " 'multi_class': 'auto',\n",
       " 'n_jobs': None,\n",
       " 'penalty': 'l2',\n",
       " 'random_state': None,\n",
       " 'solver': 'lbfgs',\n",
       " 'tol': 0.0001,\n",
       " 'verbose': 0,\n",
       " 'warm_start': False}"
      ]
     },
     "execution_count": 96,
     "metadata": {},
     "output_type": "execute_result"
    }
   ],
   "source": [
    "model_logisticRegression.get_params()"
   ]
  },
  {
   "cell_type": "code",
   "execution_count": 97,
   "metadata": {},
   "outputs": [],
   "source": [
    "y_train_pred_logisticRegression = model_logisticRegression.predict(X_train)"
   ]
  },
  {
   "cell_type": "code",
   "execution_count": 98,
   "metadata": {},
   "outputs": [],
   "source": [
    "y_test_pred_logistic_Regression = model_logisticRegression.predict(X_val)"
   ]
  },
  {
   "cell_type": "code",
   "execution_count": 99,
   "metadata": {},
   "outputs": [
    {
     "data": {
      "text/plain": [
       "1632.3105"
      ]
     },
     "execution_count": 99,
     "metadata": {},
     "output_type": "execute_result"
    }
   ],
   "source": [
    "LG_MSE_test = mean_squared_error(y_val, y_test_pred_logistic_Regression, squared = True)\n",
    "LG_MSE_test"
   ]
  },
  {
   "cell_type": "code",
   "execution_count": 100,
   "metadata": {},
   "outputs": [
    {
     "data": {
      "text/plain": [
       "40.401862580826645"
      ]
     },
     "execution_count": 100,
     "metadata": {},
     "output_type": "execute_result"
    }
   ],
   "source": [
    "LG_RMSE_test = mean_squared_error(y_val, y_test_pred_logistic_Regression, squared = False)\n",
    "LG_RMSE_test"
   ]
  },
  {
   "cell_type": "code",
   "execution_count": 101,
   "metadata": {},
   "outputs": [
    {
     "name": "stdout",
     "output_type": "stream",
     "text": [
      "[[2 1 0 ... 2 3 0]\n",
      " [0 1 0 ... 0 0 0]\n",
      " [1 0 1 ... 0 0 0]\n",
      " ...\n",
      " [1 0 0 ... 3 0 0]\n",
      " [1 0 0 ... 1 3 0]\n",
      " [0 1 1 ... 0 0 3]]\n",
      "Logistic Regression accuracy  0.03725\n"
     ]
    }
   ],
   "source": [
    "print(confusion_matrix(y_val, y_test_pred_logistic_Regression))\n",
    "print(\"Logistic Regression accuracy \",accuracy_score(y_val, y_test_pred_logistic_Regression))\n",
    "#logistic_regression_confusion"
   ]
  },
  {
   "cell_type": "markdown",
   "metadata": {},
   "source": [
    "---\n",
    "##### Trying manual combination of hyperparameters"
   ]
  },
  {
   "cell_type": "code",
   "execution_count": 102,
   "metadata": {},
   "outputs": [
    {
     "name": "stdout",
     "output_type": "stream",
     "text": [
      "Model Accuracy: 0.17\n",
      "Model F1 Score: 0.163\n",
      "Model Precision: 0.175\n",
      "Model Recall: 0.17\n"
     ]
    },
    {
     "data": {
      "text/plain": [
       "0.1697"
      ]
     },
     "execution_count": 102,
     "metadata": {},
     "output_type": "execute_result"
    }
   ],
   "source": [
    "model_logisticRegression_1 = LogisticRegression(penalty='l2',\n",
    "                                                C=0.1,\n",
    "                                                class_weight='balanced',\n",
    "                                                solver='newton-cg'\n",
    "                                                )\n",
    "model_logisticRegression_1.fit(X_train, y_train)\n",
    "y_train_pred_logisticRegression_1 = model_logisticRegression_1.predict(X_train)\n",
    "get_model_report(y_train, y_train_pred_logisticRegression_1)"
   ]
  },
  {
   "cell_type": "code",
   "execution_count": 107,
   "metadata": {},
   "outputs": [
    {
     "name": "stdout",
     "output_type": "stream",
     "text": [
      "Model Accuracy: 0.08\n",
      "Model F1 Score: 0.066\n",
      "Model Precision: 0.08\n",
      "Model Recall: 0.08\n"
     ]
    },
    {
     "data": {
      "text/plain": [
       "0.08013333333333333"
      ]
     },
     "execution_count": 107,
     "metadata": {},
     "output_type": "execute_result"
    }
   ],
   "source": [
    "model_logisticRegression_2 = LogisticRegression(penalty='l2',\n",
    "                                                C=0.01,\n",
    "                                                class_weight='balanced',\n",
    "                                                solver='newton-cg',\n",
    "                                                tol=1e-2\n",
    "                                                )\n",
    "model_logisticRegression_2.fit(X_train, y_train)\n",
    "y_train_pred_logisticRegression_2 = model_logisticRegression_2.predict(X_train)\n",
    "get_model_report(y_train, y_train_pred_logisticRegression_2)"
   ]
  },
  {
   "cell_type": "code",
   "execution_count": 103,
   "metadata": {},
   "outputs": [
    {
     "name": "stdout",
     "output_type": "stream",
     "text": [
      "Model Accuracy: 0.034\n",
      "Model F1 Score: 0.013\n",
      "Model Precision: 0.034\n",
      "Model Recall: 0.034\n"
     ]
    },
    {
     "data": {
      "text/plain": [
       "0.03376666666666667"
      ]
     },
     "execution_count": 103,
     "metadata": {},
     "output_type": "execute_result"
    }
   ],
   "source": [
    "model_logisticRegression_3 = LogisticRegression(penalty='l2',\n",
    "                                                C=0.0001,\n",
    "                                                class_weight='balanced',\n",
    "                                                solver='newton-cg'\n",
    "                                                )\n",
    "model_logisticRegression_3.fit(X_train, y_train)\n",
    "y_train_pred_logisticRegression_3 = model_logisticRegression_3.predict(X_train)\n",
    "get_model_report(y_train, y_train_pred_logisticRegression_3)"
   ]
  },
  {
   "cell_type": "code",
   "execution_count": 108,
   "metadata": {},
   "outputs": [
    {
     "name": "stdout",
     "output_type": "stream",
     "text": [
      "Model Accuracy: 0.153\n",
      "Model F1 Score: 0.146\n",
      "Model Precision: 0.155\n",
      "Model Recall: 0.153\n"
     ]
    },
    {
     "data": {
      "text/plain": [
       "0.15326666666666666"
      ]
     },
     "execution_count": 108,
     "metadata": {},
     "output_type": "execute_result"
    }
   ],
   "source": [
    "model_logisticRegression_4 = LogisticRegression(penalty='l2',\n",
    "                                                C=0.1,\n",
    "                                                class_weight='balanced',\n",
    "                                                solver='lbfgs'\n",
    "                                                )\n",
    "model_logisticRegression_4.fit(X_train, y_train)\n",
    "y_train_pred_logisticRegression_4 = model_logisticRegression_4.predict(X_train)\n",
    "get_model_report(y_train, y_train_pred_logisticRegression_4)"
   ]
  },
  {
   "cell_type": "code",
   "execution_count": 109,
   "metadata": {},
   "outputs": [
    {
     "name": "stdout",
     "output_type": "stream",
     "text": [
      "Model Accuracy: 0.307\n",
      "Model F1 Score: 0.304\n",
      "Model Precision: 0.309\n",
      "Model Recall: 0.307\n"
     ]
    },
    {
     "data": {
      "text/plain": [
       "0.30746666666666667"
      ]
     },
     "execution_count": 109,
     "metadata": {},
     "output_type": "execute_result"
    }
   ],
   "source": [
    "model_logisticRegression_5 = LogisticRegression(penalty='l2',\n",
    "                                                C=1.0,\n",
    "                                                class_weight='balanced',\n",
    "                                                solver='newton-cg'\n",
    "                                                )\n",
    "model_logisticRegression_5.fit(X_train, y_train)\n",
    "y_train_pred_logisticRegression_5 = model_logisticRegression_5.predict(X_train)\n",
    "get_model_report(y_train, y_train_pred_logisticRegression_5)"
   ]
  },
  {
   "cell_type": "code",
   "execution_count": 110,
   "metadata": {},
   "outputs": [
    {
     "name": "stdout",
     "output_type": "stream",
     "text": [
      "Model Accuracy: 0.307\n",
      "Model F1 Score: 0.304\n",
      "Model Precision: 0.309\n",
      "Model Recall: 0.307\n",
      "Model Accuracy: 0.035\n",
      "Model F1 Score: 0.033\n",
      "Model Precision: 0.032\n",
      "Model Recall: 0.035\n"
     ]
    }
   ],
   "source": [
    "# adding model with best fit parameters to compare\n",
    "y_test_pred_logisticRegression_5 = model_logisticRegression_5.predict(X_val)\n",
    "\n",
    "logistic_regression_train_accuracy = get_model_report(y_train, y_train_pred_logisticRegression_5)\n",
    "logistic_regression_test_accuracy = get_model_report(y_val, y_test_pred_logisticRegression_5)\n",
    "models_summary = add_to_model_summary(models_summary, \n",
    "                                      'Logistic Regression', \n",
    "                                      logistic_regression_train_accuracy, \n",
    "                                      logistic_regression_test_accuracy)"
   ]
  },
  {
   "cell_type": "markdown",
   "metadata": {},
   "source": [
    "---\n",
    "##### Finding best parameters using Random Search CV"
   ]
  },
  {
   "cell_type": "code",
   "execution_count": null,
   "metadata": {},
   "outputs": [],
   "source": [
    "params = {\n",
    "            'solver': ['newton-cg', 'lbfgs', 'liblinear'],\n",
    "            'penalty': ['l1', 'l2', 'elasticnet'],\n",
    "            'C': [1e-5, 1e-4, 1e-3, 1e-2, 1e-1]\n",
    "         }"
   ]
  },
  {
   "cell_type": "code",
   "execution_count": null,
   "metadata": {},
   "outputs": [],
   "source": [
    "random_search_LG = RandomizedSearchCV(estimator=model_logisticRegression, \n",
    "                                   param_distributions=params, \n",
    "                                   cv=5, \n",
    "                                   n_jobs=-1,\n",
    "                                   n_iter=30,\n",
    "                                   verbose=2, \n",
    "                                   scoring = 'accuracy',\n",
    "                                   return_train_score = True)\n",
    "\n",
    "random_search_LG.fit(X_train, y_train)"
   ]
  },
  {
   "cell_type": "code",
   "execution_count": null,
   "metadata": {},
   "outputs": [],
   "source": [
    "random_search_LG_results_df = pd.DataFrame(random_search_LG.cv_results_)\n",
    "print(\"Combinations tried using Random Search CV: \", random_search_LG_results_df.shape[0])"
   ]
  },
  {
   "cell_type": "code",
   "execution_count": null,
   "metadata": {},
   "outputs": [],
   "source": [
    "random_search_LG_results_df.head(10)"
   ]
  },
  {
   "cell_type": "code",
   "execution_count": null,
   "metadata": {},
   "outputs": [],
   "source": [
    "fig = plot_cv_results(random_search_LG_results_df, 'solver', 'C')"
   ]
  },
  {
   "cell_type": "code",
   "execution_count": null,
   "metadata": {},
   "outputs": [],
   "source": [
    "print(\"Best parameters for the Logistic Regression based on Random Search CV: \\n\", random_search_LG.best_params_)"
   ]
  },
  {
   "cell_type": "code",
   "execution_count": null,
   "metadata": {},
   "outputs": [],
   "source": [
    "print(\"Best Score for the Logistic Regression based on Random Search CV:\", random_search_LG.best_score_)"
   ]
  },
  {
   "cell_type": "markdown",
   "metadata": {},
   "source": [
    "---\n",
    "##### Trying with best parameters obtained from Random Search CV"
   ]
  },
  {
   "cell_type": "code",
   "execution_count": null,
   "metadata": {},
   "outputs": [],
   "source": [
    "model_logisticRegression_best_params = LogisticRegression(solver='',\n",
    "                                                          C=,\n",
    "                                                          penalty='')"
   ]
  },
  {
   "cell_type": "code",
   "execution_count": null,
   "metadata": {},
   "outputs": [],
   "source": [
    "# Training with 70% dataset\n",
    "model_DecisionTree_best_params.fit(X_train_inventory, y_train_inventory)"
   ]
  },
  {
   "cell_type": "code",
   "execution_count": null,
   "metadata": {},
   "outputs": [],
   "source": [
    "y_pred_decision_tree = model_DecisionTree_best_params.predict(X_val)"
   ]
  },
  {
   "cell_type": "markdown",
   "metadata": {},
   "source": [
    "---"
   ]
  },
  {
   "cell_type": "markdown",
   "metadata": {},
   "source": [
    "## Model Comparison"
   ]
  },
  {
   "cell_type": "code",
   "execution_count": 111,
   "metadata": {},
   "outputs": [
    {
     "data": {
      "text/html": [
       "<div>\n",
       "<style scoped>\n",
       "    .dataframe tbody tr th:only-of-type {\n",
       "        vertical-align: middle;\n",
       "    }\n",
       "\n",
       "    .dataframe tbody tr th {\n",
       "        vertical-align: top;\n",
       "    }\n",
       "\n",
       "    .dataframe thead th {\n",
       "        text-align: right;\n",
       "    }\n",
       "</style>\n",
       "<table border=\"1\" class=\"dataframe\">\n",
       "  <thead>\n",
       "    <tr style=\"text-align: right;\">\n",
       "      <th></th>\n",
       "      <th>Model Name</th>\n",
       "      <th>Train Accuracy</th>\n",
       "      <th>Test Accuracy</th>\n",
       "    </tr>\n",
       "  </thead>\n",
       "  <tbody>\n",
       "    <tr>\n",
       "      <th>0</th>\n",
       "      <td>SGD Classifier</td>\n",
       "      <td>0.065967</td>\n",
       "      <td>0.01975</td>\n",
       "    </tr>\n",
       "    <tr>\n",
       "      <th>1</th>\n",
       "      <td>Multinomial NB</td>\n",
       "      <td>0.038467</td>\n",
       "      <td>0.03475</td>\n",
       "    </tr>\n",
       "    <tr>\n",
       "      <th>2</th>\n",
       "      <td>Gaussian NB</td>\n",
       "      <td>0.051000</td>\n",
       "      <td>0.04425</td>\n",
       "    </tr>\n",
       "    <tr>\n",
       "      <th>3</th>\n",
       "      <td>Complement NB</td>\n",
       "      <td>0.026600</td>\n",
       "      <td>0.02575</td>\n",
       "    </tr>\n",
       "    <tr>\n",
       "      <th>4</th>\n",
       "      <td>Mini KMeans</td>\n",
       "      <td>0.010233</td>\n",
       "      <td>0.00900</td>\n",
       "    </tr>\n",
       "    <tr>\n",
       "      <th>5</th>\n",
       "      <td>KMeans</td>\n",
       "      <td>0.009100</td>\n",
       "      <td>0.01050</td>\n",
       "    </tr>\n",
       "    <tr>\n",
       "      <th>6</th>\n",
       "      <td>Decision Tree</td>\n",
       "      <td>0.033233</td>\n",
       "      <td>0.03000</td>\n",
       "    </tr>\n",
       "    <tr>\n",
       "      <th>7</th>\n",
       "      <td>Logistic Regression</td>\n",
       "      <td>0.307467</td>\n",
       "      <td>0.03475</td>\n",
       "    </tr>\n",
       "  </tbody>\n",
       "</table>\n",
       "</div>"
      ],
      "text/plain": [
       "            Model Name  Train Accuracy  Test Accuracy\n",
       "0       SGD Classifier        0.065967        0.01975\n",
       "1       Multinomial NB        0.038467        0.03475\n",
       "2          Gaussian NB        0.051000        0.04425\n",
       "3        Complement NB        0.026600        0.02575\n",
       "4          Mini KMeans        0.010233        0.00900\n",
       "5               KMeans        0.009100        0.01050\n",
       "6        Decision Tree        0.033233        0.03000\n",
       "7  Logistic Regression        0.307467        0.03475"
      ]
     },
     "execution_count": 111,
     "metadata": {},
     "output_type": "execute_result"
    }
   ],
   "source": [
    "models_summary.head(10)"
   ]
  }
 ],
 "metadata": {
  "colab": {
   "collapsed_sections": [],
   "provenance": []
  },
  "kernelspec": {
   "display_name": "Python 3.9.13 64-bit",
   "language": "python",
   "name": "python3"
  },
  "language_info": {
   "codemirror_mode": {
    "name": "ipython",
    "version": 3
   },
   "file_extension": ".py",
   "mimetype": "text/x-python",
   "name": "python",
   "nbconvert_exporter": "python",
   "pygments_lexer": "ipython3",
   "version": "3.9.13"
  },
  "vscode": {
   "interpreter": {
    "hash": "11938c6bc6919ae2720b4d5011047913343b08a43b18698fd82dedb0d4417594"
   }
  }
 },
 "nbformat": 4,
 "nbformat_minor": 4
}
